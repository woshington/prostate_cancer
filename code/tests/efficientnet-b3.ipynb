{
 "cells": [
  {
   "cell_type": "code",
   "id": "initial_id",
   "metadata": {
    "collapsed": true,
    "ExecuteTime": {
     "end_time": "2025-10-03T01:43:47.281797Z",
     "start_time": "2025-10-03T01:43:44.034812Z"
    }
   },
   "source": [
    "from torch import optim\n",
    "from torchvision.models import efficientnet_b2, EfficientNet_B2_Weights\n",
    "import torch\n",
    "import random\n",
    "import numpy as np\n",
    "import torch.nn as nn\n",
    "import albumentations as Albu\n",
    "import pandas as pd\n",
    "from torch.utils.data.sampler import RandomSampler\n",
    "from warmup_scheduler import GradualWarmupScheduler\n",
    "import os\n",
    "from utils.dataset import PandasDataset\n",
    "from utils.metrics import model_checkpoint\n",
    "from utils.train import train_model\n",
    "from utils.models import EfficientNetApi"
   ],
   "outputs": [],
   "execution_count": 1
  },
  {
   "metadata": {
    "ExecuteTime": {
     "end_time": "2025-10-03T01:43:47.314669Z",
     "start_time": "2025-10-03T01:43:47.287743Z"
    }
   },
   "cell_type": "code",
   "source": [
    "seed = 42\n",
    "shuffle = True\n",
    "batch_size = 6\n",
    "num_workers = 4\n",
    "output_classes = 5\n",
    "init_lr = 3e-4\n",
    "warmup_factor = 2\n",
    "warmup_epochs = 1\n",
    "n_epochs = 50\n",
    "device = torch.device(\"cuda\" if torch.cuda.is_available() else \"cpu\")\n",
    "print(\"Using device:\", device)\n",
    "loss_function = nn.BCEWithLogitsLoss()\n",
    "\n",
    "torch.manual_seed(seed)\n",
    "random.seed(seed)\n",
    "np.random.seed(seed)\n",
    "\n",
    "ROOT_DIR = '../..'\n",
    "\n",
    "data_dir = '../../../dataset'\n",
    "images_dir = os.path.join(data_dir, 'tiles')"
   ],
   "id": "dd0dd4a007edd2e",
   "outputs": [
    {
     "name": "stdout",
     "output_type": "stream",
     "text": [
      "Using device: cuda\n"
     ]
    }
   ],
   "execution_count": 2
  },
  {
   "metadata": {
    "ExecuteTime": {
     "end_time": "2025-10-03T01:43:47.611913Z",
     "start_time": "2025-10-03T01:43:47.359380Z"
    }
   },
   "cell_type": "code",
   "source": [
    "load_model = efficientnet_b2(\n",
    "     weights=EfficientNet_B2_Weights.DEFAULT\n",
    ")\n",
    "model = EfficientNetApi(model=load_model, output_dimensions=output_classes, dropout_rate=0.6)\n",
    "model = model.to(device)"
   ],
   "id": "8c29f8b984a8d9db",
   "outputs": [],
   "execution_count": 3
  },
  {
   "metadata": {
    "ExecuteTime": {
     "end_time": "2025-10-03T01:43:47.620077Z",
     "start_time": "2025-10-03T01:43:47.617146Z"
    }
   },
   "cell_type": "code",
   "source": [
    "print(\"Using device:\", device)\n",
    "loss_function = nn.BCEWithLogitsLoss()\n",
    "\n",
    "torch.manual_seed(seed)\n",
    "random.seed(seed)\n",
    "np.random.seed(seed)"
   ],
   "id": "60f82f60c752b621",
   "outputs": [
    {
     "name": "stdout",
     "output_type": "stream",
     "text": [
      "Using device: cuda\n"
     ]
    }
   ],
   "execution_count": 4
  },
  {
   "metadata": {
    "ExecuteTime": {
     "end_time": "2025-10-03T01:43:47.678264Z",
     "start_time": "2025-10-03T01:43:47.664432Z"
    }
   },
   "cell_type": "code",
   "source": [
    "df_train_ = pd.read_csv(f\"{ROOT_DIR}/data/train_5fold.csv\")\n",
    "df_train_.columns = df_train_.columns.str.strip()\n",
    "train_indexes = np.where((df_train_['fold'] != 3))[0]\n",
    "valid_indexes = np.where((df_train_['fold'] == 3))[0]\n",
    "#\n",
    "df_train = df_train_.loc[train_indexes]\n",
    "df_val = df_train_.loc[valid_indexes]\n",
    "df_test = pd.read_csv(f\"{ROOT_DIR}/data/test.csv\")"
   ],
   "id": "46a8871de23df86d",
   "outputs": [],
   "execution_count": 5
  },
  {
   "metadata": {},
   "cell_type": "markdown",
   "source": "#### view data",
   "id": "1cb9b459182bdb9e"
  },
  {
   "metadata": {
    "ExecuteTime": {
     "end_time": "2025-10-03T01:43:47.716398Z",
     "start_time": "2025-10-03T01:43:47.711573Z"
    }
   },
   "cell_type": "code",
   "source": "(df_train.shape, df_val.shape, df_test.shape)",
   "id": "10bda54ab5800f27",
   "outputs": [
    {
     "data": {
      "text/plain": [
       "((7219, 5), (1805, 5), (1592, 4))"
      ]
     },
     "execution_count": 6,
     "metadata": {},
     "output_type": "execute_result"
    }
   ],
   "execution_count": 6
  },
  {
   "metadata": {
    "ExecuteTime": {
     "end_time": "2025-10-03T01:43:47.762529Z",
     "start_time": "2025-10-03T01:43:47.759205Z"
    }
   },
   "cell_type": "code",
   "source": [
    "transforms = Albu.Compose([\n",
    "    Albu.Transpose(p=0.5),\n",
    "    Albu.VerticalFlip(p=0.5),\n",
    "    Albu.HorizontalFlip(p=0.5),\n",
    "])"
   ],
   "id": "717d31fb6b3b5662",
   "outputs": [],
   "execution_count": 7
  },
  {
   "metadata": {
    "ExecuteTime": {
     "end_time": "2025-10-03T01:43:47.807214Z",
     "start_time": "2025-10-03T01:43:47.804592Z"
    }
   },
   "cell_type": "code",
   "source": [
    "df_train.columns = df_train.columns.str.strip()\n",
    "\n",
    "train_dataset = PandasDataset(images_dir, df_train, transforms=transforms)\n",
    "valid_dataset = PandasDataset(images_dir, df_val, transforms=None)\n",
    "test_dataset = PandasDataset(images_dir, df_test, transforms=None)"
   ],
   "id": "da7ea6c79bd4edc3",
   "outputs": [],
   "execution_count": 8
  },
  {
   "metadata": {
    "ExecuteTime": {
     "end_time": "2025-10-03T01:43:47.853431Z",
     "start_time": "2025-10-03T01:43:47.850603Z"
    }
   },
   "cell_type": "code",
   "source": [
    "train_loader = torch.utils.data.DataLoader(\n",
    "    train_dataset, batch_size=batch_size, num_workers=num_workers, sampler=RandomSampler(train_dataset)\n",
    ")\n",
    "valid_loader = torch.utils.data.DataLoader(\n",
    "    valid_dataset, batch_size=batch_size, num_workers=num_workers, sampler = RandomSampler(valid_dataset)\n",
    ")\n",
    "test_loader = torch.utils.data.DataLoader(\n",
    "    test_dataset, batch_size=batch_size, num_workers=num_workers, sampler = RandomSampler(test_dataset)\n",
    ")"
   ],
   "id": "91bbf5baeed04bbc",
   "outputs": [],
   "execution_count": 9
  },
  {
   "metadata": {
    "ExecuteTime": {
     "end_time": "2025-10-03T01:43:47.900454Z",
     "start_time": "2025-10-03T01:43:47.896323Z"
    }
   },
   "cell_type": "code",
   "source": [
    "optimizer = optim.Adam(model.parameters(), lr = init_lr / warmup_factor)\n",
    "scheduler_cosine = torch.optim.lr_scheduler.CosineAnnealingLR(optimizer, n_epochs - warmup_epochs)\n",
    "scheduler = GradualWarmupScheduler(optimizer, multiplier = warmup_factor, total_epoch = warmup_epochs, after_scheduler=scheduler_cosine)"
   ],
   "id": "1dd2b13574c25feb",
   "outputs": [],
   "execution_count": 10
  },
  {
   "metadata": {
    "ExecuteTime": {
     "end_time": "2025-10-03T03:19:23.317231Z",
     "start_time": "2025-10-03T01:43:47.945055Z"
    }
   },
   "cell_type": "code",
   "source": [
    "train_model(\n",
    "    model=model,\n",
    "    epochs=n_epochs,\n",
    "    optimizer=optimizer,\n",
    "    scheduler=scheduler,\n",
    "    train_dataloader=train_loader,\n",
    "    valid_dataloader=valid_loader,\n",
    "    checkpoint=model_checkpoint,\n",
    "    device=device,\n",
    "    loss_function=loss_function,\n",
    "    path_to_save_metrics=\"logs/b2.txt\",\n",
    "    path_to_save_model=\"models/b2.pth\",\n",
    "    patience=5,\n",
    ")"
   ],
   "id": "fbb75db9f37ddf1f",
   "outputs": [
    {
     "name": "stdout",
     "output_type": "stream",
     "text": [
      "Epoch 1/50\n",
      "\n"
     ]
    },
    {
     "name": "stderr",
     "output_type": "stream",
     "text": [
      "loss: 0.21219, smooth loss: 0.34523: 100%|██████████| 1204/1204 [13:47<00:00,  1.46it/s]\n",
      "100%|██████████| 301/301 [02:05<00:00,  2.40it/s]\n"
     ]
    },
    {
     "name": "stdout",
     "output_type": "stream",
     "text": [
      "VAL_LOSS     0.283\n",
      "VAL_ACC      Mean: 54.179 | Std: 1.170 | 95% CI: [52.355, 56.180]\n",
      "VAL_KAPPA    Mean: 0.779 | Std: 0.012 | 95% CI: [0.760, 0.798]\n",
      "VAL_F1       Mean: 0.455 | Std: 0.012 | 95% CI: [0.436, 0.474]\n",
      "VAL_RECALL   Mean: 0.464 | Std: 0.011 | 95% CI: [0.447, 0.482]\n",
      "VAL_PRECISION Mean: 0.558 | Std: 0.015 | 95% CI: [0.532, 0.582]\n",
      "Salvando o melhor modelo... 0.0 -> 0.7787572475555404\n",
      "Epoch 2/50\n",
      "\n"
     ]
    },
    {
     "name": "stderr",
     "output_type": "stream",
     "text": [
      "loss: 0.09602, smooth loss: 0.27118: 100%|██████████| 1204/1204 [13:48<00:00,  1.45it/s]\n",
      "100%|██████████| 301/301 [02:05<00:00,  2.40it/s]\n",
      "/home/woshington/Projects/Doutorado/repo/.venv/lib/python3.12/site-packages/torch/optim/lr_scheduler.py:1087: UserWarning: To get the last learning rate computed by the scheduler, please use `get_last_lr()`.\n",
      "  _warn_get_lr_called_within_step(self)\n"
     ]
    },
    {
     "name": "stdout",
     "output_type": "stream",
     "text": [
      "VAL_LOSS     0.283\n",
      "VAL_ACC      Mean: 54.036 | Std: 1.173 | 95% CI: [52.186, 56.122]\n",
      "VAL_KAPPA    Mean: 0.775 | Std: 0.012 | 95% CI: [0.756, 0.794]\n",
      "VAL_F1       Mean: 0.466 | Std: 0.012 | 95% CI: [0.447, 0.485]\n",
      "VAL_RECALL   Mean: 0.477 | Std: 0.011 | 95% CI: [0.459, 0.496]\n",
      "VAL_PRECISION Mean: 0.578 | Std: 0.013 | 95% CI: [0.557, 0.599]\n",
      "Epoch 3/50\n",
      "\n"
     ]
    },
    {
     "name": "stderr",
     "output_type": "stream",
     "text": [
      "loss: 0.04654, smooth loss: 0.17406: 100%|██████████| 1204/1204 [13:48<00:00,  1.45it/s]\n",
      "100%|██████████| 301/301 [02:05<00:00,  2.40it/s]\n"
     ]
    },
    {
     "name": "stdout",
     "output_type": "stream",
     "text": [
      "VAL_LOSS     0.413\n",
      "VAL_ACC      Mean: 54.052 | Std: 1.220 | 95% CI: [52.022, 56.014]\n",
      "VAL_KAPPA    Mean: 0.721 | Std: 0.014 | 95% CI: [0.697, 0.744]\n",
      "VAL_F1       Mean: 0.414 | Std: 0.011 | 95% CI: [0.395, 0.433]\n",
      "VAL_RECALL   Mean: 0.430 | Std: 0.010 | 95% CI: [0.414, 0.448]\n",
      "VAL_PRECISION Mean: 0.513 | Std: 0.021 | 95% CI: [0.477, 0.545]\n",
      "Epoch 4/50\n",
      "\n"
     ]
    },
    {
     "name": "stderr",
     "output_type": "stream",
     "text": [
      "loss: 0.02404, smooth loss: 0.12970: 100%|██████████| 1204/1204 [13:48<00:00,  1.45it/s]\n",
      "100%|██████████| 301/301 [02:05<00:00,  2.40it/s]\n"
     ]
    },
    {
     "name": "stdout",
     "output_type": "stream",
     "text": [
      "VAL_LOSS     0.388\n",
      "VAL_ACC      Mean: 58.462 | Std: 1.173 | 95% CI: [56.562, 60.501]\n",
      "VAL_KAPPA    Mean: 0.764 | Std: 0.014 | 95% CI: [0.742, 0.787]\n",
      "VAL_F1       Mean: 0.502 | Std: 0.012 | 95% CI: [0.482, 0.523]\n",
      "VAL_RECALL   Mean: 0.504 | Std: 0.011 | 95% CI: [0.486, 0.523]\n",
      "VAL_PRECISION Mean: 0.569 | Std: 0.014 | 95% CI: [0.546, 0.591]\n",
      "Epoch 5/50\n",
      "\n"
     ]
    },
    {
     "name": "stderr",
     "output_type": "stream",
     "text": [
      "loss: 0.03727, smooth loss: 0.10251: 100%|██████████| 1204/1204 [13:48<00:00,  1.45it/s]\n",
      "100%|██████████| 301/301 [02:05<00:00,  2.40it/s]\n"
     ]
    },
    {
     "name": "stdout",
     "output_type": "stream",
     "text": [
      "VAL_LOSS     0.523\n",
      "VAL_ACC      Mean: 57.147 | Std: 1.202 | 95% CI: [55.235, 59.224]\n",
      "VAL_KAPPA    Mean: 0.725 | Std: 0.015 | 95% CI: [0.699, 0.747]\n",
      "VAL_F1       Mean: 0.462 | Std: 0.012 | 95% CI: [0.442, 0.482]\n",
      "VAL_RECALL   Mean: 0.465 | Std: 0.011 | 95% CI: [0.448, 0.482]\n",
      "VAL_PRECISION Mean: 0.549 | Std: 0.014 | 95% CI: [0.525, 0.572]\n",
      "Epoch 6/50\n",
      "\n"
     ]
    },
    {
     "name": "stderr",
     "output_type": "stream",
     "text": [
      "loss: 0.01338, smooth loss: 0.08542: 100%|██████████| 1204/1204 [13:46<00:00,  1.46it/s]\n",
      "100%|██████████| 301/301 [02:05<00:00,  2.41it/s]\n"
     ]
    },
    {
     "name": "stdout",
     "output_type": "stream",
     "text": [
      "VAL_LOSS     0.493\n",
      "VAL_ACC      Mean: 58.728 | Std: 1.212 | 95% CI: [56.787, 60.668]\n",
      "VAL_KAPPA    Mean: 0.763 | Std: 0.014 | 95% CI: [0.740, 0.787]\n",
      "VAL_F1       Mean: 0.502 | Std: 0.013 | 95% CI: [0.481, 0.523]\n",
      "VAL_RECALL   Mean: 0.497 | Std: 0.012 | 95% CI: [0.478, 0.516]\n",
      "VAL_PRECISION Mean: 0.557 | Std: 0.014 | 95% CI: [0.534, 0.579]\n",
      "\n",
      "Early stopping at epoch 6. No improvement for 5 epochs.\n",
      "Best epoch: 1 with kappa: 0.7788\n"
     ]
    }
   ],
   "execution_count": 11
  },
  {
   "metadata": {},
   "cell_type": "markdown",
   "source": "# tests",
   "id": "b3c6a95b740a49f4"
  },
  {
   "metadata": {
    "ExecuteTime": {
     "end_time": "2025-10-03T03:21:06.915589Z",
     "start_time": "2025-10-03T03:19:23.423178Z"
    }
   },
   "cell_type": "code",
   "source": [
    "from utils.metrics import evaluation, format_metrics\n",
    "model.load_state_dict(\n",
    "    torch.load(f\"models/b2.pth\")\n",
    ")\n",
    "response = evaluation(model, test_loader, device)\n",
    "result = format_metrics(response[0])\n",
    "print(result)"
   ],
   "id": "38305795c1ae57c5",
   "outputs": [
    {
     "name": "stderr",
     "output_type": "stream",
     "text": [
      "100%|██████████| 266/266 [01:40<00:00,  2.64it/s]\n"
     ]
    },
    {
     "name": "stdout",
     "output_type": "stream",
     "text": [
      "VAL_ACC      Mean: 52.448 | Std: 1.269 | 95% CI: [50.314, 54.585]\n",
      "VAL_KAPPA    Mean: 0.779 | Std: 0.013 | 95% CI: [0.757, 0.799]\n",
      "VAL_F1       Mean: 0.434 | Std: 0.012 | 95% CI: [0.414, 0.455]\n",
      "VAL_RECALL   Mean: 0.451 | Std: 0.012 | 95% CI: [0.432, 0.471]\n",
      "VAL_PRECISION Mean: 0.558 | Std: 0.016 | 95% CI: [0.529, 0.583]\n"
     ]
    }
   ],
   "execution_count": 12
  }
 ],
 "metadata": {
  "kernelspec": {
   "display_name": "Python 3",
   "language": "python",
   "name": "python3"
  },
  "language_info": {
   "codemirror_mode": {
    "name": "ipython",
    "version": 2
   },
   "file_extension": ".py",
   "mimetype": "text/x-python",
   "name": "python",
   "nbconvert_exporter": "python",
   "pygments_lexer": "ipython2",
   "version": "2.7.6"
  }
 },
 "nbformat": 4,
 "nbformat_minor": 5
}
