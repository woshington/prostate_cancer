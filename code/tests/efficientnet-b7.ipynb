{
 "cells": [
  {
   "cell_type": "code",
   "id": "initial_id",
   "metadata": {
    "collapsed": true,
    "ExecuteTime": {
     "end_time": "2025-10-03T12:02:29.983541Z",
     "start_time": "2025-10-03T12:02:29.980793Z"
    }
   },
   "source": [
    "from torch import optim\n",
    "from torchvision.models import efficientnet_b3, EfficientNet_B3_Weights\n",
    "import torch\n",
    "import random\n",
    "import numpy as np\n",
    "import torch.nn as nn\n",
    "import albumentations as Albu\n",
    "import pandas as pd\n",
    "from torch.utils.data.sampler import RandomSampler\n",
    "from warmup_scheduler import GradualWarmupScheduler\n",
    "import os\n",
    "from utils.dataset import PandasDataset\n",
    "from utils.metrics import model_checkpoint\n",
    "from utils.train import train_model\n",
    "from utils.models import EfficientNetApi"
   ],
   "outputs": [],
   "execution_count": 5
  },
  {
   "metadata": {
    "ExecuteTime": {
     "end_time": "2025-10-03T12:02:30.032687Z",
     "start_time": "2025-10-03T12:02:30.028941Z"
    }
   },
   "cell_type": "code",
   "source": [
    "seed = 42\n",
    "shuffle = True\n",
    "batch_size = 6\n",
    "num_workers = 4\n",
    "output_classes = 5\n",
    "init_lr = 3e-4\n",
    "warmup_factor = 2\n",
    "warmup_epochs = 1\n",
    "n_epochs = 50\n",
    "device = torch.device(\"cuda\" if torch.cuda.is_available() else \"cpu\")\n",
    "print(\"Using device:\", device)\n",
    "loss_function = nn.BCEWithLogitsLoss()\n",
    "\n",
    "torch.manual_seed(seed)\n",
    "random.seed(seed)\n",
    "np.random.seed(seed)\n",
    "\n",
    "ROOT_DIR = '../..'\n",
    "\n",
    "data_dir = '../../../dataset'\n",
    "images_dir = os.path.join(data_dir, 'tiles')"
   ],
   "id": "dd0dd4a007edd2e",
   "outputs": [
    {
     "name": "stdout",
     "output_type": "stream",
     "text": [
      "Using device: cuda\n"
     ]
    }
   ],
   "execution_count": 6
  },
  {
   "metadata": {
    "ExecuteTime": {
     "end_time": "2025-10-03T12:02:30.308043Z",
     "start_time": "2025-10-03T12:02:30.085481Z"
    }
   },
   "cell_type": "code",
   "source": [
    "load_model = efficientnet_b3(\n",
    "     weights=EfficientNet_B3_Weights.DEFAULT\n",
    ")\n",
    "model = EfficientNetApi(model=load_model, output_dimensions=output_classes, dropout_rate=0.6)\n",
    "model = model.to(device)"
   ],
   "id": "8c29f8b984a8d9db",
   "outputs": [],
   "execution_count": 7
  },
  {
   "metadata": {
    "ExecuteTime": {
     "end_time": "2025-10-03T12:02:30.317225Z",
     "start_time": "2025-10-03T12:02:30.314138Z"
    }
   },
   "cell_type": "code",
   "source": [
    "print(\"Using device:\", device)\n",
    "loss_function = nn.BCEWithLogitsLoss()\n",
    "\n",
    "torch.manual_seed(seed)\n",
    "random.seed(seed)\n",
    "np.random.seed(seed)"
   ],
   "id": "60f82f60c752b621",
   "outputs": [
    {
     "name": "stdout",
     "output_type": "stream",
     "text": [
      "Using device: cuda\n"
     ]
    }
   ],
   "execution_count": 8
  },
  {
   "metadata": {
    "ExecuteTime": {
     "end_time": "2025-10-03T12:02:30.374425Z",
     "start_time": "2025-10-03T12:02:30.361705Z"
    }
   },
   "cell_type": "code",
   "source": [
    "df_train_ = pd.read_csv(f\"{ROOT_DIR}/data/train_5fold.csv\")\n",
    "df_train_.columns = df_train_.columns.str.strip()\n",
    "train_indexes = np.where((df_train_['fold'] != 3))[0]\n",
    "valid_indexes = np.where((df_train_['fold'] == 3))[0]\n",
    "#\n",
    "df_train = df_train_.loc[train_indexes]\n",
    "df_val = df_train_.loc[valid_indexes]\n",
    "df_test = pd.read_csv(f\"{ROOT_DIR}/data/test.csv\")"
   ],
   "id": "46a8871de23df86d",
   "outputs": [],
   "execution_count": 9
  },
  {
   "metadata": {},
   "cell_type": "markdown",
   "source": "#### view data",
   "id": "1cb9b459182bdb9e"
  },
  {
   "metadata": {
    "ExecuteTime": {
     "end_time": "2025-10-03T12:02:30.414295Z",
     "start_time": "2025-10-03T12:02:30.409374Z"
    }
   },
   "cell_type": "code",
   "source": "(df_train.shape, df_val.shape, df_test.shape)",
   "id": "10bda54ab5800f27",
   "outputs": [
    {
     "data": {
      "text/plain": [
       "((7219, 5), (1805, 5), (1592, 4))"
      ]
     },
     "execution_count": 10,
     "metadata": {},
     "output_type": "execute_result"
    }
   ],
   "execution_count": 10
  },
  {
   "metadata": {
    "ExecuteTime": {
     "end_time": "2025-10-03T12:02:30.463388Z",
     "start_time": "2025-10-03T12:02:30.459475Z"
    }
   },
   "cell_type": "code",
   "source": [
    "transforms = Albu.Compose([\n",
    "    Albu.Transpose(p=0.5),\n",
    "    Albu.VerticalFlip(p=0.5),\n",
    "    Albu.HorizontalFlip(p=0.5),\n",
    "])"
   ],
   "id": "717d31fb6b3b5662",
   "outputs": [],
   "execution_count": 11
  },
  {
   "metadata": {
    "ExecuteTime": {
     "end_time": "2025-10-03T12:02:30.508726Z",
     "start_time": "2025-10-03T12:02:30.506187Z"
    }
   },
   "cell_type": "code",
   "source": [
    "df_train.columns = df_train.columns.str.strip()\n",
    "\n",
    "train_dataset = PandasDataset(images_dir, df_train, transforms=transforms)\n",
    "valid_dataset = PandasDataset(images_dir, df_val, transforms=None)\n",
    "test_dataset = PandasDataset(images_dir, df_test, transforms=None)"
   ],
   "id": "da7ea6c79bd4edc3",
   "outputs": [],
   "execution_count": 12
  },
  {
   "metadata": {
    "ExecuteTime": {
     "end_time": "2025-10-03T12:02:30.555047Z",
     "start_time": "2025-10-03T12:02:30.552360Z"
    }
   },
   "cell_type": "code",
   "source": [
    "train_loader = torch.utils.data.DataLoader(\n",
    "    train_dataset, batch_size=batch_size, num_workers=num_workers, sampler=RandomSampler(train_dataset)\n",
    ")\n",
    "valid_loader = torch.utils.data.DataLoader(\n",
    "    valid_dataset, batch_size=batch_size, num_workers=num_workers, sampler = RandomSampler(valid_dataset)\n",
    ")\n",
    "test_loader = torch.utils.data.DataLoader(\n",
    "    test_dataset, batch_size=batch_size, num_workers=num_workers, sampler = RandomSampler(test_dataset)\n",
    ")"
   ],
   "id": "91bbf5baeed04bbc",
   "outputs": [],
   "execution_count": 13
  },
  {
   "metadata": {
    "ExecuteTime": {
     "end_time": "2025-10-03T12:02:30.601780Z",
     "start_time": "2025-10-03T12:02:30.598018Z"
    }
   },
   "cell_type": "code",
   "source": [
    "optimizer = optim.Adam(model.parameters(), lr = init_lr / warmup_factor)\n",
    "scheduler_cosine = torch.optim.lr_scheduler.CosineAnnealingLR(optimizer, n_epochs - warmup_epochs)\n",
    "scheduler = GradualWarmupScheduler(optimizer, multiplier = warmup_factor, total_epoch = warmup_epochs, after_scheduler=scheduler_cosine)"
   ],
   "id": "1dd2b13574c25feb",
   "outputs": [],
   "execution_count": 14
  },
  {
   "metadata": {
    "jupyter": {
     "is_executing": true
    },
    "ExecuteTime": {
     "start_time": "2025-10-03T12:02:30.647348Z"
    }
   },
   "cell_type": "code",
   "source": [
    "train_model(\n",
    "    model=model,\n",
    "    epochs=n_epochs,\n",
    "    optimizer=optimizer,\n",
    "    scheduler=scheduler,\n",
    "    train_dataloader=train_loader,\n",
    "    valid_dataloader=valid_loader,\n",
    "    checkpoint=model_checkpoint,\n",
    "    device=device,\n",
    "    loss_function=loss_function,\n",
    "    path_to_save_metrics=\"logs/b3.txt\",\n",
    "    path_to_save_model=\"models/b3.pth\",\n",
    "    patience=5,\n",
    ")"
   ],
   "id": "fbb75db9f37ddf1f",
   "outputs": [
    {
     "name": "stdout",
     "output_type": "stream",
     "text": [
      "Epoch 1/50\n",
      "\n"
     ]
    },
    {
     "name": "stderr",
     "output_type": "stream",
     "text": [
      "  0%|          | 0/1204 [00:00<?, ?it/s]"
     ]
    }
   ],
   "execution_count": null
  },
  {
   "metadata": {},
   "cell_type": "markdown",
   "source": "# tests",
   "id": "b3c6a95b740a49f4"
  },
  {
   "metadata": {
    "ExecuteTime": {
     "end_time": "2025-10-03T03:21:06.915589Z",
     "start_time": "2025-10-03T03:19:23.423178Z"
    }
   },
   "cell_type": "code",
   "source": [
    "from utils.metrics import evaluation, format_metrics\n",
    "model.load_state_dict(\n",
    "    torch.load(f\"models/b3.pth\")\n",
    ")\n",
    "response = evaluation(model, test_loader, device)\n",
    "result = format_metrics(response[0])\n",
    "print(result)"
   ],
   "id": "38305795c1ae57c5",
   "outputs": [
    {
     "name": "stderr",
     "output_type": "stream",
     "text": [
      "100%|██████████| 266/266 [01:40<00:00,  2.64it/s]\n"
     ]
    },
    {
     "name": "stdout",
     "output_type": "stream",
     "text": [
      "VAL_ACC      Mean: 52.448 | Std: 1.269 | 95% CI: [50.314, 54.585]\n",
      "VAL_KAPPA    Mean: 0.779 | Std: 0.013 | 95% CI: [0.757, 0.799]\n",
      "VAL_F1       Mean: 0.434 | Std: 0.012 | 95% CI: [0.414, 0.455]\n",
      "VAL_RECALL   Mean: 0.451 | Std: 0.012 | 95% CI: [0.432, 0.471]\n",
      "VAL_PRECISION Mean: 0.558 | Std: 0.016 | 95% CI: [0.529, 0.583]\n"
     ]
    }
   ],
   "execution_count": 12
  }
 ],
 "metadata": {
  "kernelspec": {
   "display_name": "Python 3",
   "language": "python",
   "name": "python3"
  },
  "language_info": {
   "codemirror_mode": {
    "name": "ipython",
    "version": 2
   },
   "file_extension": ".py",
   "mimetype": "text/x-python",
   "name": "python",
   "nbconvert_exporter": "python",
   "pygments_lexer": "ipython2",
   "version": "2.7.6"
  }
 },
 "nbformat": 4,
 "nbformat_minor": 5
}
