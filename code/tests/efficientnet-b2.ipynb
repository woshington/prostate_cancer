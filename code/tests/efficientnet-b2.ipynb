{
 "cells": [
  {
   "cell_type": "code",
   "id": "initial_id",
   "metadata": {
    "collapsed": true,
    "ExecuteTime": {
     "end_time": "2025-10-03T01:42:31.272673Z",
     "start_time": "2025-10-03T01:42:27.165177Z"
    }
   },
   "source": [
    "from torch import optim\n",
    "from torchvision.models import efficientnet_b2, EfficientNet_B2_Weights\n",
    "import torch\n",
    "import random\n",
    "import numpy as np\n",
    "import torch.nn as nn\n",
    "import albumentations as Albu\n",
    "import pandas as pd\n",
    "from torch.utils.data.sampler import RandomSampler\n",
    "from warmup_scheduler import GradualWarmupScheduler\n",
    "import os\n",
    "from utils.dataset import PandasDataset\n",
    "from utils.metrics import model_checkpoint\n",
    "from utils.train import train_model\n",
    "from utils.models import EfficientNetApi"
   ],
   "outputs": [
    {
     "ename": "NameError",
     "evalue": "name 'Literal' is not defined",
     "output_type": "error",
     "traceback": [
      "\u001B[31m---------------------------------------------------------------------------\u001B[39m",
      "\u001B[31mNameError\u001B[39m                                 Traceback (most recent call last)",
      "\u001B[36mCell\u001B[39m\u001B[36m \u001B[39m\u001B[32mIn[1]\u001B[39m\u001B[32m, line 15\u001B[39m\n\u001B[32m     13\u001B[39m \u001B[38;5;28;01mfrom\u001B[39;00m\u001B[38;5;250m \u001B[39m\u001B[34;01mutils\u001B[39;00m\u001B[34;01m.\u001B[39;00m\u001B[34;01mmetrics\u001B[39;00m\u001B[38;5;250m \u001B[39m\u001B[38;5;28;01mimport\u001B[39;00m model_checkpoint\n\u001B[32m     14\u001B[39m \u001B[38;5;28;01mfrom\u001B[39;00m\u001B[38;5;250m \u001B[39m\u001B[34;01mutils\u001B[39;00m\u001B[34;01m.\u001B[39;00m\u001B[34;01mtrain\u001B[39;00m\u001B[38;5;250m \u001B[39m\u001B[38;5;28;01mimport\u001B[39;00m train_model\n\u001B[32m---> \u001B[39m\u001B[32m15\u001B[39m \u001B[38;5;28;01mfrom\u001B[39;00m\u001B[38;5;250m \u001B[39m\u001B[34;01mutils\u001B[39;00m\u001B[34;01m.\u001B[39;00m\u001B[34;01mmodels\u001B[39;00m\u001B[38;5;250m \u001B[39m\u001B[38;5;28;01mimport\u001B[39;00m EfficientNetApi\n",
      "\u001B[36mFile \u001B[39m\u001B[32m~/Projects/Doutorado/repo/utils/models.py:189\u001B[39m\n\u001B[32m    185\u001B[39m     \u001B[38;5;28;01mdef\u001B[39;00m\u001B[38;5;250m \u001B[39m\u001B[34mget_last_lr\u001B[39m(\u001B[38;5;28mself\u001B[39m):\n\u001B[32m    186\u001B[39m         \u001B[38;5;28;01mreturn\u001B[39;00m [\u001B[38;5;28mself\u001B[39m.init_lr]\n\u001B[32m--> \u001B[39m\u001B[32m189\u001B[39m \u001B[38;5;28;43;01mclass\u001B[39;49;00m\u001B[38;5;250;43m \u001B[39;49m\u001B[34;43;01mEnsembleEfficientNet\u001B[39;49;00m\u001B[43m(\u001B[49m\u001B[43mnn\u001B[49m\u001B[43m.\u001B[49m\u001B[43mModule\u001B[49m\u001B[43m)\u001B[49m\u001B[43m:\u001B[49m\n\u001B[32m    190\u001B[39m \u001B[43m    \u001B[49m\u001B[38;5;28;43;01mdef\u001B[39;49;00m\u001B[38;5;250;43m \u001B[39;49m\u001B[34;43m__init__\u001B[39;49m\u001B[43m(\u001B[49m\n\u001B[32m    191\u001B[39m \u001B[43m            \u001B[49m\u001B[38;5;28;43mself\u001B[39;49m\u001B[43m,\u001B[49m\n\u001B[32m    192\u001B[39m \u001B[43m            \u001B[49m\u001B[43mmodels\u001B[49m\u001B[43m:\u001B[49m\u001B[43m \u001B[49m\u001B[43mList\u001B[49m\u001B[43m[\u001B[49m\u001B[43mnn\u001B[49m\u001B[43m.\u001B[49m\u001B[43mModule\u001B[49m\u001B[43m]\u001B[49m\u001B[43m,\u001B[49m\n\u001B[32m   (...)\u001B[39m\u001B[32m    195\u001B[39m \u001B[43m            \u001B[49m\u001B[43mtemperature\u001B[49m\u001B[43m:\u001B[49m\u001B[43m \u001B[49m\u001B[38;5;28;43mfloat\u001B[39;49m\u001B[43m \u001B[49m\u001B[43m=\u001B[49m\u001B[43m \u001B[49m\u001B[32;43m1.0\u001B[39;49m\n\u001B[32m    196\u001B[39m \u001B[43m    \u001B[49m\u001B[43m)\u001B[49m\u001B[43m:\u001B[49m\n\u001B[32m    197\u001B[39m \u001B[38;5;250;43m        \u001B[39;49m\u001B[33;43;03m\"\"\"\u001B[39;49;00m\n\u001B[32m    198\u001B[39m \u001B[33;43;03m        Ensemble de modelos com diferentes métodos de agregação.\u001B[39;49;00m\n\u001B[32m    199\u001B[39m \n\u001B[32m   (...)\u001B[39m\u001B[32m    209\u001B[39m \u001B[33;43;03m            temperature: Temperatura para suavização das probabilidades\u001B[39;49;00m\n\u001B[32m    210\u001B[39m \u001B[33;43;03m        \"\"\"\u001B[39;49;00m\n",
      "\u001B[36mFile \u001B[39m\u001B[32m~/Projects/Doutorado/repo/utils/models.py:193\u001B[39m, in \u001B[36mEnsembleEfficientNet\u001B[39m\u001B[34m()\u001B[39m\n\u001B[32m    189\u001B[39m \u001B[38;5;28;01mclass\u001B[39;00m\u001B[38;5;250m \u001B[39m\u001B[34;01mEnsembleEfficientNet\u001B[39;00m(nn.Module):\n\u001B[32m    190\u001B[39m     \u001B[38;5;28;01mdef\u001B[39;00m\u001B[38;5;250m \u001B[39m\u001B[34m__init__\u001B[39m(\n\u001B[32m    191\u001B[39m             \u001B[38;5;28mself\u001B[39m,\n\u001B[32m    192\u001B[39m             models: List[nn.Module],\n\u001B[32m--> \u001B[39m\u001B[32m193\u001B[39m             method: \u001B[43mLiteral\u001B[49m[\u001B[33m'\u001B[39m\u001B[33mmax\u001B[39m\u001B[33m'\u001B[39m, \u001B[33m'\u001B[39m\u001B[33mmean\u001B[39m\u001B[33m'\u001B[39m, \u001B[33m'\u001B[39m\u001B[33mweighted_mean\u001B[39m\u001B[33m'\u001B[39m, \u001B[33m'\u001B[39m\u001B[33mmajority_vote\u001B[39m\u001B[33m'\u001B[39m, \u001B[33m'\u001B[39m\u001B[33mweighted_vote\u001B[39m\u001B[33m'\u001B[39m] = \u001B[33m'\u001B[39m\u001B[33mmean\u001B[39m\u001B[33m'\u001B[39m,\n\u001B[32m    194\u001B[39m             weights: Optional[List[\u001B[38;5;28mfloat\u001B[39m]] = \u001B[38;5;28;01mNone\u001B[39;00m,\n\u001B[32m    195\u001B[39m             temperature: \u001B[38;5;28mfloat\u001B[39m = \u001B[32m1.0\u001B[39m\n\u001B[32m    196\u001B[39m     ):\n\u001B[32m    197\u001B[39m \u001B[38;5;250m        \u001B[39m\u001B[33;03m\"\"\"\u001B[39;00m\n\u001B[32m    198\u001B[39m \u001B[33;03m        Ensemble de modelos com diferentes métodos de agregação.\u001B[39;00m\n\u001B[32m    199\u001B[39m \n\u001B[32m   (...)\u001B[39m\u001B[32m    209\u001B[39m \u001B[33;03m            temperature: Temperatura para suavização das probabilidades\u001B[39;00m\n\u001B[32m    210\u001B[39m \u001B[33;03m        \"\"\"\u001B[39;00m\n\u001B[32m    211\u001B[39m         \u001B[38;5;28msuper\u001B[39m().\u001B[34m__init__\u001B[39m()\n",
      "\u001B[31mNameError\u001B[39m: name 'Literal' is not defined"
     ]
    }
   ],
   "execution_count": 1
  },
  {
   "metadata": {
    "ExecuteTime": {
     "end_time": "2025-10-03T01:42:31.278315425Z",
     "start_time": "2025-10-02T20:59:13.318153Z"
    }
   },
   "cell_type": "code",
   "source": [
    "seed = 42\n",
    "shuffle = True\n",
    "batch_size = 6\n",
    "num_workers = 4\n",
    "output_classes = 5\n",
    "init_lr = 3e-4\n",
    "warmup_factor = 2\n",
    "warmup_epochs = 1\n",
    "n_epochs = 50\n",
    "device = torch.device(\"cuda\" if torch.cuda.is_available() else \"cpu\")\n",
    "print(\"Using device:\", device)\n",
    "loss_function = nn.BCEWithLogitsLoss()\n",
    "\n",
    "torch.manual_seed(seed)\n",
    "random.seed(seed)\n",
    "np.random.seed(seed)\n",
    "\n",
    "ROOT_DIR = '../..'\n",
    "\n",
    "data_dir = '../../../dataset'\n",
    "images_dir = os.path.join(data_dir, 'tiles')"
   ],
   "id": "dd0dd4a007edd2e",
   "outputs": [
    {
     "name": "stdout",
     "output_type": "stream",
     "text": [
      "Using device: cuda\n"
     ]
    }
   ],
   "execution_count": 2
  },
  {
   "metadata": {
    "ExecuteTime": {
     "end_time": "2025-10-03T01:42:31.278780416Z",
     "start_time": "2025-10-02T20:59:13.386337Z"
    }
   },
   "cell_type": "code",
   "source": [
    "load_model = efficientnet_b2(\n",
    "     weights=EfficientNet_B2_Weights.DEFAULT\n",
    ")\n",
    "model = EfficientNetApi(model=load_model, output_dimensions=output_classes, dropout_rate=0.6)\n",
    "model = model.to(device)"
   ],
   "id": "8c29f8b984a8d9db",
   "outputs": [],
   "execution_count": 3
  },
  {
   "metadata": {
    "ExecuteTime": {
     "end_time": "2025-10-03T01:42:31.279103158Z",
     "start_time": "2025-10-02T20:59:13.599808Z"
    }
   },
   "cell_type": "code",
   "source": [
    "print(\"Using device:\", device)\n",
    "loss_function = nn.BCEWithLogitsLoss()\n",
    "\n",
    "torch.manual_seed(seed)\n",
    "random.seed(seed)\n",
    "np.random.seed(seed)"
   ],
   "id": "60f82f60c752b621",
   "outputs": [
    {
     "name": "stdout",
     "output_type": "stream",
     "text": [
      "Using device: cuda\n"
     ]
    }
   ],
   "execution_count": 4
  },
  {
   "metadata": {
    "ExecuteTime": {
     "end_time": "2025-10-03T01:42:31.279543001Z",
     "start_time": "2025-10-02T20:59:13.647878Z"
    }
   },
   "cell_type": "code",
   "source": [
    "df_train_ = pd.read_csv(f\"{ROOT_DIR}/data/train_5fold.csv\")\n",
    "df_train_.columns = df_train_.columns.str.strip()\n",
    "train_indexes = np.where((df_train_['fold'] != 3))[0]\n",
    "valid_indexes = np.where((df_train_['fold'] == 3))[0]\n",
    "#\n",
    "df_train = df_train_.loc[train_indexes]\n",
    "df_val = df_train_.loc[valid_indexes]\n",
    "df_test = pd.read_csv(f\"{ROOT_DIR}/data/test.csv\")"
   ],
   "id": "46a8871de23df86d",
   "outputs": [],
   "execution_count": 5
  },
  {
   "metadata": {},
   "cell_type": "markdown",
   "source": "#### view data",
   "id": "1cb9b459182bdb9e"
  },
  {
   "metadata": {
    "ExecuteTime": {
     "end_time": "2025-10-03T01:42:31.279845684Z",
     "start_time": "2025-10-02T20:59:13.696390Z"
    }
   },
   "cell_type": "code",
   "source": "(df_train.shape, df_val.shape, df_test.shape)",
   "id": "10bda54ab5800f27",
   "outputs": [
    {
     "data": {
      "text/plain": [
       "((7219, 5), (1805, 5), (1592, 4))"
      ]
     },
     "execution_count": 6,
     "metadata": {},
     "output_type": "execute_result"
    }
   ],
   "execution_count": 6
  },
  {
   "metadata": {
    "ExecuteTime": {
     "end_time": "2025-10-03T01:42:31.280294624Z",
     "start_time": "2025-10-02T20:59:13.747253Z"
    }
   },
   "cell_type": "code",
   "source": [
    "transforms = Albu.Compose([\n",
    "    Albu.Transpose(p=0.5),\n",
    "    Albu.VerticalFlip(p=0.5),\n",
    "    Albu.HorizontalFlip(p=0.5),\n",
    "])"
   ],
   "id": "717d31fb6b3b5662",
   "outputs": [],
   "execution_count": 7
  },
  {
   "metadata": {
    "ExecuteTime": {
     "end_time": "2025-10-03T01:42:31.280537234Z",
     "start_time": "2025-10-02T20:59:13.794205Z"
    }
   },
   "cell_type": "code",
   "source": [
    "df_train.columns = df_train.columns.str.strip()\n",
    "\n",
    "train_dataset = PandasDataset(images_dir, df_train, transforms=transforms)\n",
    "valid_dataset = PandasDataset(images_dir, df_val, transforms=None)\n",
    "test_dataset = PandasDataset(images_dir, df_test, transforms=None)"
   ],
   "id": "da7ea6c79bd4edc3",
   "outputs": [],
   "execution_count": 8
  },
  {
   "metadata": {
    "ExecuteTime": {
     "end_time": "2025-10-03T01:42:31.280791486Z",
     "start_time": "2025-10-02T20:59:13.841408Z"
    }
   },
   "cell_type": "code",
   "source": [
    "train_loader = torch.utils.data.DataLoader(\n",
    "    train_dataset, batch_size=batch_size, num_workers=num_workers, sampler=RandomSampler(train_dataset)\n",
    ")\n",
    "valid_loader = torch.utils.data.DataLoader(\n",
    "    valid_dataset, batch_size=batch_size, num_workers=num_workers, sampler = RandomSampler(valid_dataset)\n",
    ")\n",
    "test_loader = torch.utils.data.DataLoader(\n",
    "    test_dataset, batch_size=batch_size, num_workers=num_workers, sampler = RandomSampler(test_dataset)\n",
    ")"
   ],
   "id": "91bbf5baeed04bbc",
   "outputs": [],
   "execution_count": 9
  },
  {
   "metadata": {
    "ExecuteTime": {
     "end_time": "2025-10-03T01:42:31.281275092Z",
     "start_time": "2025-10-02T20:59:13.888599Z"
    }
   },
   "cell_type": "code",
   "source": [
    "optimizer = optim.Adam(model.parameters(), lr = init_lr / warmup_factor)\n",
    "scheduler_cosine = torch.optim.lr_scheduler.CosineAnnealingLR(optimizer, n_epochs - warmup_epochs)\n",
    "scheduler = GradualWarmupScheduler(optimizer, multiplier = warmup_factor, total_epoch = warmup_epochs, after_scheduler=scheduler_cosine)"
   ],
   "id": "1dd2b13574c25feb",
   "outputs": [],
   "execution_count": 10
  },
  {
   "metadata": {
    "ExecuteTime": {
     "end_time": "2025-10-03T01:42:31.281613062Z",
     "start_time": "2025-10-02T20:59:13.939581Z"
    }
   },
   "cell_type": "code",
   "source": [
    "train_model(\n",
    "    model=model,\n",
    "    epochs=n_epochs,\n",
    "    optimizer=optimizer,\n",
    "    scheduler=scheduler,\n",
    "    train_dataloader=train_loader,\n",
    "    valid_dataloader=valid_loader,\n",
    "    checkpoint=model_checkpoint,\n",
    "    device=device,\n",
    "    loss_function=loss_function,\n",
    "    path_to_save_metrics=\"logs/b2.txt\",\n",
    "    path_to_save_model=\"models/b2.pth\",\n",
    "    patience=5,\n",
    ")"
   ],
   "id": "fbb75db9f37ddf1f",
   "outputs": [
    {
     "name": "stdout",
     "output_type": "stream",
     "text": [
      "Epoch 1/50\n",
      "\n"
     ]
    },
    {
     "name": "stderr",
     "output_type": "stream",
     "text": [
      "loss: 0.25129, smooth loss: 0.33740: 100%|██████████| 1204/1204 [11:00<00:00,  1.82it/s]\n",
      "100%|██████████| 301/301 [01:32<00:00,  3.26it/s]\n"
     ]
    },
    {
     "name": "stdout",
     "output_type": "stream",
     "text": [
      "VAL_LOSS     0.281\n",
      "VAL_ACC      Mean: 52.278 | Std: 1.183 | 95% CI: [50.360, 54.241]\n",
      "VAL_KAPPA    Mean: 0.787 | Std: 0.011 | 95% CI: [0.768, 0.805]\n",
      "VAL_F1       Mean: 0.457 | Std: 0.012 | 95% CI: [0.437, 0.476]\n",
      "VAL_RECALL   Mean: 0.465 | Std: 0.011 | 95% CI: [0.446, 0.485]\n",
      "VAL_PRECISION Mean: 0.550 | Std: 0.014 | 95% CI: [0.527, 0.572]\n",
      "Salvando o melhor modelo... 0.0 -> 0.786536666439305\n",
      "Epoch 2/50\n",
      "\n"
     ]
    },
    {
     "name": "stderr",
     "output_type": "stream",
     "text": [
      "loss: 0.14834, smooth loss: 0.27134: 100%|██████████| 1204/1204 [10:30<00:00,  1.91it/s]\n",
      "100%|██████████| 301/301 [01:29<00:00,  3.35it/s]\n",
      "/home/woshington/Projects/Doutorado/repo/.venv/lib/python3.12/site-packages/torch/optim/lr_scheduler.py:1087: UserWarning: To get the last learning rate computed by the scheduler, please use `get_last_lr()`.\n",
      "  _warn_get_lr_called_within_step(self)\n"
     ]
    },
    {
     "name": "stdout",
     "output_type": "stream",
     "text": [
      "VAL_LOSS     0.284\n",
      "VAL_ACC      Mean: 56.038 | Std: 1.163 | 95% CI: [54.127, 58.006]\n",
      "VAL_KAPPA    Mean: 0.789 | Std: 0.012 | 95% CI: [0.770, 0.809]\n",
      "VAL_F1       Mean: 0.472 | Std: 0.012 | 95% CI: [0.452, 0.493]\n",
      "VAL_RECALL   Mean: 0.476 | Std: 0.011 | 95% CI: [0.458, 0.495]\n",
      "VAL_PRECISION Mean: 0.573 | Std: 0.011 | 95% CI: [0.555, 0.592]\n",
      "Salvando o melhor modelo... 0.786536666439305 -> 0.7892299375422803\n",
      "Epoch 3/50\n",
      "\n"
     ]
    },
    {
     "name": "stderr",
     "output_type": "stream",
     "text": [
      "loss: 0.06460, smooth loss: 0.17439: 100%|██████████| 1204/1204 [10:26<00:00,  1.92it/s]\n",
      "100%|██████████| 301/301 [01:29<00:00,  3.36it/s]\n"
     ]
    },
    {
     "name": "stdout",
     "output_type": "stream",
     "text": [
      "VAL_LOSS     0.346\n",
      "VAL_ACC      Mean: 53.896 | Std: 1.203 | 95% CI: [51.967, 55.903]\n",
      "VAL_KAPPA    Mean: 0.755 | Std: 0.013 | 95% CI: [0.733, 0.777]\n",
      "VAL_F1       Mean: 0.446 | Std: 0.012 | 95% CI: [0.427, 0.466]\n",
      "VAL_RECALL   Mean: 0.450 | Std: 0.011 | 95% CI: [0.433, 0.468]\n",
      "VAL_PRECISION Mean: 0.540 | Std: 0.013 | 95% CI: [0.518, 0.560]\n",
      "Epoch 4/50\n",
      "\n"
     ]
    },
    {
     "name": "stderr",
     "output_type": "stream",
     "text": [
      "loss: 0.03560, smooth loss: 0.13808: 100%|██████████| 1204/1204 [10:30<00:00,  1.91it/s]\n",
      "100%|██████████| 301/301 [01:30<00:00,  3.33it/s]\n"
     ]
    },
    {
     "name": "stdout",
     "output_type": "stream",
     "text": [
      "VAL_LOSS     0.344\n",
      "VAL_ACC      Mean: 53.725 | Std: 1.149 | 95% CI: [51.856, 55.626]\n",
      "VAL_KAPPA    Mean: 0.763 | Std: 0.012 | 95% CI: [0.743, 0.783]\n",
      "VAL_F1       Mean: 0.434 | Std: 0.011 | 95% CI: [0.417, 0.452]\n",
      "VAL_RECALL   Mean: 0.446 | Std: 0.010 | 95% CI: [0.430, 0.464]\n",
      "VAL_PRECISION Mean: 0.560 | Std: 0.009 | 95% CI: [0.545, 0.576]\n",
      "Epoch 5/50\n",
      "\n"
     ]
    },
    {
     "name": "stderr",
     "output_type": "stream",
     "text": [
      "loss: 0.02230, smooth loss: 0.10201: 100%|██████████| 1204/1204 [10:28<00:00,  1.92it/s]\n",
      "100%|██████████| 301/301 [01:30<00:00,  3.31it/s]\n"
     ]
    },
    {
     "name": "stdout",
     "output_type": "stream",
     "text": [
      "VAL_LOSS     0.318\n",
      "VAL_ACC      Mean: 59.682 | Std: 1.165 | 95% CI: [57.784, 61.609]\n",
      "VAL_KAPPA    Mean: 0.818 | Std: 0.011 | 95% CI: [0.799, 0.835]\n",
      "VAL_F1       Mean: 0.540 | Std: 0.012 | 95% CI: [0.519, 0.560]\n",
      "VAL_RECALL   Mean: 0.537 | Std: 0.012 | 95% CI: [0.516, 0.557]\n",
      "VAL_PRECISION Mean: 0.579 | Std: 0.012 | 95% CI: [0.559, 0.599]\n",
      "Salvando o melhor modelo... 0.7892299375422803 -> 0.8176330290307612\n",
      "Epoch 6/50\n",
      "\n"
     ]
    },
    {
     "name": "stderr",
     "output_type": "stream",
     "text": [
      "loss: 0.03094, smooth loss: 0.07442: 100%|██████████| 1204/1204 [10:24<00:00,  1.93it/s]\n",
      "100%|██████████| 301/301 [01:28<00:00,  3.39it/s]\n"
     ]
    },
    {
     "name": "stdout",
     "output_type": "stream",
     "text": [
      "VAL_LOSS     0.358\n",
      "VAL_ACC      Mean: 58.538 | Std: 1.170 | 95% CI: [56.731, 60.501]\n",
      "VAL_KAPPA    Mean: 0.818 | Std: 0.011 | 95% CI: [0.801, 0.836]\n",
      "VAL_F1       Mean: 0.531 | Std: 0.012 | 95% CI: [0.511, 0.551]\n",
      "VAL_RECALL   Mean: 0.529 | Std: 0.012 | 95% CI: [0.511, 0.549]\n",
      "VAL_PRECISION Mean: 0.569 | Std: 0.013 | 95% CI: [0.549, 0.589]\n",
      "Salvando o melhor modelo... 0.8176330290307612 -> 0.8181692650655135\n",
      "Epoch 7/50\n",
      "\n"
     ]
    },
    {
     "name": "stderr",
     "output_type": "stream",
     "text": [
      "loss: 0.01661, smooth loss: 0.07178: 100%|██████████| 1204/1204 [10:24<00:00,  1.93it/s]\n",
      "100%|██████████| 301/301 [01:29<00:00,  3.37it/s]\n"
     ]
    },
    {
     "name": "stdout",
     "output_type": "stream",
     "text": [
      "VAL_LOSS     0.382\n",
      "VAL_ACC      Mean: 58.333 | Std: 1.140 | 95% CI: [56.454, 60.277]\n",
      "VAL_KAPPA    Mean: 0.801 | Std: 0.012 | 95% CI: [0.782, 0.821]\n",
      "VAL_F1       Mean: 0.533 | Std: 0.012 | 95% CI: [0.514, 0.552]\n",
      "VAL_RECALL   Mean: 0.527 | Std: 0.012 | 95% CI: [0.508, 0.547]\n",
      "VAL_PRECISION Mean: 0.554 | Std: 0.012 | 95% CI: [0.536, 0.574]\n",
      "Epoch 8/50\n",
      "\n"
     ]
    },
    {
     "name": "stderr",
     "output_type": "stream",
     "text": [
      "loss: 0.00830, smooth loss: 0.06647: 100%|██████████| 1204/1204 [10:25<00:00,  1.92it/s]\n",
      "100%|██████████| 301/301 [01:29<00:00,  3.37it/s]\n"
     ]
    },
    {
     "name": "stdout",
     "output_type": "stream",
     "text": [
      "VAL_LOSS     0.398\n",
      "VAL_ACC      Mean: 59.526 | Std: 1.196 | 95% CI: [57.618, 61.496]\n",
      "VAL_KAPPA    Mean: 0.807 | Std: 0.012 | 95% CI: [0.786, 0.827]\n",
      "VAL_F1       Mean: 0.523 | Std: 0.013 | 95% CI: [0.502, 0.544]\n",
      "VAL_RECALL   Mean: 0.527 | Std: 0.012 | 95% CI: [0.507, 0.548]\n",
      "VAL_PRECISION Mean: 0.579 | Std: 0.014 | 95% CI: [0.557, 0.603]\n",
      "Epoch 9/50\n",
      "\n"
     ]
    },
    {
     "name": "stderr",
     "output_type": "stream",
     "text": [
      "loss: 0.01160, smooth loss: 0.04091: 100%|██████████| 1204/1204 [10:27<00:00,  1.92it/s]\n",
      "100%|██████████| 301/301 [01:29<00:00,  3.37it/s]\n"
     ]
    },
    {
     "name": "stdout",
     "output_type": "stream",
     "text": [
      "VAL_LOSS     0.440\n",
      "VAL_ACC      Mean: 59.853 | Std: 1.151 | 95% CI: [58.006, 61.717]\n",
      "VAL_KAPPA    Mean: 0.826 | Std: 0.011 | 95% CI: [0.808, 0.843]\n",
      "VAL_F1       Mean: 0.540 | Std: 0.012 | 95% CI: [0.521, 0.560]\n",
      "VAL_RECALL   Mean: 0.545 | Std: 0.012 | 95% CI: [0.526, 0.565]\n",
      "VAL_PRECISION Mean: 0.551 | Std: 0.012 | 95% CI: [0.533, 0.572]\n",
      "Salvando o melhor modelo... 0.8181692650655135 -> 0.8255615484803469\n",
      "Epoch 10/50\n",
      "\n"
     ]
    },
    {
     "name": "stderr",
     "output_type": "stream",
     "text": [
      "loss: 0.00898, smooth loss: 0.03455: 100%|██████████| 1204/1204 [10:26<00:00,  1.92it/s]\n",
      "100%|██████████| 301/301 [01:29<00:00,  3.37it/s]\n"
     ]
    },
    {
     "name": "stdout",
     "output_type": "stream",
     "text": [
      "VAL_LOSS     0.428\n",
      "VAL_ACC      Mean: 60.530 | Std: 1.162 | 95% CI: [58.670, 62.330]\n",
      "VAL_KAPPA    Mean: 0.832 | Std: 0.011 | 95% CI: [0.814, 0.850]\n",
      "VAL_F1       Mean: 0.552 | Std: 0.012 | 95% CI: [0.533, 0.572]\n",
      "VAL_RECALL   Mean: 0.555 | Std: 0.012 | 95% CI: [0.536, 0.575]\n",
      "VAL_PRECISION Mean: 0.564 | Std: 0.012 | 95% CI: [0.544, 0.583]\n",
      "Salvando o melhor modelo... 0.8255615484803469 -> 0.8321029280745594\n",
      "Epoch 11/50\n",
      "\n"
     ]
    },
    {
     "name": "stderr",
     "output_type": "stream",
     "text": [
      "loss: 0.00480, smooth loss: 0.02785: 100%|██████████| 1204/1204 [10:25<00:00,  1.92it/s]\n",
      "100%|██████████| 301/301 [01:29<00:00,  3.36it/s]\n"
     ]
    },
    {
     "name": "stdout",
     "output_type": "stream",
     "text": [
      "VAL_LOSS     0.501\n",
      "VAL_ACC      Mean: 60.888 | Std: 1.176 | 95% CI: [58.947, 62.717]\n",
      "VAL_KAPPA    Mean: 0.828 | Std: 0.011 | 95% CI: [0.809, 0.847]\n",
      "VAL_F1       Mean: 0.548 | Std: 0.012 | 95% CI: [0.527, 0.567]\n",
      "VAL_RECALL   Mean: 0.554 | Std: 0.012 | 95% CI: [0.533, 0.573]\n",
      "VAL_PRECISION Mean: 0.550 | Std: 0.012 | 95% CI: [0.529, 0.570]\n",
      "Epoch 12/50\n",
      "\n"
     ]
    },
    {
     "name": "stderr",
     "output_type": "stream",
     "text": [
      "loss: 0.00337, smooth loss: 0.02284: 100%|██████████| 1204/1204 [10:26<00:00,  1.92it/s]\n",
      "100%|██████████| 301/301 [01:29<00:00,  3.37it/s]\n"
     ]
    },
    {
     "name": "stdout",
     "output_type": "stream",
     "text": [
      "VAL_LOSS     0.542\n",
      "VAL_ACC      Mean: 62.438 | Std: 1.153 | 95% CI: [60.609, 64.432]\n",
      "VAL_KAPPA    Mean: 0.822 | Std: 0.012 | 95% CI: [0.803, 0.842]\n",
      "VAL_F1       Mean: 0.559 | Std: 0.012 | 95% CI: [0.540, 0.580]\n",
      "VAL_RECALL   Mean: 0.557 | Std: 0.012 | 95% CI: [0.538, 0.578]\n",
      "VAL_PRECISION Mean: 0.565 | Std: 0.013 | 95% CI: [0.545, 0.587]\n",
      "Epoch 13/50\n",
      "\n"
     ]
    },
    {
     "name": "stderr",
     "output_type": "stream",
     "text": [
      "loss: 0.02501, smooth loss: 0.02334: 100%|██████████| 1204/1204 [10:25<00:00,  1.93it/s]\n",
      "100%|██████████| 301/301 [01:29<00:00,  3.37it/s]\n"
     ]
    },
    {
     "name": "stdout",
     "output_type": "stream",
     "text": [
      "VAL_LOSS     0.426\n",
      "VAL_ACC      Mean: 62.208 | Std: 1.152 | 95% CI: [60.332, 64.100]\n",
      "VAL_KAPPA    Mean: 0.822 | Std: 0.012 | 95% CI: [0.803, 0.842]\n",
      "VAL_F1       Mean: 0.563 | Std: 0.012 | 95% CI: [0.544, 0.582]\n",
      "VAL_RECALL   Mean: 0.560 | Std: 0.012 | 95% CI: [0.540, 0.579]\n",
      "VAL_PRECISION Mean: 0.574 | Std: 0.012 | 95% CI: [0.555, 0.594]\n",
      "Epoch 14/50\n",
      "\n"
     ]
    },
    {
     "name": "stderr",
     "output_type": "stream",
     "text": [
      "loss: 0.00143, smooth loss: 0.02521: 100%|██████████| 1204/1204 [10:25<00:00,  1.92it/s]\n",
      "100%|██████████| 301/301 [01:29<00:00,  3.37it/s]\n"
     ]
    },
    {
     "name": "stdout",
     "output_type": "stream",
     "text": [
      "VAL_LOSS     0.479\n",
      "VAL_ACC      Mean: 61.992 | Std: 1.170 | 95% CI: [60.108, 63.936]\n",
      "VAL_KAPPA    Mean: 0.826 | Std: 0.012 | 95% CI: [0.807, 0.845]\n",
      "VAL_F1       Mean: 0.561 | Std: 0.012 | 95% CI: [0.542, 0.583]\n",
      "VAL_RECALL   Mean: 0.557 | Std: 0.012 | 95% CI: [0.538, 0.578]\n",
      "VAL_PRECISION Mean: 0.579 | Std: 0.012 | 95% CI: [0.558, 0.600]\n",
      "Epoch 15/50\n",
      "\n"
     ]
    },
    {
     "name": "stderr",
     "output_type": "stream",
     "text": [
      "loss: 0.00147, smooth loss: 0.02232: 100%|██████████| 1204/1204 [10:27<00:00,  1.92it/s]\n",
      "100%|██████████| 301/301 [01:29<00:00,  3.36it/s]\n"
     ]
    },
    {
     "name": "stdout",
     "output_type": "stream",
     "text": [
      "VAL_LOSS     0.557\n",
      "VAL_ACC      Mean: 63.502 | Std: 1.137 | 95% CI: [61.715, 65.429]\n",
      "VAL_KAPPA    Mean: 0.815 | Std: 0.013 | 95% CI: [0.795, 0.836]\n",
      "VAL_F1       Mean: 0.557 | Std: 0.012 | 95% CI: [0.537, 0.579]\n",
      "VAL_RECALL   Mean: 0.557 | Std: 0.011 | 95% CI: [0.538, 0.577]\n",
      "VAL_PRECISION Mean: 0.618 | Std: 0.013 | 95% CI: [0.597, 0.640]\n",
      "\n",
      "Early stopping at epoch 15. No improvement for 5 epochs.\n",
      "Best epoch: 10 with kappa: 0.8321\n"
     ]
    }
   ],
   "execution_count": 11
  },
  {
   "metadata": {},
   "cell_type": "markdown",
   "source": "# tests",
   "id": "b3c6a95b740a49f4"
  },
  {
   "metadata": {
    "ExecuteTime": {
     "end_time": "2025-10-03T01:42:31.282593629Z",
     "start_time": "2025-10-02T23:59:35.943353Z"
    }
   },
   "cell_type": "code",
   "source": [
    "from utils.metrics import evaluation, format_metrics\n",
    "model.load_state_dict(\n",
    "    torch.load(f\"models/b2.pth\")\n",
    ")\n",
    "response = evaluation(model, test_loader, device)\n",
    "result = format_metrics(response[0])\n",
    "print(result)"
   ],
   "id": "38305795c1ae57c5",
   "outputs": [
    {
     "name": "stderr",
     "output_type": "stream",
     "text": [
      "100%|██████████| 266/266 [01:10<00:00,  3.75it/s]\n"
     ]
    },
    {
     "name": "stdout",
     "output_type": "stream",
     "text": [
      "VAL_ACC      Mean: 59.282 | Std: 1.208 | 95% CI: [57.286, 61.244]\n",
      "VAL_KAPPA    Mean: 0.826 | Std: 0.012 | 95% CI: [0.806, 0.846]\n",
      "VAL_F1       Mean: 0.537 | Std: 0.013 | 95% CI: [0.516, 0.558]\n",
      "VAL_RECALL   Mean: 0.541 | Std: 0.013 | 95% CI: [0.520, 0.562]\n",
      "VAL_PRECISION Mean: 0.551 | Std: 0.013 | 95% CI: [0.530, 0.572]\n"
     ]
    }
   ],
   "execution_count": 12
  }
 ],
 "metadata": {
  "kernelspec": {
   "display_name": "Python 3",
   "language": "python",
   "name": "python3"
  },
  "language_info": {
   "codemirror_mode": {
    "name": "ipython",
    "version": 2
   },
   "file_extension": ".py",
   "mimetype": "text/x-python",
   "name": "python",
   "nbconvert_exporter": "python",
   "pygments_lexer": "ipython2",
   "version": "2.7.6"
  }
 },
 "nbformat": 4,
 "nbformat_minor": 5
}
