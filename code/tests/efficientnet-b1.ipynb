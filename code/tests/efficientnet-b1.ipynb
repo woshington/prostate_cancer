{
 "cells": [
  {
   "cell_type": "code",
   "id": "initial_id",
   "metadata": {
    "collapsed": true,
    "ExecuteTime": {
     "end_time": "2025-09-24T20:11:25.429826Z",
     "start_time": "2025-09-24T20:11:20.828336Z"
    }
   },
   "source": [
    "from torch import optim\n",
    "from torchvision.models import efficientnet_b0, EfficientNet_B0_Weights\n",
    "import torch\n",
    "import random\n",
    "import numpy as np\n",
    "import torch.nn as nn\n",
    "import albumentations as Albu\n",
    "import pandas as pd\n",
    "from torch.utils.data.sampler import RandomSampler\n",
    "from warmup_scheduler import GradualWarmupScheduler\n",
    "import os\n",
    "from utils.dataset import PandasDataset\n",
    "from utils.metrics import model_checkpoint\n",
    "from utils.train import train_model\n",
    "from utils.models import EfficientNetApi, EfficientNetApiGem"
   ],
   "outputs": [],
   "execution_count": 1
  },
  {
   "metadata": {
    "ExecuteTime": {
     "end_time": "2025-09-24T20:11:25.482783Z",
     "start_time": "2025-09-24T20:11:25.443314Z"
    }
   },
   "cell_type": "code",
   "source": [
    "seed = 42\n",
    "shuffle = True\n",
    "batch_size = 8\n",
    "num_workers = 4\n",
    "output_classes = 5\n",
    "init_lr = 3e-4\n",
    "warmup_factor = 10\n",
    "warmup_epochs = 1\n",
    "n_epochs = 50\n",
    "device = torch.device(\"cuda\" if torch.cuda.is_available() else \"cpu\")\n",
    "print(\"Using device:\", device)\n",
    "loss_function = nn.BCEWithLogitsLoss()\n",
    "\n",
    "torch.manual_seed(seed)\n",
    "random.seed(seed)\n",
    "np.random.seed(seed)\n",
    "\n",
    "ROOT_DIR = '../..'\n",
    "\n",
    "data_dir = '../../../dataset'\n",
    "images_dir = os.path.join(data_dir, 'tiles')"
   ],
   "id": "dd0dd4a007edd2e",
   "outputs": [
    {
     "name": "stdout",
     "output_type": "stream",
     "text": [
      "Using device: cuda\n"
     ]
    }
   ],
   "execution_count": 2
  },
  {
   "metadata": {
    "ExecuteTime": {
     "end_time": "2025-09-24T20:11:25.758978Z",
     "start_time": "2025-09-24T20:11:25.520799Z"
    }
   },
   "cell_type": "code",
   "source": [
    "load_model = efficientnet_b0(\n",
    "     weights=EfficientNet_B0_Weights.DEFAULT\n",
    ")\n",
    "model = EfficientNetApiGem(model=load_model, output_dimensions=output_classes)\n",
    "model = model.to(device)"
   ],
   "id": "8c29f8b984a8d9db",
   "outputs": [],
   "execution_count": 3
  },
  {
   "metadata": {
    "ExecuteTime": {
     "end_time": "2025-09-24T20:11:25.769275Z",
     "start_time": "2025-09-24T20:11:25.766257Z"
    }
   },
   "cell_type": "code",
   "source": [
    "print(\"Using device:\", device)\n",
    "loss_function = nn.BCEWithLogitsLoss()\n",
    "\n",
    "torch.manual_seed(seed)\n",
    "random.seed(seed)\n",
    "np.random.seed(seed)"
   ],
   "id": "60f82f60c752b621",
   "outputs": [
    {
     "name": "stdout",
     "output_type": "stream",
     "text": [
      "Using device: cuda\n"
     ]
    }
   ],
   "execution_count": 4
  },
  {
   "metadata": {
    "ExecuteTime": {
     "end_time": "2025-09-24T20:11:25.834878Z",
     "start_time": "2025-09-24T20:11:25.815250Z"
    }
   },
   "cell_type": "code",
   "source": [
    "df_train_ = pd.read_csv(f\"{ROOT_DIR}/data/train_5fold.csv\")\n",
    "df_train_.columns = df_train_.columns.str.strip()\n",
    "train_indexes = np.where((df_train_['fold'] != 3))[0]\n",
    "valid_indexes = np.where((df_train_['fold'] == 3))[0]\n",
    "#\n",
    "df_train = df_train_.loc[train_indexes]\n",
    "df_val = df_train_.loc[valid_indexes]\n",
    "df_test = pd.read_csv(f\"{ROOT_DIR}/data/test.csv\")"
   ],
   "id": "46a8871de23df86d",
   "outputs": [],
   "execution_count": 5
  },
  {
   "metadata": {},
   "cell_type": "markdown",
   "source": "#### view data",
   "id": "1cb9b459182bdb9e"
  },
  {
   "metadata": {
    "ExecuteTime": {
     "end_time": "2025-09-24T20:11:25.870441Z",
     "start_time": "2025-09-24T20:11:25.865895Z"
    }
   },
   "cell_type": "code",
   "source": "(df_train.shape, df_val.shape, df_test.shape)",
   "id": "10bda54ab5800f27",
   "outputs": [
    {
     "data": {
      "text/plain": [
       "((7219, 5), (1805, 5), (1592, 4))"
      ]
     },
     "execution_count": 6,
     "metadata": {},
     "output_type": "execute_result"
    }
   ],
   "execution_count": 6
  },
  {
   "metadata": {
    "ExecuteTime": {
     "end_time": "2025-09-24T20:11:25.923798Z",
     "start_time": "2025-09-24T20:11:25.920184Z"
    }
   },
   "cell_type": "code",
   "source": [
    "transforms = Albu.Compose([\n",
    "    Albu.Transpose(p=0.5),\n",
    "    Albu.VerticalFlip(p=0.5),\n",
    "    Albu.HorizontalFlip(p=0.5),\n",
    "])"
   ],
   "id": "717d31fb6b3b5662",
   "outputs": [],
   "execution_count": 7
  },
  {
   "metadata": {
    "ExecuteTime": {
     "end_time": "2025-09-24T20:11:25.971529Z",
     "start_time": "2025-09-24T20:11:25.968649Z"
    }
   },
   "cell_type": "code",
   "source": [
    "df_train.columns = df_train.columns.str.strip()\n",
    "\n",
    "train_dataset = PandasDataset(images_dir, df_train, transforms=transforms)\n",
    "valid_dataset = PandasDataset(images_dir, df_val, transforms=None)\n",
    "test_dataset = PandasDataset(images_dir, df_test, transforms=None)"
   ],
   "id": "da7ea6c79bd4edc3",
   "outputs": [],
   "execution_count": 8
  },
  {
   "metadata": {
    "ExecuteTime": {
     "end_time": "2025-09-24T20:11:26.020276Z",
     "start_time": "2025-09-24T20:11:26.017583Z"
    }
   },
   "cell_type": "code",
   "source": [
    "train_loader = torch.utils.data.DataLoader(\n",
    "    train_dataset, batch_size=batch_size, num_workers=num_workers, sampler=RandomSampler(train_dataset)\n",
    ")\n",
    "valid_loader = torch.utils.data.DataLoader(\n",
    "    valid_dataset, batch_size=batch_size, num_workers=num_workers, sampler = RandomSampler(valid_dataset)\n",
    ")\n",
    "test_loader = torch.utils.data.DataLoader(\n",
    "    test_dataset, batch_size=batch_size, num_workers=num_workers, sampler = RandomSampler(test_dataset)\n",
    ")"
   ],
   "id": "91bbf5baeed04bbc",
   "outputs": [],
   "execution_count": 9
  },
  {
   "metadata": {
    "ExecuteTime": {
     "end_time": "2025-09-24T20:11:28.551328Z",
     "start_time": "2025-09-24T20:11:28.547315Z"
    }
   },
   "cell_type": "code",
   "source": [
    "optimizer = optim.Adam(model.parameters(), lr = init_lr / warmup_factor)\n",
    "scheduler_cosine = torch.optim.lr_scheduler.CosineAnnealingLR(optimizer, n_epochs - warmup_epochs)\n",
    "scheduler = GradualWarmupScheduler(optimizer, multiplier = warmup_factor, total_epoch = warmup_epochs, after_scheduler=scheduler_cosine)"
   ],
   "id": "1dd2b13574c25feb",
   "outputs": [],
   "execution_count": 10
  },
  {
   "metadata": {
    "jupyter": {
     "is_executing": true
    },
    "ExecuteTime": {
     "start_time": "2025-09-24T16:40:55.167895Z"
    }
   },
   "cell_type": "code",
   "source": [
    "train_model(\n",
    "    model=model,\n",
    "    epochs=n_epochs,\n",
    "    optimizer=optimizer,\n",
    "    scheduler=scheduler,\n",
    "    train_dataloader=train_loader,\n",
    "    valid_dataloader=valid_loader,\n",
    "    checkpoint=model_checkpoint,\n",
    "    device=device,\n",
    "    loss_function=loss_function,\n",
    "    path_to_save_metrics=\"logs/with-noise-rgb.txt\",\n",
    "    path_to_save_model=\"models/efficientnet.pth\",\n",
    "    patience=5,\n",
    ")"
   ],
   "id": "fbb75db9f37ddf1f",
   "outputs": [
    {
     "name": "stdout",
     "output_type": "stream",
     "text": [
      "Epoch 1/50\n",
      "\n"
     ]
    },
    {
     "name": "stderr",
     "output_type": "stream",
     "text": [
      "loss: 0.36324, smooth loss: 0.38067: 100%|██████████| 903/903 [09:47<00:00,  1.54it/s]\n",
      "100%|██████████| 226/226 [01:34<00:00,  2.40it/s]\n"
     ]
    },
    {
     "name": "stdout",
     "output_type": "stream",
     "text": [
      "metrics {'val_loss': np.float32(0.33544368), 'val_acc': {'mean': np.float64(42.97844869494438), 'std': np.float64(1.1492846610278245), 'ci_5': np.float64(41.160665452480316), 'ci_95': np.float64(44.93074715137482)}, 'val_kappa': {'mean': np.float64(0.7305816838224273), 'std': np.float64(0.012443114199415871), 'ci_5': np.float64(0.7098967402685475), 'ci_95': np.float64(0.750981791758538)}, 'val_f1': {'mean': np.float64(0.37400432816147805), 'std': np.float64(0.011673420040754409), 'ci_5': np.float64(0.3559548154473305), 'ci_95': np.float64(0.39350510239601133)}, 'val_recall': {'mean': np.float64(0.3769598953127861), 'std': np.float64(0.010994732953855647), 'ci_5': np.float64(0.3595577135682106), 'ci_95': np.float64(0.39545731991529465)}, 'val_precision': {'mean': np.float64(0.46309591618180274), 'std': np.float64(0.014118803369824127), 'ci_5': np.float64(0.4395256504416466), 'ci_95': np.float64(0.4874818563461304)}}\n",
      "Salvando o melhor modelo... 0.0 -> 0.7305816838224273\n",
      "Epoch 2/50\n",
      "\n"
     ]
    },
    {
     "name": "stderr",
     "output_type": "stream",
     "text": [
      "loss: 0.47442, smooth loss: 0.31397:  94%|█████████▍| 848/903 [08:55<00:34,  1.59it/s]"
     ]
    }
   ],
   "execution_count": null
  },
  {
   "metadata": {},
   "cell_type": "markdown",
   "source": "# tests",
   "id": "b3c6a95b740a49f4"
  },
  {
   "metadata": {
    "ExecuteTime": {
     "end_time": "2025-09-24T20:12:50.667108Z",
     "start_time": "2025-09-24T20:11:32.100677Z"
    }
   },
   "cell_type": "code",
   "source": [
    "from utils.metrics import evaluation, format_metrics\n",
    "model.load_state_dict(\n",
    "    torch.load(f\"models/efficientnet.pth\")\n",
    ")\n",
    "response = evaluation(model, test_loader, device)\n",
    "result = format_metrics(response[0])\n",
    "print(result)"
   ],
   "id": "38305795c1ae57c5",
   "outputs": [
    {
     "name": "stderr",
     "output_type": "stream",
     "text": [
      "100%|██████████| 199/199 [01:15<00:00,  2.64it/s]\n"
     ]
    },
    {
     "name": "stdout",
     "output_type": "stream",
     "text": [
      "VAL_ACC      Mean: 62.51 | Std: 1.22 | 95% CI: [60.49, 64.45]\n",
      "VAL_KAPPA    Mean: 0.83 | Std: 0.01 | 95% CI: [0.80, 0.85]\n",
      "VAL_F1       Mean: 0.57 | Std: 0.01 | 95% CI: [0.55, 0.59]\n",
      "VAL_RECALL   Mean: 0.57 | Std: 0.01 | 95% CI: [0.55, 0.59]\n",
      "VAL_PRECISION Mean: 0.57 | Std: 0.01 | 95% CI: [0.55, 0.59]\n"
     ]
    }
   ],
   "execution_count": 11
  }
 ],
 "metadata": {
  "kernelspec": {
   "display_name": "Python 3",
   "language": "python",
   "name": "python3"
  },
  "language_info": {
   "codemirror_mode": {
    "name": "ipython",
    "version": 2
   },
   "file_extension": ".py",
   "mimetype": "text/x-python",
   "name": "python",
   "nbconvert_exporter": "python",
   "pygments_lexer": "ipython2",
   "version": "2.7.6"
  }
 },
 "nbformat": 4,
 "nbformat_minor": 5
}
