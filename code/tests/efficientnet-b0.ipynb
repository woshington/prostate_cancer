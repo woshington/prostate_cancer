{
 "cells": [
  {
   "cell_type": "code",
   "id": "initial_id",
   "metadata": {
    "collapsed": true,
    "ExecuteTime": {
     "end_time": "2025-10-02T14:50:50.840370Z",
     "start_time": "2025-10-02T14:50:50.837063Z"
    }
   },
   "source": [
    "from torch import optim\n",
    "from torchvision.models import efficientnet_b1, EfficientNet_B1_Weights\n",
    "import torch\n",
    "import random\n",
    "import numpy as np\n",
    "import torch.nn as nn\n",
    "import albumentations as Albu\n",
    "import pandas as pd\n",
    "from torch.utils.data.sampler import RandomSampler\n",
    "from warmup_scheduler import GradualWarmupScheduler\n",
    "import os\n",
    "from utils.dataset import PandasDataset\n",
    "from utils.metrics import model_checkpoint\n",
    "from utils.train import train_model\n",
    "from utils.models import EfficientNetApi"
   ],
   "outputs": [],
   "execution_count": 4
  },
  {
   "metadata": {
    "ExecuteTime": {
     "end_time": "2025-10-02T14:50:50.850885Z",
     "start_time": "2025-10-02T14:50:50.845893Z"
    }
   },
   "cell_type": "code",
   "source": [
    "seed = 42\n",
    "shuffle = True\n",
    "batch_size = 6\n",
    "num_workers = 4\n",
    "output_classes = 5\n",
    "init_lr = 3e-4\n",
    "warmup_factor = 2\n",
    "warmup_epochs = 1\n",
    "n_epochs = 50\n",
    "device = torch.device(\"cuda\" if torch.cuda.is_available() else \"cpu\")\n",
    "print(\"Using device:\", device)\n",
    "loss_function = nn.BCEWithLogitsLoss()\n",
    "\n",
    "torch.manual_seed(seed)\n",
    "random.seed(seed)\n",
    "np.random.seed(seed)\n",
    "\n",
    "ROOT_DIR = '../..'\n",
    "\n",
    "data_dir = '../../../dataset'\n",
    "images_dir = os.path.join(data_dir, 'tiles')"
   ],
   "id": "dd0dd4a007edd2e",
   "outputs": [
    {
     "name": "stdout",
     "output_type": "stream",
     "text": [
      "Using device: cuda\n"
     ]
    }
   ],
   "execution_count": 5
  },
  {
   "metadata": {
    "ExecuteTime": {
     "end_time": "2025-10-02T14:50:51.109518Z",
     "start_time": "2025-10-02T14:50:50.895713Z"
    }
   },
   "cell_type": "code",
   "source": [
    "load_model = efficientnet_b1(\n",
    "     weights=EfficientNet_B1_Weights.DEFAULT\n",
    ")\n",
    "model = EfficientNetApi(model=load_model, output_dimensions=output_classes, dropout_rate=0.6)\n",
    "model = model.to(device)"
   ],
   "id": "8c29f8b984a8d9db",
   "outputs": [],
   "execution_count": 6
  },
  {
   "metadata": {
    "ExecuteTime": {
     "end_time": "2025-10-02T14:50:51.117231Z",
     "start_time": "2025-10-02T14:50:51.113906Z"
    }
   },
   "cell_type": "code",
   "source": [
    "print(\"Using device:\", device)\n",
    "loss_function = nn.BCEWithLogitsLoss()\n",
    "\n",
    "torch.manual_seed(seed)\n",
    "random.seed(seed)\n",
    "np.random.seed(seed)"
   ],
   "id": "60f82f60c752b621",
   "outputs": [
    {
     "name": "stdout",
     "output_type": "stream",
     "text": [
      "Using device: cuda\n"
     ]
    }
   ],
   "execution_count": 7
  },
  {
   "metadata": {
    "ExecuteTime": {
     "end_time": "2025-10-02T14:50:51.174432Z",
     "start_time": "2025-10-02T14:50:51.161183Z"
    }
   },
   "cell_type": "code",
   "source": [
    "df_train_ = pd.read_csv(f\"{ROOT_DIR}/data/train_5fold.csv\")\n",
    "df_train_.columns = df_train_.columns.str.strip()\n",
    "train_indexes = np.where((df_train_['fold'] != 3))[0]\n",
    "valid_indexes = np.where((df_train_['fold'] == 3))[0]\n",
    "#\n",
    "df_train = df_train_.loc[train_indexes]\n",
    "df_val = df_train_.loc[valid_indexes]\n",
    "df_test = pd.read_csv(f\"{ROOT_DIR}/data/test.csv\")"
   ],
   "id": "46a8871de23df86d",
   "outputs": [],
   "execution_count": 8
  },
  {
   "metadata": {},
   "cell_type": "markdown",
   "source": "#### view data",
   "id": "1cb9b459182bdb9e"
  },
  {
   "metadata": {
    "ExecuteTime": {
     "end_time": "2025-10-02T14:50:51.212988Z",
     "start_time": "2025-10-02T14:50:51.208479Z"
    }
   },
   "cell_type": "code",
   "source": "(df_train.shape, df_val.shape, df_test.shape)",
   "id": "10bda54ab5800f27",
   "outputs": [
    {
     "data": {
      "text/plain": [
       "((7219, 5), (1805, 5), (1592, 4))"
      ]
     },
     "execution_count": 9,
     "metadata": {},
     "output_type": "execute_result"
    }
   ],
   "execution_count": 9
  },
  {
   "metadata": {
    "ExecuteTime": {
     "end_time": "2025-10-02T14:50:51.261340Z",
     "start_time": "2025-10-02T14:50:51.257190Z"
    }
   },
   "cell_type": "code",
   "source": [
    "transforms = Albu.Compose([\n",
    "    Albu.Transpose(p=0.5),\n",
    "    Albu.VerticalFlip(p=0.5),\n",
    "    Albu.HorizontalFlip(p=0.5),\n",
    "])"
   ],
   "id": "717d31fb6b3b5662",
   "outputs": [],
   "execution_count": 10
  },
  {
   "metadata": {
    "ExecuteTime": {
     "end_time": "2025-10-02T14:50:51.307170Z",
     "start_time": "2025-10-02T14:50:51.304531Z"
    }
   },
   "cell_type": "code",
   "source": [
    "df_train.columns = df_train.columns.str.strip()\n",
    "\n",
    "train_dataset = PandasDataset(images_dir, df_train, transforms=transforms)\n",
    "valid_dataset = PandasDataset(images_dir, df_val, transforms=None)\n",
    "test_dataset = PandasDataset(images_dir, df_test, transforms=None)"
   ],
   "id": "da7ea6c79bd4edc3",
   "outputs": [],
   "execution_count": 11
  },
  {
   "metadata": {
    "ExecuteTime": {
     "end_time": "2025-10-02T14:50:51.354712Z",
     "start_time": "2025-10-02T14:50:51.351624Z"
    }
   },
   "cell_type": "code",
   "source": [
    "train_loader = torch.utils.data.DataLoader(\n",
    "    train_dataset, batch_size=batch_size, num_workers=num_workers, sampler=RandomSampler(train_dataset)\n",
    ")\n",
    "valid_loader = torch.utils.data.DataLoader(\n",
    "    valid_dataset, batch_size=batch_size, num_workers=num_workers, sampler = RandomSampler(valid_dataset)\n",
    ")\n",
    "test_loader = torch.utils.data.DataLoader(\n",
    "    test_dataset, batch_size=batch_size, num_workers=num_workers, sampler = RandomSampler(test_dataset)\n",
    ")"
   ],
   "id": "91bbf5baeed04bbc",
   "outputs": [],
   "execution_count": 12
  },
  {
   "metadata": {
    "ExecuteTime": {
     "end_time": "2025-10-02T14:50:51.401727Z",
     "start_time": "2025-10-02T14:50:51.398382Z"
    }
   },
   "cell_type": "code",
   "source": [
    "optimizer = optim.Adam(model.parameters(), lr = init_lr / warmup_factor)\n",
    "scheduler_cosine = torch.optim.lr_scheduler.CosineAnnealingLR(optimizer, n_epochs - warmup_epochs)\n",
    "scheduler = GradualWarmupScheduler(optimizer, multiplier = warmup_factor, total_epoch = warmup_epochs, after_scheduler=scheduler_cosine)"
   ],
   "id": "1dd2b13574c25feb",
   "outputs": [],
   "execution_count": 13
  },
  {
   "metadata": {
    "ExecuteTime": {
     "end_time": "2025-10-02T18:29:09.815838Z",
     "start_time": "2025-10-02T14:50:51.446871Z"
    }
   },
   "cell_type": "code",
   "source": [
    "train_model(\n",
    "    model=model,\n",
    "    epochs=n_epochs,\n",
    "    optimizer=optimizer,\n",
    "    scheduler=scheduler,\n",
    "    train_dataloader=train_loader,\n",
    "    valid_dataloader=valid_loader,\n",
    "    checkpoint=model_checkpoint,\n",
    "    device=device,\n",
    "    loss_function=loss_function,\n",
    "    path_to_save_metrics=\"logs/b1.txt\",\n",
    "    path_to_save_model=\"models/b1.pth\",\n",
    "    patience=5,\n",
    ")"
   ],
   "id": "fbb75db9f37ddf1f",
   "outputs": [
    {
     "name": "stdout",
     "output_type": "stream",
     "text": [
      "Epoch 1/50\n",
      "\n"
     ]
    },
    {
     "name": "stderr",
     "output_type": "stream",
     "text": [
      "loss: 0.26871, smooth loss: 0.34580: 100%|██████████| 1204/1204 [13:12<00:00,  1.52it/s]\n",
      "100%|██████████| 301/301 [01:55<00:00,  2.61it/s]\n"
     ]
    },
    {
     "name": "stdout",
     "output_type": "stream",
     "text": [
      "VAL_LOSS     0.292\n",
      "VAL_ACC      Mean: 50.277 | Std: 1.151 | 95% CI: [48.421, 52.078]\n",
      "VAL_KAPPA    Mean: 0.768 | Std: 0.012 | 95% CI: [0.749, 0.786]\n",
      "VAL_F1       Mean: 0.434 | Std: 0.012 | 95% CI: [0.415, 0.454]\n",
      "VAL_RECALL   Mean: 0.434 | Std: 0.011 | 95% CI: [0.416, 0.452]\n",
      "VAL_PRECISION Mean: 0.528 | Std: 0.013 | 95% CI: [0.506, 0.550]\n",
      "Salvando o melhor modelo... 0.0 -> 0.7679253809124893\n",
      "Epoch 2/50\n",
      "\n"
     ]
    },
    {
     "name": "stderr",
     "output_type": "stream",
     "text": [
      "loss: 0.17449, smooth loss: 0.27641: 100%|██████████| 1204/1204 [12:39<00:00,  1.59it/s]\n",
      "100%|██████████| 301/301 [01:55<00:00,  2.60it/s]\n",
      "/home/woshington/Projects/Doutorado/repo/.venv/lib/python3.12/site-packages/torch/optim/lr_scheduler.py:1087: UserWarning: To get the last learning rate computed by the scheduler, please use `get_last_lr()`.\n",
      "  _warn_get_lr_called_within_step(self)\n"
     ]
    },
    {
     "name": "stdout",
     "output_type": "stream",
     "text": [
      "VAL_LOSS     0.290\n",
      "VAL_ACC      Mean: 54.809 | Std: 1.150 | 95% CI: [52.909, 56.676]\n",
      "VAL_KAPPA    Mean: 0.768 | Std: 0.012 | 95% CI: [0.748, 0.787]\n",
      "VAL_F1       Mean: 0.456 | Std: 0.012 | 95% CI: [0.436, 0.475]\n",
      "VAL_RECALL   Mean: 0.461 | Std: 0.011 | 95% CI: [0.443, 0.478]\n",
      "VAL_PRECISION Mean: 0.558 | Std: 0.013 | 95% CI: [0.535, 0.579]\n",
      "Salvando o melhor modelo... 0.7679253809124893 -> 0.7681001925213348\n",
      "Epoch 3/50\n",
      "\n"
     ]
    },
    {
     "name": "stderr",
     "output_type": "stream",
     "text": [
      "loss: 0.08349, smooth loss: 0.18228: 100%|██████████| 1204/1204 [12:38<00:00,  1.59it/s]\n",
      "100%|██████████| 301/301 [01:55<00:00,  2.60it/s]\n"
     ]
    },
    {
     "name": "stdout",
     "output_type": "stream",
     "text": [
      "VAL_LOSS     0.284\n",
      "VAL_ACC      Mean: 58.060 | Std: 1.151 | 95% CI: [56.230, 60.000]\n",
      "VAL_KAPPA    Mean: 0.803 | Std: 0.012 | 95% CI: [0.783, 0.822]\n",
      "VAL_F1       Mean: 0.503 | Std: 0.012 | 95% CI: [0.482, 0.523]\n",
      "VAL_RECALL   Mean: 0.498 | Std: 0.011 | 95% CI: [0.479, 0.517]\n",
      "VAL_PRECISION Mean: 0.547 | Std: 0.013 | 95% CI: [0.525, 0.569]\n",
      "Salvando o melhor modelo... 0.7681001925213348 -> 0.8029652612767363\n",
      "Epoch 4/50\n",
      "\n"
     ]
    },
    {
     "name": "stderr",
     "output_type": "stream",
     "text": [
      "loss: 0.03991, smooth loss: 0.12235: 100%|██████████| 1204/1204 [12:41<00:00,  1.58it/s]\n",
      "100%|██████████| 301/301 [01:55<00:00,  2.60it/s]\n"
     ]
    },
    {
     "name": "stdout",
     "output_type": "stream",
     "text": [
      "VAL_LOSS     0.358\n",
      "VAL_ACC      Mean: 55.461 | Std: 1.183 | 95% CI: [53.573, 57.507]\n",
      "VAL_KAPPA    Mean: 0.766 | Std: 0.013 | 95% CI: [0.744, 0.788]\n",
      "VAL_F1       Mean: 0.476 | Std: 0.012 | 95% CI: [0.456, 0.497]\n",
      "VAL_RECALL   Mean: 0.470 | Std: 0.012 | 95% CI: [0.451, 0.490]\n",
      "VAL_PRECISION Mean: 0.537 | Std: 0.014 | 95% CI: [0.516, 0.561]\n",
      "Epoch 5/50\n",
      "\n"
     ]
    },
    {
     "name": "stderr",
     "output_type": "stream",
     "text": [
      "loss: 0.01760, smooth loss: 0.08798: 100%|██████████| 1204/1204 [13:44<00:00,  1.46it/s]\n",
      "100%|██████████| 301/301 [02:14<00:00,  2.24it/s]\n"
     ]
    },
    {
     "name": "stdout",
     "output_type": "stream",
     "text": [
      "VAL_LOSS     0.458\n",
      "VAL_ACC      Mean: 57.010 | Std: 1.213 | 95% CI: [55.014, 59.003]\n",
      "VAL_KAPPA    Mean: 0.749 | Std: 0.014 | 95% CI: [0.727, 0.772]\n",
      "VAL_F1       Mean: 0.452 | Std: 0.012 | 95% CI: [0.433, 0.472]\n",
      "VAL_RECALL   Mean: 0.450 | Std: 0.010 | 95% CI: [0.434, 0.468]\n",
      "VAL_PRECISION Mean: 0.510 | Std: 0.014 | 95% CI: [0.489, 0.533]\n",
      "Epoch 6/50\n",
      "\n"
     ]
    },
    {
     "name": "stderr",
     "output_type": "stream",
     "text": [
      "loss: 0.01118, smooth loss: 0.06584: 100%|██████████| 1204/1204 [14:57<00:00,  1.34it/s]\n",
      "100%|██████████| 301/301 [02:14<00:00,  2.24it/s]\n"
     ]
    },
    {
     "name": "stdout",
     "output_type": "stream",
     "text": [
      "VAL_LOSS     0.365\n",
      "VAL_ACC      Mean: 61.442 | Std: 1.141 | 95% CI: [59.665, 63.324]\n",
      "VAL_KAPPA    Mean: 0.818 | Std: 0.012 | 95% CI: [0.798, 0.837]\n",
      "VAL_F1       Mean: 0.551 | Std: 0.012 | 95% CI: [0.532, 0.572]\n",
      "VAL_RECALL   Mean: 0.545 | Std: 0.012 | 95% CI: [0.526, 0.565]\n",
      "VAL_PRECISION Mean: 0.575 | Std: 0.012 | 95% CI: [0.556, 0.595]\n",
      "Salvando o melhor modelo... 0.8029652612767363 -> 0.8179133476043071\n",
      "Epoch 7/50\n",
      "\n"
     ]
    },
    {
     "name": "stderr",
     "output_type": "stream",
     "text": [
      "loss: 0.01852, smooth loss: 0.05566: 100%|██████████| 1204/1204 [14:45<00:00,  1.36it/s]\n",
      "100%|██████████| 301/301 [01:55<00:00,  2.61it/s]\n"
     ]
    },
    {
     "name": "stdout",
     "output_type": "stream",
     "text": [
      "VAL_LOSS     0.368\n",
      "VAL_ACC      Mean: 62.631 | Std: 1.164 | 95% CI: [60.831, 64.654]\n",
      "VAL_KAPPA    Mean: 0.825 | Std: 0.012 | 95% CI: [0.806, 0.845]\n",
      "VAL_F1       Mean: 0.564 | Std: 0.012 | 95% CI: [0.545, 0.585]\n",
      "VAL_RECALL   Mean: 0.560 | Std: 0.012 | 95% CI: [0.540, 0.580]\n",
      "VAL_PRECISION Mean: 0.573 | Std: 0.013 | 95% CI: [0.553, 0.595]\n",
      "Salvando o melhor modelo... 0.8179133476043071 -> 0.8252063291363636\n",
      "Epoch 8/50\n",
      "\n"
     ]
    },
    {
     "name": "stderr",
     "output_type": "stream",
     "text": [
      "loss: 0.00698, smooth loss: 0.04239: 100%|██████████| 1204/1204 [13:21<00:00,  1.50it/s]\n",
      "100%|██████████| 301/301 [01:58<00:00,  2.53it/s]\n"
     ]
    },
    {
     "name": "stdout",
     "output_type": "stream",
     "text": [
      "VAL_LOSS     0.384\n",
      "VAL_ACC      Mean: 63.034 | Std: 1.168 | 95% CI: [61.108, 64.986]\n",
      "VAL_KAPPA    Mean: 0.827 | Std: 0.012 | 95% CI: [0.807, 0.845]\n",
      "VAL_F1       Mean: 0.567 | Std: 0.012 | 95% CI: [0.546, 0.587]\n",
      "VAL_RECALL   Mean: 0.562 | Std: 0.012 | 95% CI: [0.543, 0.582]\n",
      "VAL_PRECISION Mean: 0.580 | Std: 0.013 | 95% CI: [0.559, 0.601]\n",
      "Salvando o melhor modelo... 0.8252063291363636 -> 0.8266492107073063\n",
      "Epoch 9/50\n",
      "\n"
     ]
    },
    {
     "name": "stderr",
     "output_type": "stream",
     "text": [
      "loss: 0.00690, smooth loss: 0.04040: 100%|██████████| 1204/1204 [13:07<00:00,  1.53it/s]\n",
      "100%|██████████| 301/301 [01:58<00:00,  2.53it/s]\n"
     ]
    },
    {
     "name": "stdout",
     "output_type": "stream",
     "text": [
      "VAL_LOSS     0.403\n",
      "VAL_ACC      Mean: 63.379 | Std: 1.135 | 95% CI: [61.551, 65.263]\n",
      "VAL_KAPPA    Mean: 0.839 | Std: 0.011 | 95% CI: [0.821, 0.856]\n",
      "VAL_F1       Mean: 0.575 | Std: 0.012 | 95% CI: [0.554, 0.594]\n",
      "VAL_RECALL   Mean: 0.572 | Std: 0.012 | 95% CI: [0.552, 0.591]\n",
      "VAL_PRECISION Mean: 0.586 | Std: 0.013 | 95% CI: [0.565, 0.606]\n",
      "Salvando o melhor modelo... 0.8266492107073063 -> 0.8389711731209907\n",
      "Epoch 10/50\n",
      "\n"
     ]
    },
    {
     "name": "stderr",
     "output_type": "stream",
     "text": [
      "loss: 0.01284, smooth loss: 0.04473: 100%|██████████| 1204/1204 [13:40<00:00,  1.47it/s]\n",
      "100%|██████████| 301/301 [02:01<00:00,  2.47it/s]\n"
     ]
    },
    {
     "name": "stdout",
     "output_type": "stream",
     "text": [
      "VAL_LOSS     0.438\n",
      "VAL_ACC      Mean: 59.919 | Std: 1.137 | 95% CI: [58.116, 61.776]\n",
      "VAL_KAPPA    Mean: 0.821 | Std: 0.012 | 95% CI: [0.801, 0.840]\n",
      "VAL_F1       Mean: 0.547 | Std: 0.012 | 95% CI: [0.528, 0.567]\n",
      "VAL_RECALL   Mean: 0.544 | Std: 0.012 | 95% CI: [0.524, 0.564]\n",
      "VAL_PRECISION Mean: 0.563 | Std: 0.012 | 95% CI: [0.543, 0.583]\n",
      "Epoch 11/50\n",
      "\n"
     ]
    },
    {
     "name": "stderr",
     "output_type": "stream",
     "text": [
      "loss: 0.00517, smooth loss: 0.04511: 100%|██████████| 1204/1204 [13:55<00:00,  1.44it/s]\n",
      "100%|██████████| 301/301 [02:12<00:00,  2.28it/s]\n"
     ]
    },
    {
     "name": "stdout",
     "output_type": "stream",
     "text": [
      "VAL_LOSS     0.455\n",
      "VAL_ACC      Mean: 62.314 | Std: 1.168 | 95% CI: [60.443, 64.266]\n",
      "VAL_KAPPA    Mean: 0.825 | Std: 0.012 | 95% CI: [0.806, 0.846]\n",
      "VAL_F1       Mean: 0.558 | Std: 0.012 | 95% CI: [0.538, 0.579]\n",
      "VAL_RECALL   Mean: 0.551 | Std: 0.012 | 95% CI: [0.533, 0.572]\n",
      "VAL_PRECISION Mean: 0.575 | Std: 0.013 | 95% CI: [0.554, 0.597]\n",
      "Epoch 12/50\n",
      "\n"
     ]
    },
    {
     "name": "stderr",
     "output_type": "stream",
     "text": [
      "loss: 0.00137, smooth loss: 0.02283: 100%|██████████| 1204/1204 [14:15<00:00,  1.41it/s]\n",
      "100%|██████████| 301/301 [02:01<00:00,  2.49it/s]\n"
     ]
    },
    {
     "name": "stdout",
     "output_type": "stream",
     "text": [
      "VAL_LOSS     0.475\n",
      "VAL_ACC      Mean: 63.332 | Std: 1.139 | 95% CI: [61.496, 65.266]\n",
      "VAL_KAPPA    Mean: 0.814 | Std: 0.012 | 95% CI: [0.794, 0.834]\n",
      "VAL_F1       Mean: 0.568 | Std: 0.012 | 95% CI: [0.549, 0.588]\n",
      "VAL_RECALL   Mean: 0.559 | Std: 0.012 | 95% CI: [0.540, 0.579]\n",
      "VAL_PRECISION Mean: 0.592 | Std: 0.013 | 95% CI: [0.572, 0.613]\n",
      "Epoch 13/50\n",
      "\n"
     ]
    },
    {
     "name": "stderr",
     "output_type": "stream",
     "text": [
      "loss: 0.00471, smooth loss: 0.00935: 100%|██████████| 1204/1204 [13:24<00:00,  1.50it/s]\n",
      "100%|██████████| 301/301 [02:00<00:00,  2.51it/s]\n"
     ]
    },
    {
     "name": "stdout",
     "output_type": "stream",
     "text": [
      "VAL_LOSS     0.539\n",
      "VAL_ACC      Mean: 64.724 | Std: 1.125 | 95% CI: [62.881, 66.537]\n",
      "VAL_KAPPA    Mean: 0.814 | Std: 0.013 | 95% CI: [0.792, 0.835]\n",
      "VAL_F1       Mean: 0.581 | Std: 0.012 | 95% CI: [0.560, 0.601]\n",
      "VAL_RECALL   Mean: 0.572 | Std: 0.012 | 95% CI: [0.552, 0.591]\n",
      "VAL_PRECISION Mean: 0.606 | Std: 0.013 | 95% CI: [0.585, 0.626]\n",
      "Epoch 14/50\n",
      "\n"
     ]
    },
    {
     "name": "stderr",
     "output_type": "stream",
     "text": [
      "loss: 0.01329, smooth loss: 0.01138: 100%|██████████| 1204/1204 [12:57<00:00,  1.55it/s]\n",
      "100%|██████████| 301/301 [01:58<00:00,  2.54it/s]\n"
     ]
    },
    {
     "name": "stdout",
     "output_type": "stream",
     "text": [
      "VAL_LOSS     0.505\n",
      "VAL_ACC      Mean: 64.774 | Std: 1.139 | 95% CI: [62.825, 66.593]\n",
      "VAL_KAPPA    Mean: 0.828 | Std: 0.012 | 95% CI: [0.809, 0.848]\n",
      "VAL_F1       Mean: 0.591 | Std: 0.012 | 95% CI: [0.571, 0.612]\n",
      "VAL_RECALL   Mean: 0.586 | Std: 0.012 | 95% CI: [0.567, 0.607]\n",
      "VAL_PRECISION Mean: 0.600 | Std: 0.013 | 95% CI: [0.580, 0.622]\n",
      "\n",
      "Early stopping at epoch 14. No improvement for 5 epochs.\n",
      "Best epoch: 9 with kappa: 0.8390\n"
     ]
    }
   ],
   "execution_count": 14
  },
  {
   "metadata": {},
   "cell_type": "markdown",
   "source": "# tests",
   "id": "b3c6a95b740a49f4"
  },
  {
   "metadata": {
    "ExecuteTime": {
     "end_time": "2025-10-02T18:30:49.217382Z",
     "start_time": "2025-10-02T18:29:09.896546Z"
    }
   },
   "cell_type": "code",
   "source": [
    "from utils.metrics import evaluation, format_metrics\n",
    "model.load_state_dict(\n",
    "    torch.load(f\"models/b1.pth\")\n",
    ")\n",
    "response = evaluation(model, test_loader, device)\n",
    "result = format_metrics(response[0])\n",
    "print(result)"
   ],
   "id": "38305795c1ae57c5",
   "outputs": [
    {
     "name": "stderr",
     "output_type": "stream",
     "text": [
      "100%|██████████| 266/266 [01:36<00:00,  2.75it/s]\n"
     ]
    },
    {
     "name": "stdout",
     "output_type": "stream",
     "text": [
      "VAL_ACC      Mean: 63.799 | Std: 1.159 | 95% CI: [61.935, 65.704]\n",
      "VAL_KAPPA    Mean: 0.834 | Std: 0.013 | 95% CI: [0.812, 0.854]\n",
      "VAL_F1       Mean: 0.572 | Std: 0.013 | 95% CI: [0.553, 0.594]\n",
      "VAL_RECALL   Mean: 0.569 | Std: 0.013 | 95% CI: [0.550, 0.591]\n",
      "VAL_PRECISION Mean: 0.584 | Std: 0.013 | 95% CI: [0.563, 0.606]\n"
     ]
    }
   ],
   "execution_count": 15
  }
 ],
 "metadata": {
  "kernelspec": {
   "display_name": "Python 3",
   "language": "python",
   "name": "python3"
  },
  "language_info": {
   "codemirror_mode": {
    "name": "ipython",
    "version": 2
   },
   "file_extension": ".py",
   "mimetype": "text/x-python",
   "name": "python",
   "nbconvert_exporter": "python",
   "pygments_lexer": "ipython2",
   "version": "2.7.6"
  }
 },
 "nbformat": 4,
 "nbformat_minor": 5
}
