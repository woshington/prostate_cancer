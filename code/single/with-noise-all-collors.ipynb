{
 "cells": [
  {
   "cell_type": "code",
   "id": "initial_id",
   "metadata": {
    "collapsed": true,
    "ExecuteTime": {
     "end_time": "2025-04-23T01:47:19.253111Z",
     "start_time": "2025-04-23T01:47:17.291726Z"
    }
   },
   "source": [
    "import os\n",
    "import numpy as np\n",
    "import pandas as pd\n",
    "import torch\n",
    "import torch.nn as nn\n",
    "import torch.optim as optim\n",
    "from torch.utils.data.sampler import RandomSampler\n",
    "from warmup_scheduler import GradualWarmupScheduler\n",
    "import albumentations\n",
    "from work.utils.dataset import MultiColorSpaceTransform, PandasDataset\n",
    "from work.utils.models import EfficientNet, EfficientNetMultiColor\n",
    "from work.utils.train import train_model\n",
    "from work.utils.metrics import model_checkpoint\n",
    "import random"
   ],
   "outputs": [],
   "execution_count": 1
  },
  {
   "metadata": {
    "ExecuteTime": {
     "end_time": "2025-04-23T01:47:19.357750Z",
     "start_time": "2025-04-23T01:47:19.347762Z"
    }
   },
   "cell_type": "code",
   "source": [
    "backbone_model = 'efficientnet-b0'\n",
    "pretrained_model = {\n",
    "    backbone_model: '../pre-trained-models/efficientnet-b0-08094119.pth'\n",
    "}\n",
    "\n",
    "data_dir = '../../dataset'\n",
    "images_dir = os.path.join(data_dir, 'tiles')\n",
    "\n",
    "df_train = pd.read_csv(f\"../data/train_5fold.csv\")"
   ],
   "id": "89c625053bfdc045",
   "outputs": [],
   "execution_count": 2
  },
  {
   "metadata": {
    "ExecuteTime": {
     "end_time": "2025-04-23T01:47:19.436448Z",
     "start_time": "2025-04-23T01:47:19.398089Z"
    }
   },
   "cell_type": "code",
   "source": [
    "seed = 42\n",
    "shuffle = True\n",
    "batch_size = 2\n",
    "num_workers = 4\n",
    "output_classes = 5\n",
    "init_lr = 3e-4\n",
    "warmup_factor = 10\n",
    "warmup_epochs = 1\n",
    "n_epochs = 15\n",
    "device = torch.device(\"cuda\" if torch.cuda.is_available() else \"cpu\")\n",
    "print(\"Using device:\", device)\n",
    "loss_function = nn.BCEWithLogitsLoss()\n",
    "\n",
    "torch.manual_seed(seed)\n",
    "random.seed(seed)\n",
    "np.random.seed(seed)\n"
   ],
   "id": "2faaaf16ba1cb99d",
   "outputs": [
    {
     "name": "stdout",
     "output_type": "stream",
     "text": [
      "Using device: cuda\n"
     ]
    }
   ],
   "execution_count": 3
  },
  {
   "metadata": {
    "ExecuteTime": {
     "end_time": "2025-04-23T01:47:19.453998Z",
     "start_time": "2025-04-23T01:47:19.449624Z"
    }
   },
   "cell_type": "code",
   "source": [
    "transforms = albumentations.Compose([\n",
    "    MultiColorSpaceTransform(),\n",
    "    albumentations.Transpose(p=0.5),\n",
    "    albumentations.VerticalFlip(p=0.5),\n",
    "    albumentations.HorizontalFlip(p=0.5),\n",
    "])\n",
    "\n",
    "valid_transforms =albumentations.Compose([\n",
    "    MultiColorSpaceTransform()\n",
    "])"
   ],
   "id": "8a3c826458d85295",
   "outputs": [],
   "execution_count": 4
  },
  {
   "metadata": {
    "ExecuteTime": {
     "end_time": "2025-04-23T01:47:19.504344Z",
     "start_time": "2025-04-23T01:47:19.500121Z"
    }
   },
   "cell_type": "code",
   "source": [
    "df_train.columns = df_train.columns.str.strip()\n",
    "\n",
    "train_indexes = np.where((df_train['fold'] != 3))[0]\n",
    "valid_indexes = np.where((df_train['fold'] == 3))[0]\n",
    "\n",
    "train = df_train.loc[train_indexes]\n",
    "valid = df_train.loc[valid_indexes]\n",
    "\n",
    "train_dataset = PandasDataset(images_dir, train, transforms=transforms)\n",
    "valid_dataset = PandasDataset(images_dir, valid, transforms=valid_transforms)"
   ],
   "id": "9747f8ec90aa7c9",
   "outputs": [],
   "execution_count": 5
  },
  {
   "metadata": {
    "ExecuteTime": {
     "end_time": "2025-04-23T01:47:19.555293Z",
     "start_time": "2025-04-23T01:47:19.552720Z"
    }
   },
   "cell_type": "code",
   "source": [
    "train_loader = torch.utils.data.DataLoader(\n",
    "    train_dataset, batch_size=2, num_workers=num_workers, sampler = RandomSampler(train_dataset)\n",
    ")\n",
    "valid_loader = torch.utils.data.DataLoader(\n",
    "    valid_dataset, batch_size=2, num_workers=num_workers, sampler = RandomSampler(valid_dataset)\n",
    ")"
   ],
   "id": "621d2162859a5107",
   "outputs": [],
   "execution_count": 6
  },
  {
   "metadata": {
    "ExecuteTime": {
     "end_time": "2025-04-23T01:47:19.824875Z",
     "start_time": "2025-04-23T01:47:19.607081Z"
    }
   },
   "cell_type": "code",
   "source": [
    "model = EfficientNetMultiColor(\n",
    "    backbone=backbone_model,\n",
    "    output_dimensions=output_classes,\n",
    "    pre_trained_model=pretrained_model\n",
    ")\n",
    "model = model.to(device)"
   ],
   "id": "4d6eba8639350b76",
   "outputs": [
    {
     "name": "stdout",
     "output_type": "stream",
     "text": [
      "Loaded pretrained weights for efficientnet-b0\n"
     ]
    }
   ],
   "execution_count": 7
  },
  {
   "metadata": {
    "ExecuteTime": {
     "end_time": "2025-04-23T01:47:20.494833Z",
     "start_time": "2025-04-23T01:47:19.839668Z"
    }
   },
   "cell_type": "code",
   "source": [
    "optimizer = optim.Adam(model.parameters(), lr = init_lr / warmup_factor)\n",
    "scheduler_cosine = torch.optim.lr_scheduler.CosineAnnealingLR(optimizer, n_epochs - warmup_epochs)\n",
    "scheduler = GradualWarmupScheduler(optimizer, multiplier = warmup_factor, total_epoch = warmup_epochs, after_scheduler=scheduler_cosine)\n",
    "save_path = f'models/with-noise-mult-color.pth'"
   ],
   "id": "f36b0e46d35b5195",
   "outputs": [],
   "execution_count": 8
  },
  {
   "metadata": {
    "ExecuteTime": {
     "end_time": "2025-04-24T08:44:21.022060Z",
     "start_time": "2025-04-23T01:47:20.510620Z"
    }
   },
   "cell_type": "code",
   "source": [
    "train_model(\n",
    "    model=model,\n",
    "    epochs=n_epochs,\n",
    "    optimizer=optimizer,\n",
    "    scheduler=scheduler,\n",
    "    train_dataloader=train_loader,\n",
    "    valid_dataloader=valid_loader,\n",
    "    checkpoint=model_checkpoint,\n",
    "    device=device,\n",
    "    loss_function=loss_function,\n",
    "    path_to_save_metrics=\"logs/with-noise-mult-color.txt\",\n",
    "    path_to_save_model=save_path\n",
    ")quit()"
   ],
   "id": "dc2fb404667a3838",
   "outputs": [
    {
     "name": "stdout",
     "output_type": "stream",
     "text": [
      "Epoch 1/15\n",
      "\n"
     ]
    },
    {
     "name": "stderr",
     "output_type": "stream",
     "text": [
      "loss: 0.60289, smooth loss: 0.45125: 100%|██████████| 3610/3610 [1:41:58<00:00,  1.69s/it]\n",
      "100%|██████████| 903/903 [22:29<00:00,  1.49s/it]\n"
     ]
    },
    {
     "name": "stdout",
     "output_type": "stream",
     "text": [
      "Salvando o melhor modelo... 0.0 -> 0.6285702065750403\n",
      "Epoch 2/15\n",
      "\n"
     ]
    },
    {
     "name": "stderr",
     "output_type": "stream",
     "text": [
      "loss: 0.24601, smooth loss: 0.39181: 100%|██████████| 3610/3610 [1:41:19<00:00,  1.68s/it]\n",
      "100%|██████████| 903/903 [22:26<00:00,  1.49s/it]\n"
     ]
    },
    {
     "name": "stdout",
     "output_type": "stream",
     "text": [
      "Epoch 3/15\n",
      "\n"
     ]
    },
    {
     "name": "stderr",
     "output_type": "stream",
     "text": [
      "loss: 0.28083, smooth loss: 0.29536: 100%|██████████| 3610/3610 [1:41:16<00:00,  1.68s/it]\n",
      "100%|██████████| 903/903 [22:32<00:00,  1.50s/it]\n"
     ]
    },
    {
     "name": "stdout",
     "output_type": "stream",
     "text": [
      "Salvando o melhor modelo... 0.6285702065750403 -> 0.7869556307943998\n",
      "Epoch 4/15\n",
      "\n"
     ]
    },
    {
     "name": "stderr",
     "output_type": "stream",
     "text": [
      "loss: 0.21498, smooth loss: 0.25324: 100%|██████████| 3610/3610 [1:41:16<00:00,  1.68s/it]\n",
      "100%|██████████| 903/903 [22:50<00:00,  1.52s/it]\n"
     ]
    },
    {
     "name": "stdout",
     "output_type": "stream",
     "text": [
      "Epoch 5/15\n",
      "\n"
     ]
    },
    {
     "name": "stderr",
     "output_type": "stream",
     "text": [
      "loss: 1.90943, smooth loss: 0.29099: 100%|██████████| 3610/3610 [1:41:27<00:00,  1.69s/it]  \n",
      "100%|██████████| 903/903 [22:30<00:00,  1.50s/it]\n"
     ]
    },
    {
     "name": "stdout",
     "output_type": "stream",
     "text": [
      "Salvando o melhor modelo... 0.7869556307943998 -> 0.8009528346070023\n",
      "Epoch 6/15\n",
      "\n"
     ]
    },
    {
     "name": "stderr",
     "output_type": "stream",
     "text": [
      "loss: 0.17752, smooth loss: 0.27005: 100%|██████████| 3610/3610 [1:41:45<00:00,  1.69s/it]\n",
      "100%|██████████| 903/903 [22:27<00:00,  1.49s/it]\n"
     ]
    },
    {
     "name": "stdout",
     "output_type": "stream",
     "text": [
      "Salvando o melhor modelo... 0.8009528346070023 -> 0.8117041493994854\n",
      "Epoch 7/15\n",
      "\n"
     ]
    },
    {
     "name": "stderr",
     "output_type": "stream",
     "text": [
      "loss: 0.18222, smooth loss: 0.27226: 100%|██████████| 3610/3610 [1:41:18<00:00,  1.68s/it]  \n",
      "100%|██████████| 903/903 [22:32<00:00,  1.50s/it]\n"
     ]
    },
    {
     "name": "stdout",
     "output_type": "stream",
     "text": [
      "Salvando o melhor modelo... 0.8117041493994854 -> 0.8229782803247137\n",
      "Epoch 8/15\n",
      "\n"
     ]
    },
    {
     "name": "stderr",
     "output_type": "stream",
     "text": [
      "loss: 0.18009, smooth loss: 0.23808: 100%|██████████| 3610/3610 [1:41:29<00:00,  1.69s/it]  \n",
      "100%|██████████| 903/903 [22:31<00:00,  1.50s/it]\n"
     ]
    },
    {
     "name": "stdout",
     "output_type": "stream",
     "text": [
      "Epoch 9/15\n",
      "\n"
     ]
    },
    {
     "name": "stderr",
     "output_type": "stream",
     "text": [
      "loss: 0.21624, smooth loss: 0.31304: 100%|██████████| 3610/3610 [1:41:13<00:00,  1.68s/it]\n",
      "100%|██████████| 903/903 [22:26<00:00,  1.49s/it]\n"
     ]
    },
    {
     "name": "stdout",
     "output_type": "stream",
     "text": [
      "Salvando o melhor modelo... 0.8229782803247137 -> 0.8274505921892279\n",
      "Epoch 10/15\n",
      "\n"
     ]
    },
    {
     "name": "stderr",
     "output_type": "stream",
     "text": [
      "loss: 0.03091, smooth loss: 0.24641: 100%|██████████| 3610/3610 [1:41:21<00:00,  1.68s/it]\n",
      "100%|██████████| 903/903 [22:23<00:00,  1.49s/it]\n"
     ]
    },
    {
     "name": "stdout",
     "output_type": "stream",
     "text": [
      "Epoch 11/15\n",
      "\n"
     ]
    },
    {
     "name": "stderr",
     "output_type": "stream",
     "text": [
      "loss: 1.75417, smooth loss: 0.28324: 100%|██████████| 3610/3610 [1:41:07<00:00,  1.68s/it]  \n",
      "100%|██████████| 903/903 [22:16<00:00,  1.48s/it]\n"
     ]
    },
    {
     "name": "stdout",
     "output_type": "stream",
     "text": [
      "Epoch 12/15\n",
      "\n"
     ]
    },
    {
     "name": "stderr",
     "output_type": "stream",
     "text": [
      "loss: 0.16951, smooth loss: 0.23739: 100%|██████████| 3610/3610 [1:41:15<00:00,  1.68s/it]\n",
      "100%|██████████| 903/903 [22:26<00:00,  1.49s/it]\n"
     ]
    },
    {
     "name": "stdout",
     "output_type": "stream",
     "text": [
      "Salvando o melhor modelo... 0.8274505921892279 -> 0.8322887219266432\n",
      "Epoch 13/15\n",
      "\n"
     ]
    },
    {
     "name": "stderr",
     "output_type": "stream",
     "text": [
      "loss: 0.56585, smooth loss: 0.25313: 100%|██████████| 3610/3610 [1:41:08<00:00,  1.68s/it]\n",
      "100%|██████████| 903/903 [22:20<00:00,  1.48s/it]\n"
     ]
    },
    {
     "name": "stdout",
     "output_type": "stream",
     "text": [
      "Salvando o melhor modelo... 0.8322887219266432 -> 0.8326463547088523\n",
      "Epoch 14/15\n",
      "\n"
     ]
    },
    {
     "name": "stderr",
     "output_type": "stream",
     "text": [
      "loss: 0.44837, smooth loss: 0.24096: 100%|██████████| 3610/3610 [1:41:07<00:00,  1.68s/it]\n",
      "100%|██████████| 903/903 [22:19<00:00,  1.48s/it]\n"
     ]
    },
    {
     "name": "stdout",
     "output_type": "stream",
     "text": [
      "Epoch 15/15\n",
      "\n"
     ]
    },
    {
     "name": "stderr",
     "output_type": "stream",
     "text": [
      "loss: 0.03424, smooth loss: 0.20183: 100%|██████████| 3610/3610 [1:40:54<00:00,  1.68s/it]\n",
      "100%|██████████| 903/903 [22:23<00:00,  1.49s/it]\n"
     ]
    },
    {
     "name": "stdout",
     "output_type": "stream",
     "text": [
      "Salvando o melhor modelo... 0.8326463547088523 -> 0.8350813091064615\n"
     ]
    }
   ],
   "execution_count": 9
  }
 ],
 "metadata": {
  "kernelspec": {
   "display_name": "Python 3",
   "language": "python",
   "name": "python3"
  },
  "language_info": {
   "codemirror_mode": {
    "name": "ipython",
    "version": 2
   },
   "file_extension": ".py",
   "mimetype": "text/x-python",
   "name": "python",
   "nbconvert_exporter": "python",
   "pygments_lexer": "ipython2",
   "version": "2.7.6"
  }
 },
 "nbformat": 4,
 "nbformat_minor": 5
}
