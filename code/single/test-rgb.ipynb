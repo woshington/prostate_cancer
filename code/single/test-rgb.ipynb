{
 "cells": [
  {
   "cell_type": "code",
   "metadata": {
    "ExecuteTime": {
     "end_time": "2025-09-08T18:01:42.848213Z",
     "start_time": "2025-09-08T18:01:42.845793Z"
    }
   },
   "source": [
    "import torch\n",
    "from torch.utils.data import DataLoader\n",
    "import os\n",
    "import pandas as pd\n",
    "from utils.dataset import PandasDataset\n",
    "from utils.models import EfficientNet\n",
    "from utils.metrics import evaluation, format_metrics\n",
    "import albumentations"
   ],
   "outputs": [],
   "execution_count": 7
  },
  {
   "cell_type": "code",
   "metadata": {
    "ExecuteTime": {
     "end_time": "2025-09-08T18:01:42.899726Z",
     "start_time": "2025-09-08T18:01:42.894103Z"
    }
   },
   "source": [
    "output_dimensions = 5\n",
    "data_dir = '../../../dataset'\n",
    "ROOT_DIR = \"../../\"\n",
    "images_dir = os.path.join(data_dir, 'tiles')\n",
    "device = torch.device(\"cuda\") if torch.cuda.is_available() else torch.device(\"cpu\")\n",
    "df_test = pd.read_csv(f\"../../data/test.csv\")\n",
    "backbone_model = 'efficientnet-b0'\n",
    "pretrained_model = {\n",
    "    backbone_model: f'{ROOT_DIR}/efficientnet-b0-08094119.pth'\n",
    "}"
   ],
   "outputs": [],
   "execution_count": 8
  },
  {
   "cell_type": "code",
   "metadata": {
    "ExecuteTime": {
     "end_time": "2025-09-08T18:01:42.943364Z",
     "start_time": "2025-09-08T18:01:42.940576Z"
    }
   },
   "source": [
    "print(\"Cuda\", device)"
   ],
   "outputs": [
    {
     "name": "stdout",
     "output_type": "stream",
     "text": [
      "Cuda cuda\n"
     ]
    }
   ],
   "execution_count": 9
  },
  {
   "metadata": {
    "ExecuteTime": {
     "end_time": "2025-09-08T18:01:42.991626Z",
     "start_time": "2025-09-08T18:01:42.988827Z"
    }
   },
   "cell_type": "code",
   "source": [
    "dataloader = DataLoader(\n",
    "    PandasDataset(images_dir, df_test, transforms=None, normalize=True),\n",
    "    batch_size=2,\n",
    "    shuffle=False,\n",
    ")"
   ],
   "outputs": [],
   "execution_count": 10
  },
  {
   "metadata": {
    "ExecuteTime": {
     "end_time": "2025-09-08T18:01:43.233273Z",
     "start_time": "2025-09-08T18:01:43.038450Z"
    }
   },
   "cell_type": "code",
   "source": [
    "model = EfficientNet(\n",
    "    backbone=backbone_model,\n",
    "    output_dimensions=output_dimensions,\n",
    "    pre_trained_model=pretrained_model\n",
    ")\n",
    "model.to(device).load_state_dict(\n",
    "    torch.load(\n",
    "        f\"{ROOT_DIR}/models/with-noise-rgb.pth\",\n",
    "        weights_only=True,\n",
    "        map_location=device\n",
    "    )\n",
    ")"
   ],
   "outputs": [
    {
     "name": "stdout",
     "output_type": "stream",
     "text": [
      "Loaded pretrained weights for efficientnet-b0\n"
     ]
    },
    {
     "data": {
      "text/plain": [
       "<All keys matched successfully>"
      ]
     },
     "execution_count": 11,
     "metadata": {},
     "output_type": "execute_result"
    }
   ],
   "execution_count": 11
  },
  {
   "metadata": {
    "ExecuteTime": {
     "end_time": "2025-09-08T18:03:27.712717Z",
     "start_time": "2025-09-08T18:01:43.240492Z"
    }
   },
   "cell_type": "code",
   "source": [
    "response = evaluation(model, dataloader, device)\n",
    "result = format_metrics(response[0])\n",
    "print(result)"
   ],
   "outputs": [
    {
     "name": "stderr",
     "output_type": "stream",
     "text": [
      "100%|██████████| 796/796 [01:41<00:00,  7.82it/s]\n"
     ]
    },
    {
     "name": "stdout",
     "output_type": "stream",
     "text": [
      "VAL_ACC      Mean: 12.60 | Std: 0.84 | 95% CI: [11.24, 14.07]\n",
      "VAL_KAPPA    Mean: 0.00 | Std: 0.00 | 95% CI: [0.00, 0.00]\n",
      "VAL_F1       Mean: 0.04 | Std: 0.00 | 95% CI: [0.03, 0.04]\n",
      "VAL_RECALL   Mean: 0.17 | Std: 0.00 | 95% CI: [0.17, 0.17]\n",
      "VAL_PRECISION Mean: 0.02 | Std: 0.00 | 95% CI: [0.02, 0.02]\n"
     ]
    }
   ],
   "execution_count": 12
  }
 ],
 "metadata": {
  "kernelspec": {
   "display_name": "venv",
   "language": "python",
   "name": "python3"
  },
  "language_info": {
   "codemirror_mode": {
    "name": "ipython",
    "version": 3
   },
   "file_extension": ".py",
   "mimetype": "text/x-python",
   "name": "python",
   "nbconvert_exporter": "python",
   "pygments_lexer": "ipython3",
   "version": "3.10.0"
  }
 },
 "nbformat": 4,
 "nbformat_minor": 2
}
