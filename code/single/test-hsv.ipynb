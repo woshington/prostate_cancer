{
 "cells": [
  {
   "cell_type": "code",
   "metadata": {
    "ExecuteTime": {
     "end_time": "2025-09-08T17:31:11.123824Z",
     "start_time": "2025-09-08T17:31:08.257722Z"
    }
   },
   "source": [
    "import torch\n",
    "from torch.utils.data import DataLoader\n",
    "import os\n",
    "import pandas as pd\n",
    "from utils.dataset import PandasDataset, RGB2HSVTransform\n",
    "from utils.models import EfficientNet\n",
    "from utils.metrics import evaluation, format_metrics\n",
    "import albumentations"
   ],
   "outputs": [],
   "execution_count": 1
  },
  {
   "cell_type": "code",
   "metadata": {
    "ExecuteTime": {
     "end_time": "2025-09-08T17:31:11.140303Z",
     "start_time": "2025-09-08T17:31:11.127665Z"
    }
   },
   "source": [
    "output_dimensions = 5\n",
    "data_dir = '../../../dataset'\n",
    "ROOT_DIR = \"../../\"\n",
    "images_dir = os.path.join(data_dir, 'tiles')\n",
    "device = torch.device(\"cuda\") if torch.cuda.is_available() else torch.device(\"cpu\")\n",
    "df_test = pd.read_csv(f\"../../data/test.csv\")\n",
    "backbone_model = 'efficientnet-b0'\n",
    "pretrained_model = {\n",
    "    backbone_model: f'{ROOT_DIR}/efficientnet-b0-08094119.pth'\n",
    "}"
   ],
   "outputs": [],
   "execution_count": 2
  },
  {
   "cell_type": "code",
   "metadata": {
    "ExecuteTime": {
     "end_time": "2025-09-08T17:31:11.184890Z",
     "start_time": "2025-09-08T17:31:11.182534Z"
    }
   },
   "source": [
    "print(\"Cuda\", device)"
   ],
   "outputs": [
    {
     "name": "stdout",
     "output_type": "stream",
     "text": [
      "Cuda cuda\n"
     ]
    }
   ],
   "execution_count": 3
  },
  {
   "metadata": {
    "ExecuteTime": {
     "end_time": "2025-09-08T17:31:11.233502Z",
     "start_time": "2025-09-08T17:31:11.230795Z"
    }
   },
   "cell_type": "code",
   "source": [
    "val_transform =albumentations.Compose([\n",
    "    RGB2HSVTransform()\n",
    "])"
   ],
   "outputs": [],
   "execution_count": 4
  },
  {
   "cell_type": "code",
   "metadata": {
    "ExecuteTime": {
     "end_time": "2025-09-08T17:31:11.278273Z",
     "start_time": "2025-09-08T17:31:11.276085Z"
    }
   },
   "source": [
    "dataloader = DataLoader(\n",
    "    PandasDataset(images_dir, df_test, transforms=val_transform),\n",
    "    batch_size=2,\n",
    "    shuffle=False,\n",
    ")"
   ],
   "outputs": [],
   "execution_count": 5
  },
  {
   "cell_type": "code",
   "metadata": {
    "ExecuteTime": {
     "end_time": "2025-09-08T17:41:44.743048Z",
     "start_time": "2025-09-08T17:31:11.323116Z"
    }
   },
   "source": [
    "model = EfficientNet(\n",
    "    backbone=backbone_model,\n",
    "    output_dimensions=output_dimensions,\n",
    "    pre_trained_model=pretrained_model\n",
    ")\n",
    "model.to(device)\n",
    "model.load_state_dict(\n",
    "    torch.load(\n",
    "        f\"{ROOT_DIR}/models/with-noise-hsv.pth\",\n",
    "        weights_only=True\n",
    "    )\n",
    ")\n",
    "\n",
    "response_0 = evaluation(model, dataloader, device)\n",
    "result = format_metrics(response_0[0])\n",
    "print(result)"
   ],
   "outputs": [
    {
     "name": "stdout",
     "output_type": "stream",
     "text": [
      "Loaded pretrained weights for efficientnet-b0\n"
     ]
    },
    {
     "name": "stderr",
     "output_type": "stream",
     "text": [
      "100%|██████████| 796/796 [10:30<00:00,  1.26it/s]\n"
     ]
    },
    {
     "name": "stdout",
     "output_type": "stream",
     "text": [
      "VAL_ACC      Mean: 60.14 | Std: 1.22 | 95% CI: [58.10, 62.13]\n",
      "VAL_KAPPA    Mean: 0.82 | Std: 0.01 | 95% CI: [0.81, 0.84]\n",
      "VAL_F1       Mean: 0.55 | Std: 0.01 | 95% CI: [0.53, 0.57]\n",
      "VAL_RECALL   Mean: 0.54 | Std: 0.01 | 95% CI: [0.52, 0.57]\n",
      "VAL_PRECISION Mean: 0.57 | Std: 0.01 | 95% CI: [0.54, 0.59]\n"
     ]
    }
   ],
   "execution_count": 6
  }
 ],
 "metadata": {
  "kernelspec": {
   "display_name": "venv",
   "language": "python",
   "name": "python3"
  },
  "language_info": {
   "codemirror_mode": {
    "name": "ipython",
    "version": 3
   },
   "file_extension": ".py",
   "mimetype": "text/x-python",
   "name": "python",
   "nbconvert_exporter": "python",
   "pygments_lexer": "ipython3",
   "version": "3.10.0"
  }
 },
 "nbformat": 4,
 "nbformat_minor": 2
}
