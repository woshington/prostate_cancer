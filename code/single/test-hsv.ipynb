{
 "cells": [
  {
   "cell_type": "code",
   "metadata": {
    "ExecuteTime": {
     "end_time": "2025-08-02T17:03:37.299359Z",
     "start_time": "2025-08-02T17:03:34.659075Z"
    }
   },
   "source": [
    "import torch\n",
    "from torch.utils.data import DataLoader\n",
    "import os\n",
    "import pandas as pd\n",
    "from work.utils.dataset import PandasDataset, RGB2HSVTransform\n",
    "from work.utils.models import EfficientNet\n",
    "from work.utils.metrics import evaluation\n",
    "from sklearn.metrics import confusion_matrix\n",
    "import seaborn as sns\n",
    "import matplotlib.pyplot as plt\n",
    "import albumentations"
   ],
   "outputs": [],
   "execution_count": 1
  },
  {
   "cell_type": "code",
   "metadata": {
    "ExecuteTime": {
     "end_time": "2025-08-02T17:03:37.342021Z",
     "start_time": "2025-08-02T17:03:37.309166Z"
    }
   },
   "source": [
    "output_dimensions = 5\n",
    "data_dir = '../../dataset'\n",
    "images_dir = os.path.join(data_dir, 'tiles')\n",
    "device = torch.device(\"cuda\") if torch.cuda.is_available() else torch.device(\"cpu\")\n",
    "df_test = pd.read_csv(f\"../data/test.csv\")\n",
    "backbone_model = 'efficientnet-b0'\n",
    "pretrained_model = {\n",
    "    backbone_model: '/home/woshington/Projects/Doutorado/work/efficientnet-b0-08094119.pth'\n",
    "}"
   ],
   "outputs": [],
   "execution_count": 2
  },
  {
   "cell_type": "code",
   "metadata": {
    "ExecuteTime": {
     "end_time": "2025-08-02T17:03:37.399054Z",
     "start_time": "2025-08-02T17:03:37.396870Z"
    }
   },
   "source": [
    "print(\"Cuda\", device)"
   ],
   "outputs": [
    {
     "name": "stdout",
     "output_type": "stream",
     "text": [
      "Cuda cuda\n"
     ]
    }
   ],
   "execution_count": 3
  },
  {
   "metadata": {
    "ExecuteTime": {
     "end_time": "2025-08-02T17:03:37.449719Z",
     "start_time": "2025-08-02T17:03:37.447092Z"
    }
   },
   "cell_type": "code",
   "source": [
    "val_transform =albumentations.Compose([\n",
    "    RGB2HSVTransform()\n",
    "])"
   ],
   "outputs": [],
   "execution_count": 4
  },
  {
   "cell_type": "code",
   "metadata": {
    "ExecuteTime": {
     "end_time": "2025-08-02T17:03:37.589432Z",
     "start_time": "2025-08-02T17:03:37.586484Z"
    }
   },
   "source": [
    "dataloader = DataLoader(\n",
    "    PandasDataset(images_dir, df_test, transforms=val_transform),\n",
    "    batch_size=2,\n",
    "    shuffle=False,\n",
    ")"
   ],
   "outputs": [],
   "execution_count": 5
  },
  {
   "cell_type": "code",
   "metadata": {
    "ExecuteTime": {
     "end_time": "2025-08-02T17:14:26.876433Z",
     "start_time": "2025-08-02T17:03:37.640606Z"
    }
   },
   "source": [
    "model = EfficientNet(\n",
    "    backbone=backbone_model,\n",
    "    output_dimensions=output_dimensions,\n",
    "    pre_trained_model=pretrained_model\n",
    ")\n",
    "model.to(device)\n",
    "model.load_state_dict(\n",
    "    torch.load(\n",
    "        \"models/with-noise-hsv.pth\",\n",
    "        weights_only=True\n",
    "    )\n",
    ")\n",
    "\n",
    "response_0 = evaluation(model, dataloader, device)\n",
    "print(\"without treatment\", response_0[0])\n",
    "cm_0 = confusion_matrix(response_0[1][1], response_0[1][0])"
   ],
   "outputs": [
    {
     "name": "stdout",
     "output_type": "stream",
     "text": [
      "Loaded pretrained weights for efficientnet-b0\n"
     ]
    },
    {
     "name": "stderr",
     "output_type": "stream",
     "text": [
      "100%|██████████| 796/796 [10:46<00:00,  1.23it/s]\n"
     ]
    },
    {
     "name": "stdout",
     "output_type": "stream",
     "text": [
      "without treatment {'val_acc': {'mean': 60.14032660722732, 'std': 1.2192787266294804, 'ci_5': 58.103013038635254, 'ci_95': 62.12625473737717}, 'val_kappa': {'mean': 0.8249467660882137, 'std': 0.011113349529536302, 'ci_5': 0.8060289191372576, 'ci_95': 0.8432585218647115}, 'val_f1': {'mean': 0.5467223304510117, 'std': 0.013067634771398565, 'ci_5': 0.5254088044166565, 'ci_95': 0.5686790227890015}, 'val_recall': {'mean': 0.5434830890893936, 'std': 0.013012339808087846, 'ci_5': 0.5219810962677002, 'ci_95': 0.5654451847076416}, 'val_precision': {'mean': 0.5651042701005936, 'std': 0.012928693509566835, 'ci_5': 0.5436622619628906, 'ci_95': 0.5862693935632706}}\n"
     ]
    }
   ],
   "execution_count": 6
  }
 ],
 "metadata": {
  "kernelspec": {
   "display_name": "venv",
   "language": "python",
   "name": "python3"
  },
  "language_info": {
   "codemirror_mode": {
    "name": "ipython",
    "version": 3
   },
   "file_extension": ".py",
   "mimetype": "text/x-python",
   "name": "python",
   "nbconvert_exporter": "python",
   "pygments_lexer": "ipython3",
   "version": "3.10.0"
  }
 },
 "nbformat": 4,
 "nbformat_minor": 2
}
