{
 "cells": [
  {
   "cell_type": "code",
   "id": "initial_id",
   "metadata": {
    "collapsed": true,
    "ExecuteTime": {
     "end_time": "2025-04-21T23:44:55.522514Z",
     "start_time": "2025-04-21T23:44:53.857150Z"
    }
   },
   "source": [
    "import os\n",
    "import numpy as np\n",
    "import pandas as pd\n",
    "import torch\n",
    "import torch.nn as nn\n",
    "import torch.optim as optim\n",
    "from torch.utils.data.sampler import RandomSampler\n",
    "from warmup_scheduler import GradualWarmupScheduler\n",
    "import albumentations\n",
    "from work.utils.dataset import PandasDataset\n",
    "from work.utils.models import EfficientNet\n",
    "from work.utils.train import train_model\n",
    "from work.utils.metrics import model_checkpoint\n",
    "import random"
   ],
   "outputs": [],
   "execution_count": 1
  },
  {
   "metadata": {
    "ExecuteTime": {
     "end_time": "2025-04-21T23:45:56.037255Z",
     "start_time": "2025-04-21T23:45:56.025207Z"
    }
   },
   "cell_type": "code",
   "source": [
    "backbone_model = 'efficientnet-b0'\n",
    "pretrained_model = {\n",
    "    backbone_model: '../pre-trained-models/efficientnet-b0-08094119.pth'\n",
    "}\n",
    "\n",
    "data_dir = '../../dataset'\n",
    "images_dir = os.path.join(data_dir, 'tiles')\n",
    "\n",
    "df_train = pd.read_csv(f\"../data/train_5fold.csv\")"
   ],
   "id": "89c625053bfdc045",
   "outputs": [],
   "execution_count": 2
  },
  {
   "metadata": {
    "ExecuteTime": {
     "end_time": "2025-04-21T23:46:57.477877Z",
     "start_time": "2025-04-21T23:46:57.454985Z"
    }
   },
   "cell_type": "code",
   "source": [
    "seed = 42\n",
    "shuffle = True\n",
    "batch_size = 2\n",
    "num_workers = 4\n",
    "output_classes = 5\n",
    "init_lr = 3e-4\n",
    "warmup_factor = 10\n",
    "warmup_epochs = 1\n",
    "n_epochs = 15\n",
    "device = torch.device(\"cuda\" if torch.cuda.is_available() else \"cpu\")\n",
    "print(\"Using device:\", device)\n",
    "loss_function = nn.BCEWithLogitsLoss()\n",
    "\n",
    "torch.manual_seed(seed)\n",
    "random.seed(seed)\n",
    "np.random.seed(seed)\n"
   ],
   "id": "2faaaf16ba1cb99d",
   "outputs": [
    {
     "name": "stdout",
     "output_type": "stream",
     "text": [
      "Using device: cuda\n"
     ]
    }
   ],
   "execution_count": 3
  },
  {
   "metadata": {
    "ExecuteTime": {
     "end_time": "2025-04-21T23:47:57.569915Z",
     "start_time": "2025-04-21T23:47:57.565518Z"
    }
   },
   "cell_type": "code",
   "source": [
    "transforms = albumentations.Compose([\n",
    "    albumentations.Transpose(p=0.5),\n",
    "    albumentations.VerticalFlip(p=0.5),\n",
    "    albumentations.HorizontalFlip(p=0.5),\n",
    "])"
   ],
   "id": "8a3c826458d85295",
   "outputs": [],
   "execution_count": 4
  },
  {
   "metadata": {
    "ExecuteTime": {
     "end_time": "2025-04-21T23:48:57.685455Z",
     "start_time": "2025-04-21T23:48:57.678501Z"
    }
   },
   "cell_type": "code",
   "source": [
    "df_train.columns = df_train.columns.str.strip()\n",
    "\n",
    "train_indexes = np.where((df_train['fold'] != 3))[0]\n",
    "valid_indexes = np.where((df_train['fold'] == 3))[0]\n",
    "\n",
    "train = df_train.loc[train_indexes]\n",
    "valid = df_train.loc[valid_indexes]\n",
    "\n",
    "train_dataset = PandasDataset(images_dir, train, transforms=transforms)\n",
    "valid_dataset = PandasDataset(images_dir, valid, transforms=None)"
   ],
   "id": "9747f8ec90aa7c9",
   "outputs": [],
   "execution_count": 5
  },
  {
   "metadata": {
    "ExecuteTime": {
     "end_time": "2025-04-21T23:49:58.065096Z",
     "start_time": "2025-04-21T23:49:58.061881Z"
    }
   },
   "cell_type": "code",
   "source": [
    "train_loader = torch.utils.data.DataLoader(\n",
    "    train_dataset, batch_size=2, num_workers=num_workers, sampler = RandomSampler(train_dataset)\n",
    ")\n",
    "valid_loader = torch.utils.data.DataLoader(\n",
    "    valid_dataset, batch_size=2, num_workers=num_workers, sampler = RandomSampler(valid_dataset)\n",
    ")"
   ],
   "id": "621d2162859a5107",
   "outputs": [],
   "execution_count": 6
  },
  {
   "metadata": {
    "ExecuteTime": {
     "end_time": "2025-04-21T23:50:58.485385Z",
     "start_time": "2025-04-21T23:50:58.183090Z"
    }
   },
   "cell_type": "code",
   "source": [
    "model = EfficientNet(\n",
    "    backbone=backbone_model,\n",
    "    output_dimensions=output_classes,\n",
    "    pre_trained_model=pretrained_model\n",
    ")\n",
    "model = model.to(device)"
   ],
   "id": "4d6eba8639350b76",
   "outputs": [
    {
     "name": "stdout",
     "output_type": "stream",
     "text": [
      "Loaded pretrained weights for efficientnet-b0\n"
     ]
    }
   ],
   "execution_count": 7
  },
  {
   "metadata": {
    "ExecuteTime": {
     "end_time": "2025-04-21T23:52:00.060996Z",
     "start_time": "2025-04-21T23:51:59.315041Z"
    }
   },
   "cell_type": "code",
   "source": [
    "optimizer = optim.Adam(model.parameters(), lr = init_lr / warmup_factor)\n",
    "scheduler_cosine = torch.optim.lr_scheduler.CosineAnnealingLR(optimizer, n_epochs - warmup_epochs)\n",
    "scheduler = GradualWarmupScheduler(optimizer, multiplier = warmup_factor, total_epoch = warmup_epochs, after_scheduler=scheduler_cosine)\n",
    "save_path = f'models/with-noise-rgb.pth'"
   ],
   "id": "f36b0e46d35b5195",
   "outputs": [],
   "execution_count": 8
  },
  {
   "metadata": {
    "ExecuteTime": {
     "end_time": "2025-04-22T06:58:41.404020Z",
     "start_time": "2025-04-21T23:53:00.605463Z"
    }
   },
   "cell_type": "code",
   "source": [
    "train_model(\n",
    "    model=model,\n",
    "    epochs=n_epochs,\n",
    "    optimizer=optimizer,\n",
    "    scheduler=scheduler,\n",
    "    train_dataloader=train_loader,\n",
    "    valid_dataloader=valid_loader,\n",
    "    checkpoint=model_checkpoint,\n",
    "    device=device,\n",
    "    loss_function=loss_function,\n",
    "    path_to_save_metrics=\"logs/with-noise-rgb.txt\",\n",
    "    path_to_save_model=save_path\n",
    ")"
   ],
   "id": "dc2fb404667a3838",
   "outputs": [
    {
     "name": "stdout",
     "output_type": "stream",
     "text": [
      "Epoch 1/15\n",
      "\n"
     ]
    },
    {
     "name": "stderr",
     "output_type": "stream",
     "text": [
      "loss: 0.55968, smooth loss: 0.38151: 100%|██████████| 3610/3610 [26:19<00:00,  2.29it/s]\n",
      "100%|██████████| 903/903 [02:05<00:00,  7.20it/s]\n"
     ]
    },
    {
     "name": "stdout",
     "output_type": "stream",
     "text": [
      "Salvando o melhor modelo... 0.0 -> 0.6909694946033704\n",
      "Epoch 2/15\n",
      "\n"
     ]
    },
    {
     "name": "stderr",
     "output_type": "stream",
     "text": [
      "loss: 0.18166, smooth loss: 0.33484: 100%|██████████| 3610/3610 [26:20<00:00,  2.28it/s]\n",
      "100%|██████████| 903/903 [02:05<00:00,  7.17it/s]\n"
     ]
    },
    {
     "name": "stdout",
     "output_type": "stream",
     "text": [
      "Salvando o melhor modelo... 0.6909694946033704 -> 0.7517628296524723\n",
      "Epoch 3/15\n",
      "\n"
     ]
    },
    {
     "name": "stderr",
     "output_type": "stream",
     "text": [
      "loss: 0.59402, smooth loss: 0.30003: 100%|██████████| 3610/3610 [26:28<00:00,  2.27it/s]\n",
      "100%|██████████| 903/903 [02:07<00:00,  7.06it/s]\n"
     ]
    },
    {
     "name": "stdout",
     "output_type": "stream",
     "text": [
      "Salvando o melhor modelo... 0.7517628296524723 -> 0.8226609839483225\n",
      "Epoch 4/15\n",
      "\n"
     ]
    },
    {
     "name": "stderr",
     "output_type": "stream",
     "text": [
      "loss: 0.24231, smooth loss: 0.28175: 100%|██████████| 3610/3610 [27:23<00:00,  2.20it/s]\n",
      "100%|██████████| 903/903 [02:13<00:00,  6.75it/s]\n"
     ]
    },
    {
     "name": "stdout",
     "output_type": "stream",
     "text": [
      "Salvando o melhor modelo... 0.8226609839483225 -> 0.8249775788547449\n",
      "Epoch 5/15\n",
      "\n"
     ]
    },
    {
     "name": "stderr",
     "output_type": "stream",
     "text": [
      "loss: 0.07301, smooth loss: 0.29013: 100%|██████████| 3610/3610 [27:33<00:00,  2.18it/s]\n",
      "100%|██████████| 903/903 [02:06<00:00,  7.14it/s]\n"
     ]
    },
    {
     "name": "stdout",
     "output_type": "stream",
     "text": [
      "Salvando o melhor modelo... 0.8249775788547449 -> 0.8336588862498335\n",
      "Epoch 6/15\n",
      "\n"
     ]
    },
    {
     "name": "stderr",
     "output_type": "stream",
     "text": [
      "loss: 0.17357, smooth loss: 0.22840: 100%|██████████| 3610/3610 [26:02<00:00,  2.31it/s]\n",
      "100%|██████████| 903/903 [02:04<00:00,  7.27it/s]\n"
     ]
    },
    {
     "name": "stdout",
     "output_type": "stream",
     "text": [
      "Salvando o melhor modelo... 0.8336588862498335 -> 0.8487645606623662\n",
      "Epoch 7/15\n",
      "\n"
     ]
    },
    {
     "name": "stderr",
     "output_type": "stream",
     "text": [
      "loss: 0.38347, smooth loss: 0.19245: 100%|██████████| 3610/3610 [26:02<00:00,  2.31it/s]\n",
      "100%|██████████| 903/903 [02:04<00:00,  7.25it/s]\n"
     ]
    },
    {
     "name": "stdout",
     "output_type": "stream",
     "text": [
      "Epoch 8/15\n",
      "\n"
     ]
    },
    {
     "name": "stderr",
     "output_type": "stream",
     "text": [
      "loss: 0.15570, smooth loss: 0.21905: 100%|██████████| 3610/3610 [26:01<00:00,  2.31it/s]\n",
      "100%|██████████| 903/903 [02:04<00:00,  7.27it/s]\n"
     ]
    },
    {
     "name": "stdout",
     "output_type": "stream",
     "text": [
      "Epoch 9/15\n",
      "\n"
     ]
    },
    {
     "name": "stderr",
     "output_type": "stream",
     "text": [
      "loss: 0.21486, smooth loss: 0.21971: 100%|██████████| 3610/3610 [26:00<00:00,  2.31it/s]\n",
      "100%|██████████| 903/903 [02:04<00:00,  7.24it/s]\n"
     ]
    },
    {
     "name": "stdout",
     "output_type": "stream",
     "text": [
      "Epoch 10/15\n",
      "\n"
     ]
    },
    {
     "name": "stderr",
     "output_type": "stream",
     "text": [
      "loss: 0.01436, smooth loss: 0.16705: 100%|██████████| 3610/3610 [26:00<00:00,  2.31it/s]\n",
      "100%|██████████| 903/903 [02:04<00:00,  7.25it/s]\n"
     ]
    },
    {
     "name": "stdout",
     "output_type": "stream",
     "text": [
      "Salvando o melhor modelo... 0.8487645606623662 -> 0.8513009403243317\n",
      "Epoch 11/15\n",
      "\n"
     ]
    },
    {
     "name": "stderr",
     "output_type": "stream",
     "text": [
      "loss: 0.38518, smooth loss: 0.24171: 100%|██████████| 3610/3610 [26:00<00:00,  2.31it/s]\n",
      "100%|██████████| 903/903 [02:04<00:00,  7.24it/s]\n"
     ]
    },
    {
     "name": "stdout",
     "output_type": "stream",
     "text": [
      "Epoch 12/15\n",
      "\n"
     ]
    },
    {
     "name": "stderr",
     "output_type": "stream",
     "text": [
      "loss: 0.16335, smooth loss: 0.20550: 100%|██████████| 3610/3610 [26:00<00:00,  2.31it/s]\n",
      "100%|██████████| 903/903 [02:04<00:00,  7.25it/s]\n"
     ]
    },
    {
     "name": "stdout",
     "output_type": "stream",
     "text": [
      "Epoch 13/15\n",
      "\n"
     ]
    },
    {
     "name": "stderr",
     "output_type": "stream",
     "text": [
      "loss: 0.23304, smooth loss: 0.23366: 100%|██████████| 3610/3610 [25:59<00:00,  2.31it/s]\n",
      "100%|██████████| 903/903 [02:04<00:00,  7.25it/s]\n"
     ]
    },
    {
     "name": "stdout",
     "output_type": "stream",
     "text": [
      "Epoch 14/15\n",
      "\n"
     ]
    },
    {
     "name": "stderr",
     "output_type": "stream",
     "text": [
      "loss: 0.02913, smooth loss: 0.16895: 100%|██████████| 3610/3610 [25:59<00:00,  2.31it/s]\n",
      "100%|██████████| 903/903 [02:04<00:00,  7.26it/s]\n"
     ]
    },
    {
     "name": "stdout",
     "output_type": "stream",
     "text": [
      "Epoch 15/15\n",
      "\n"
     ]
    },
    {
     "name": "stderr",
     "output_type": "stream",
     "text": [
      "loss: 0.10898, smooth loss: 0.17636: 100%|██████████| 3610/3610 [25:59<00:00,  2.31it/s]\n",
      "100%|██████████| 903/903 [02:04<00:00,  7.25it/s]\n"
     ]
    }
   ],
   "execution_count": 9
  }
 ],
 "metadata": {
  "kernelspec": {
   "display_name": "Python 3",
   "language": "python",
   "name": "python3"
  },
  "language_info": {
   "codemirror_mode": {
    "name": "ipython",
    "version": 2
   },
   "file_extension": ".py",
   "mimetype": "text/x-python",
   "name": "python",
   "nbconvert_exporter": "python",
   "pygments_lexer": "ipython2",
   "version": "2.7.6"
  }
 },
 "nbformat": 4,
 "nbformat_minor": 5
}
