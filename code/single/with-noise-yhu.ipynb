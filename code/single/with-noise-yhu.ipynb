{
 "cells": [
  {
   "cell_type": "code",
   "id": "initial_id",
   "metadata": {
    "collapsed": true,
    "ExecuteTime": {
     "end_time": "2025-04-28T02:17:38.379004Z",
     "start_time": "2025-04-28T02:17:36.525728Z"
    }
   },
   "source": [
    "import os\n",
    "import numpy as np\n",
    "import pandas as pd\n",
    "import torch\n",
    "import torch.nn as nn\n",
    "import torch.optim as optim\n",
    "from torch.utils.data.sampler import RandomSampler\n",
    "from warmup_scheduler import GradualWarmupScheduler\n",
    "import albumentations\n",
    "from work.utils.dataset import RGB2YHUTransform, PandasDataset\n",
    "from work.utils.models import EfficientNet\n",
    "from work.utils.train import train_model\n",
    "from work.utils.metrics import model_checkpoint\n",
    "import random"
   ],
   "outputs": [],
   "execution_count": 1
  },
  {
   "metadata": {
    "ExecuteTime": {
     "end_time": "2025-04-28T02:17:38.484835Z",
     "start_time": "2025-04-28T02:17:38.473796Z"
    }
   },
   "cell_type": "code",
   "source": [
    "backbone_model = 'efficientnet-b0'\n",
    "pretrained_model = {\n",
    "    backbone_model: '../pre-trained-models/efficientnet-b0-08094119.pth'\n",
    "}\n",
    "\n",
    "data_dir = '../../dataset'\n",
    "images_dir = os.path.join(data_dir, 'tiles')\n",
    "\n",
    "df_train = pd.read_csv(f\"../data/train_5fold.csv\")"
   ],
   "id": "89c625053bfdc045",
   "outputs": [],
   "execution_count": 2
  },
  {
   "metadata": {
    "ExecuteTime": {
     "end_time": "2025-04-28T02:17:38.544395Z",
     "start_time": "2025-04-28T02:17:38.523084Z"
    }
   },
   "cell_type": "code",
   "source": [
    "seed = 42\n",
    "shuffle = True\n",
    "batch_size = 2\n",
    "num_workers = 4\n",
    "output_classes = 5\n",
    "init_lr = 3e-4\n",
    "warmup_factor = 10\n",
    "warmup_epochs = 1\n",
    "n_epochs = 15\n",
    "device = torch.device(\"cuda\" if torch.cuda.is_available() else \"cpu\")\n",
    "print(\"Using device:\", device)\n",
    "loss_function = nn.BCEWithLogitsLoss()\n",
    "\n",
    "torch.manual_seed(seed)\n",
    "random.seed(seed)\n",
    "np.random.seed(seed)\n"
   ],
   "id": "2faaaf16ba1cb99d",
   "outputs": [
    {
     "name": "stdout",
     "output_type": "stream",
     "text": [
      "Using device: cuda\n"
     ]
    }
   ],
   "execution_count": 3
  },
  {
   "metadata": {
    "ExecuteTime": {
     "end_time": "2025-04-28T02:17:38.575552Z",
     "start_time": "2025-04-28T02:17:38.571428Z"
    }
   },
   "cell_type": "code",
   "source": [
    "transforms = albumentations.Compose([\n",
    "    RGB2YHUTransform(),\n",
    "    albumentations.Transpose(p=0.5),\n",
    "    albumentations.VerticalFlip(p=0.5),\n",
    "    albumentations.HorizontalFlip(p=0.5),\n",
    "])\n",
    "\n",
    "valid_transforms =albumentations.Compose([\n",
    "    RGB2YHUTransform()\n",
    "])"
   ],
   "id": "8a3c826458d85295",
   "outputs": [],
   "execution_count": 4
  },
  {
   "metadata": {
    "ExecuteTime": {
     "end_time": "2025-04-28T02:17:38.624180Z",
     "start_time": "2025-04-28T02:17:38.619756Z"
    }
   },
   "cell_type": "code",
   "source": [
    "df_train.columns = df_train.columns.str.strip()\n",
    "\n",
    "train_indexes = np.where((df_train['fold'] != 3))[0]\n",
    "valid_indexes = np.where((df_train['fold'] == 3))[0]\n",
    "\n",
    "train = df_train.loc[train_indexes]\n",
    "valid = df_train.loc[valid_indexes]\n",
    "\n",
    "train_dataset = PandasDataset(images_dir, train, transforms=transforms)\n",
    "valid_dataset = PandasDataset(images_dir, valid, transforms=valid_transforms)"
   ],
   "id": "9747f8ec90aa7c9",
   "outputs": [],
   "execution_count": 5
  },
  {
   "metadata": {
    "ExecuteTime": {
     "end_time": "2025-04-28T02:17:38.673768Z",
     "start_time": "2025-04-28T02:17:38.671045Z"
    }
   },
   "cell_type": "code",
   "source": [
    "train_loader = torch.utils.data.DataLoader(\n",
    "    train_dataset, batch_size=2, num_workers=num_workers, sampler = RandomSampler(train_dataset)\n",
    ")\n",
    "valid_loader = torch.utils.data.DataLoader(\n",
    "    valid_dataset, batch_size=2, num_workers=num_workers, sampler = RandomSampler(valid_dataset)\n",
    ")"
   ],
   "id": "621d2162859a5107",
   "outputs": [],
   "execution_count": 6
  },
  {
   "metadata": {
    "ExecuteTime": {
     "end_time": "2025-04-28T02:17:38.948554Z",
     "start_time": "2025-04-28T02:17:38.722980Z"
    }
   },
   "cell_type": "code",
   "source": [
    "model = EfficientNet(\n",
    "    backbone=backbone_model,\n",
    "    output_dimensions=output_classes,\n",
    "    pre_trained_model=pretrained_model\n",
    ")\n",
    "model = model.to(device)"
   ],
   "id": "4d6eba8639350b76",
   "outputs": [
    {
     "name": "stdout",
     "output_type": "stream",
     "text": [
      "Loaded pretrained weights for efficientnet-b0\n"
     ]
    }
   ],
   "execution_count": 7
  },
  {
   "metadata": {
    "ExecuteTime": {
     "end_time": "2025-04-28T02:17:39.730307Z",
     "start_time": "2025-04-28T02:17:38.961732Z"
    }
   },
   "cell_type": "code",
   "source": [
    "optimizer = optim.Adam(model.parameters(), lr = init_lr / warmup_factor)\n",
    "scheduler_cosine = torch.optim.lr_scheduler.CosineAnnealingLR(optimizer, n_epochs - warmup_epochs)\n",
    "scheduler = GradualWarmupScheduler(optimizer, multiplier = warmup_factor, total_epoch = warmup_epochs, after_scheduler=scheduler_cosine)\n",
    "save_path = f'models/with-noise-yhu.pth'"
   ],
   "id": "f36b0e46d35b5195",
   "outputs": [],
   "execution_count": 8
  },
  {
   "metadata": {
    "ExecuteTime": {
     "end_time": "2025-04-28T10:39:34.817266Z",
     "start_time": "2025-04-28T02:17:39.744361Z"
    }
   },
   "cell_type": "code",
   "source": [
    "train_model(\n",
    "    model=model,\n",
    "    epochs=n_epochs,\n",
    "    optimizer=optimizer,\n",
    "    scheduler=scheduler,\n",
    "    train_dataloader=train_loader,\n",
    "    valid_dataloader=valid_loader,\n",
    "    checkpoint=model_checkpoint,\n",
    "    device=device,\n",
    "    loss_function=loss_function,\n",
    "    path_to_save_metrics=\"logs/with-noise-yhu.txt\",\n",
    "    path_to_save_model=save_path\n",
    ")"
   ],
   "id": "dc2fb404667a3838",
   "outputs": [
    {
     "name": "stdout",
     "output_type": "stream",
     "text": [
      "Epoch 1/15\n",
      "\n"
     ]
    },
    {
     "name": "stderr",
     "output_type": "stream",
     "text": [
      "loss: 0.72873, smooth loss: 0.43760: 100%|██████████| 3610/3610 [29:41<00:00,  2.03it/s]\n",
      "100%|██████████| 903/903 [06:57<00:00,  2.16it/s]\n"
     ]
    },
    {
     "name": "stdout",
     "output_type": "stream",
     "text": [
      "Salvando o melhor modelo... 0.0 -> 0.6408712779258693\n",
      "Epoch 2/15\n",
      "\n"
     ]
    },
    {
     "name": "stderr",
     "output_type": "stream",
     "text": [
      "loss: 0.16219, smooth loss: 0.39761: 100%|██████████| 3610/3610 [28:43<00:00,  2.10it/s]\n",
      "100%|██████████| 903/903 [06:26<00:00,  2.33it/s]\n"
     ]
    },
    {
     "name": "stdout",
     "output_type": "stream",
     "text": [
      "Epoch 3/15\n",
      "\n"
     ]
    },
    {
     "name": "stderr",
     "output_type": "stream",
     "text": [
      "loss: 1.11778, smooth loss: 0.32726: 100%|██████████| 3610/3610 [26:42<00:00,  2.25it/s]\n",
      "100%|██████████| 903/903 [06:27<00:00,  2.33it/s]\n"
     ]
    },
    {
     "name": "stdout",
     "output_type": "stream",
     "text": [
      "Salvando o melhor modelo... 0.6408712779258693 -> 0.770290713307785\n",
      "Epoch 4/15\n",
      "\n"
     ]
    },
    {
     "name": "stderr",
     "output_type": "stream",
     "text": [
      "loss: 1.04972, smooth loss: 0.34165: 100%|██████████| 3610/3610 [26:37<00:00,  2.26it/s]\n",
      "100%|██████████| 903/903 [06:24<00:00,  2.35it/s]\n"
     ]
    },
    {
     "name": "stdout",
     "output_type": "stream",
     "text": [
      "Epoch 5/15\n",
      "\n"
     ]
    },
    {
     "name": "stderr",
     "output_type": "stream",
     "text": [
      "loss: 0.07952, smooth loss: 0.32491: 100%|██████████| 3610/3610 [26:28<00:00,  2.27it/s]\n",
      "100%|██████████| 903/903 [06:26<00:00,  2.34it/s]\n"
     ]
    },
    {
     "name": "stdout",
     "output_type": "stream",
     "text": [
      "Salvando o melhor modelo... 0.770290713307785 -> 0.7758160512403779\n",
      "Epoch 6/15\n",
      "\n"
     ]
    },
    {
     "name": "stderr",
     "output_type": "stream",
     "text": [
      "loss: 0.19607, smooth loss: 0.27301: 100%|██████████| 3610/3610 [26:35<00:00,  2.26it/s]\n",
      "100%|██████████| 903/903 [06:26<00:00,  2.34it/s]\n"
     ]
    },
    {
     "name": "stdout",
     "output_type": "stream",
     "text": [
      "Salvando o melhor modelo... 0.7758160512403779 -> 0.7983649237263132\n",
      "Epoch 7/15\n",
      "\n"
     ]
    },
    {
     "name": "stderr",
     "output_type": "stream",
     "text": [
      "loss: 0.38610, smooth loss: 0.23697: 100%|██████████| 3610/3610 [26:39<00:00,  2.26it/s]\n",
      "100%|██████████| 903/903 [06:26<00:00,  2.34it/s]\n"
     ]
    },
    {
     "name": "stdout",
     "output_type": "stream",
     "text": [
      "Epoch 8/15\n",
      "\n"
     ]
    },
    {
     "name": "stderr",
     "output_type": "stream",
     "text": [
      "loss: 0.17465, smooth loss: 0.29877: 100%|██████████| 3610/3610 [26:39<00:00,  2.26it/s]\n",
      "100%|██████████| 903/903 [06:26<00:00,  2.34it/s]\n"
     ]
    },
    {
     "name": "stdout",
     "output_type": "stream",
     "text": [
      "Epoch 9/15\n",
      "\n"
     ]
    },
    {
     "name": "stderr",
     "output_type": "stream",
     "text": [
      "loss: 0.28519, smooth loss: 0.26047: 100%|██████████| 3610/3610 [26:39<00:00,  2.26it/s]\n",
      "100%|██████████| 903/903 [06:26<00:00,  2.33it/s]\n"
     ]
    },
    {
     "name": "stdout",
     "output_type": "stream",
     "text": [
      "Epoch 10/15\n",
      "\n"
     ]
    },
    {
     "name": "stderr",
     "output_type": "stream",
     "text": [
      "loss: 0.03429, smooth loss: 0.22552: 100%|██████████| 3610/3610 [26:39<00:00,  2.26it/s]\n",
      "100%|██████████| 903/903 [06:25<00:00,  2.34it/s]\n"
     ]
    },
    {
     "name": "stdout",
     "output_type": "stream",
     "text": [
      "Epoch 11/15\n",
      "\n"
     ]
    },
    {
     "name": "stderr",
     "output_type": "stream",
     "text": [
      "loss: 0.06272, smooth loss: 0.29198: 100%|██████████| 3610/3610 [26:36<00:00,  2.26it/s]\n",
      "100%|██████████| 903/903 [06:25<00:00,  2.34it/s]\n"
     ]
    },
    {
     "name": "stdout",
     "output_type": "stream",
     "text": [
      "Salvando o melhor modelo... 0.7983649237263132 -> 0.8057922024242647\n",
      "Epoch 12/15\n",
      "\n"
     ]
    },
    {
     "name": "stderr",
     "output_type": "stream",
     "text": [
      "loss: 0.18924, smooth loss: 0.25402: 100%|██████████| 3610/3610 [26:43<00:00,  2.25it/s]\n",
      "100%|██████████| 903/903 [06:25<00:00,  2.34it/s]\n"
     ]
    },
    {
     "name": "stdout",
     "output_type": "stream",
     "text": [
      "Epoch 13/15\n",
      "\n"
     ]
    },
    {
     "name": "stderr",
     "output_type": "stream",
     "text": [
      "loss: 0.13077, smooth loss: 0.27841: 100%|██████████| 3610/3610 [26:39<00:00,  2.26it/s]\n",
      "100%|██████████| 903/903 [06:26<00:00,  2.34it/s]\n"
     ]
    },
    {
     "name": "stdout",
     "output_type": "stream",
     "text": [
      "Epoch 14/15\n",
      "\n"
     ]
    },
    {
     "name": "stderr",
     "output_type": "stream",
     "text": [
      "loss: 0.08677, smooth loss: 0.20791: 100%|██████████| 3610/3610 [26:43<00:00,  2.25it/s]\n",
      "100%|██████████| 903/903 [06:25<00:00,  2.34it/s]\n"
     ]
    },
    {
     "name": "stdout",
     "output_type": "stream",
     "text": [
      "Salvando o melhor modelo... 0.8057922024242647 -> 0.8128950314675062\n",
      "Epoch 15/15\n",
      "\n"
     ]
    },
    {
     "name": "stderr",
     "output_type": "stream",
     "text": [
      "loss: 0.15781, smooth loss: 0.23762: 100%|██████████| 3610/3610 [26:41<00:00,  2.25it/s]\n",
      "100%|██████████| 903/903 [06:25<00:00,  2.34it/s]\n"
     ]
    }
   ],
   "execution_count": 9
  }
 ],
 "metadata": {
  "kernelspec": {
   "display_name": "Python 3",
   "language": "python",
   "name": "python3"
  },
  "language_info": {
   "codemirror_mode": {
    "name": "ipython",
    "version": 2
   },
   "file_extension": ".py",
   "mimetype": "text/x-python",
   "name": "python",
   "nbconvert_exporter": "python",
   "pygments_lexer": "ipython2",
   "version": "2.7.6"
  }
 },
 "nbformat": 4,
 "nbformat_minor": 5
}
