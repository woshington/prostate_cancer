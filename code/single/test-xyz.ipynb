{
 "cells": [
  {
   "cell_type": "code",
   "metadata": {
    "ExecuteTime": {
     "end_time": "2025-09-08T18:28:55.337957Z",
     "start_time": "2025-09-08T18:28:53.152065Z"
    }
   },
   "source": [
    "import torch\n",
    "from torch.utils.data import DataLoader\n",
    "import os\n",
    "import pandas as pd\n",
    "from utils.dataset import PandasDataset, RGB2XYZTransform\n",
    "from utils.models import EfficientNet\n",
    "from utils.metrics import evaluation, format_metrics\n",
    "import albumentations"
   ],
   "outputs": [],
   "execution_count": 2
  },
  {
   "cell_type": "code",
   "metadata": {
    "ExecuteTime": {
     "end_time": "2025-09-08T18:28:57.558389Z",
     "start_time": "2025-09-08T18:28:57.553826Z"
    }
   },
   "source": [
    "output_dimensions = 5\n",
    "data_dir = '../../../dataset'\n",
    "ROOT_DIR = \"../..\"\n",
    "images_dir = os.path.join(data_dir, 'tiles')\n",
    "device = torch.device(\"cuda\") if torch.cuda.is_available() else torch.device(\"cpu\")\n",
    "df_test = pd.read_csv(\"../../data/test.csv\")\n",
    "backbone_model = 'efficientnet-b0'\n",
    "pretrained_model = {\n",
    "    backbone_model: f'{ROOT_DIR}/efficientnet-b0-08094119.pth'\n",
    "}"
   ],
   "outputs": [],
   "execution_count": 4
  },
  {
   "cell_type": "code",
   "metadata": {
    "ExecuteTime": {
     "end_time": "2025-09-08T18:28:57.821209Z",
     "start_time": "2025-09-08T18:28:57.819027Z"
    }
   },
   "source": "print(\"Cuda\", device)",
   "outputs": [
    {
     "name": "stdout",
     "output_type": "stream",
     "text": [
      "Cuda cuda\n"
     ]
    }
   ],
   "execution_count": 5
  },
  {
   "metadata": {
    "ExecuteTime": {
     "end_time": "2025-09-08T18:28:58.775617Z",
     "start_time": "2025-09-08T18:28:58.772928Z"
    }
   },
   "cell_type": "code",
   "source": [
    "val_transform =albumentations.Compose([\n",
    "    RGB2XYZTransform()\n",
    "])"
   ],
   "outputs": [],
   "execution_count": 6
  },
  {
   "cell_type": "code",
   "metadata": {
    "ExecuteTime": {
     "end_time": "2025-09-08T18:28:59.861628Z",
     "start_time": "2025-09-08T18:28:59.859325Z"
    }
   },
   "source": [
    "dataloader = DataLoader(\n",
    "    PandasDataset(images_dir, df_test, transforms=val_transform),\n",
    "    batch_size=2,\n",
    "    shuffle=False,\n",
    ")"
   ],
   "outputs": [],
   "execution_count": 7
  },
  {
   "cell_type": "code",
   "metadata": {
    "ExecuteTime": {
     "end_time": "2025-09-08T18:33:08.864905Z",
     "start_time": "2025-09-08T18:29:25.792995Z"
    }
   },
   "source": [
    "model = EfficientNet(\n",
    "    backbone=backbone_model,\n",
    "    output_dimensions=output_dimensions,\n",
    "    pre_trained_model=pretrained_model\n",
    ")\n",
    "model.to(device)\n",
    "model.load_state_dict(\n",
    "    torch.load(\n",
    "        f\"{ROOT_DIR}/models/with-noise-xyz.pth\",\n",
    "        weights_only=True\n",
    "    )\n",
    ")\n",
    "\n",
    "response = evaluation(model, dataloader, device)\n",
    "result = format_metrics(response[0])\n",
    "print(result)"
   ],
   "outputs": [
    {
     "name": "stdout",
     "output_type": "stream",
     "text": [
      "Loaded pretrained weights for efficientnet-b0\n"
     ]
    },
    {
     "name": "stderr",
     "output_type": "stream",
     "text": [
      "100%|██████████| 796/796 [03:39<00:00,  3.62it/s]\n"
     ]
    },
    {
     "name": "stdout",
     "output_type": "stream",
     "text": [
      "VAL_ACC      Mean: 62.25 | Std: 1.23 | 95% CI: [60.30, 64.26]\n",
      "VAL_KAPPA    Mean: 0.86 | Std: 0.01 | 95% CI: [0.85, 0.88]\n",
      "VAL_F1       Mean: 0.56 | Std: 0.01 | 95% CI: [0.54, 0.58]\n",
      "VAL_RECALL   Mean: 0.56 | Std: 0.01 | 95% CI: [0.54, 0.58]\n",
      "VAL_PRECISION Mean: 0.56 | Std: 0.01 | 95% CI: [0.54, 0.58]\n"
     ]
    }
   ],
   "execution_count": 9
  }
 ],
 "metadata": {
  "kernelspec": {
   "display_name": "venv",
   "language": "python",
   "name": "python3"
  },
  "language_info": {
   "codemirror_mode": {
    "name": "ipython",
    "version": 3
   },
   "file_extension": ".py",
   "mimetype": "text/x-python",
   "name": "python",
   "nbconvert_exporter": "python",
   "pygments_lexer": "ipython3",
   "version": "3.10.0"
  }
 },
 "nbformat": 4,
 "nbformat_minor": 2
}
