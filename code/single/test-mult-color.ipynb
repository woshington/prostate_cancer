{
 "cells": [
  {
   "cell_type": "code",
   "metadata": {
    "ExecuteTime": {
     "end_time": "2025-08-03T15:41:28.441383Z",
     "start_time": "2025-08-03T15:41:26.157468Z"
    }
   },
   "source": [
    "import torch\n",
    "from torch.utils.data import DataLoader\n",
    "import os\n",
    "import pandas as pd\n",
    "from work.utils.dataset import PandasDataset, MultiColorSpaceTransform\n",
    "from work.utils.models import EfficientNetMultiColor as EfficientNet\n",
    "from work.utils.metrics import evaluation\n",
    "from sklearn.metrics import confusion_matrix\n",
    "import seaborn as sns\n",
    "import matplotlib.pyplot as plt\n",
    "import albumentations"
   ],
   "outputs": [],
   "execution_count": 1
  },
  {
   "cell_type": "code",
   "metadata": {
    "ExecuteTime": {
     "end_time": "2025-08-03T15:41:28.511644Z",
     "start_time": "2025-08-03T15:41:28.480057Z"
    }
   },
   "source": [
    "output_dimensions = 5\n",
    "data_dir = '../../dataset'\n",
    "images_dir = os.path.join(data_dir, 'tiles')\n",
    "device = torch.device(\"cuda\") if torch.cuda.is_available() else torch.device(\"cpu\")\n",
    "df_test = pd.read_csv(f\"../data/test.csv\")\n",
    "backbone_model = 'efficientnet-b0'\n",
    "pretrained_model = {\n",
    "    backbone_model: '/home/woshington/Projects/Doutorado/work/efficientnet-b0-08094119.pth'\n",
    "}"
   ],
   "outputs": [],
   "execution_count": 2
  },
  {
   "cell_type": "code",
   "metadata": {
    "ExecuteTime": {
     "end_time": "2025-08-03T15:41:28.524054Z",
     "start_time": "2025-08-03T15:41:28.521933Z"
    }
   },
   "source": [
    "print(\"Cuda\", device)"
   ],
   "outputs": [
    {
     "name": "stdout",
     "output_type": "stream",
     "text": [
      "Cuda cuda\n"
     ]
    }
   ],
   "execution_count": 3
  },
  {
   "metadata": {
    "ExecuteTime": {
     "end_time": "2025-08-03T15:41:28.577360Z",
     "start_time": "2025-08-03T15:41:28.574234Z"
    }
   },
   "cell_type": "code",
   "source": [
    "val_transform =albumentations.Compose([\n",
    "    MultiColorSpaceTransform()\n",
    "])"
   ],
   "outputs": [],
   "execution_count": 4
  },
  {
   "cell_type": "code",
   "metadata": {
    "ExecuteTime": {
     "end_time": "2025-08-03T15:41:28.627038Z",
     "start_time": "2025-08-03T15:41:28.624653Z"
    }
   },
   "source": [
    "dataloader = DataLoader(\n",
    "    PandasDataset(images_dir, df_test, transforms=val_transform),\n",
    "    batch_size=2,\n",
    "    shuffle=False,\n",
    ")"
   ],
   "outputs": [],
   "execution_count": 5
  },
  {
   "cell_type": "code",
   "metadata": {
    "ExecuteTime": {
     "end_time": "2025-08-03T16:19:41.901595Z",
     "start_time": "2025-08-03T15:41:28.674848Z"
    }
   },
   "source": [
    "model = EfficientNet(\n",
    "    backbone=backbone_model,\n",
    "    output_dimensions=output_dimensions,\n",
    "    pre_trained_model=pretrained_model\n",
    ")\n",
    "model.to(device)\n",
    "model.load_state_dict(\n",
    "    torch.load(\n",
    "        \"models/with-noise-mult-color.pth\",\n",
    "        weights_only=True\n",
    "    )\n",
    ")\n",
    "\n",
    "response_0 = evaluation(model, dataloader, device)\n",
    "print(\"without treatment\", response_0[0])\n",
    "cm_0 = confusion_matrix(response_0[1][1], response_0[1][0])"
   ],
   "outputs": [
    {
     "name": "stdout",
     "output_type": "stream",
     "text": [
      "Loaded pretrained weights for efficientnet-b0\n"
     ]
    },
    {
     "name": "stderr",
     "output_type": "stream",
     "text": [
      "100%|██████████| 796/796 [38:09<00:00,  2.88s/it]\n"
     ]
    },
    {
     "name": "stdout",
     "output_type": "stream",
     "text": [
      "without treatment {'val_acc': {'mean': 55.816206109523776, 'std': 1.2407411868460452, 'ci_5': 53.706032037734985, 'ci_95': 57.85176157951355}, 'val_kappa': {'mean': 0.8277237165457386, 'std': 0.010480998576126116, 'ci_5': 0.8106696457045837, 'ci_95': 0.8447736512074808}, 'val_f1': {'mean': 0.5143755188882351, 'std': 0.013100866642445069, 'ci_5': 0.49307293742895125, 'ci_95': 0.5365917235612869}, 'val_recall': {'mean': 0.5124130220413208, 'std': 0.013136606185723704, 'ci_5': 0.49065131694078445, 'ci_95': 0.5347189158201218}, 'val_precision': {'mean': 0.5359026311337948, 'std': 0.013078489577956003, 'ci_5': 0.514653792977333, 'ci_95': 0.5572172313928604}}\n"
     ]
    }
   ],
   "execution_count": 6
  }
 ],
 "metadata": {
  "kernelspec": {
   "display_name": "venv",
   "language": "python",
   "name": "python3"
  },
  "language_info": {
   "codemirror_mode": {
    "name": "ipython",
    "version": 3
   },
   "file_extension": ".py",
   "mimetype": "text/x-python",
   "name": "python",
   "nbconvert_exporter": "python",
   "pygments_lexer": "ipython3",
   "version": "3.10.0"
  }
 },
 "nbformat": 4,
 "nbformat_minor": 2
}
