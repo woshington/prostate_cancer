{
 "cells": [
  {
   "cell_type": "code",
   "id": "initial_id",
   "metadata": {
    "collapsed": true,
    "ExecuteTime": {
     "end_time": "2025-04-10T00:37:38.467443Z",
     "start_time": "2025-04-10T00:37:38.463405Z"
    }
   },
   "source": [
    "import os\n",
    "import numpy as np\n",
    "import pandas as pd\n",
    "import torch\n",
    "import torch.nn as nn\n",
    "import torch.optim as optim\n",
    "from torch.utils.data.sampler import RandomSampler\n",
    "from warmup_scheduler import GradualWarmupScheduler\n",
    "import albumentations\n",
    "from work.utils.dataset import RGB2LABTransform, PandasDataset\n",
    "from work.utils.models import EfficientNet\n",
    "from work.utils.train import train_model\n",
    "from work.utils.metrics import model_checkpoint\n",
    "import random"
   ],
   "outputs": [],
   "execution_count": 30
  },
  {
   "metadata": {
    "ExecuteTime": {
     "end_time": "2025-04-10T00:37:38.527297Z",
     "start_time": "2025-04-10T00:37:38.515497Z"
    }
   },
   "cell_type": "code",
   "source": [
    "backbone_model = 'efficientnet-b0'\n",
    "pretrained_model = {\n",
    "    backbone_model: '../pre-trained-models/efficientnet-b0-08094119.pth'\n",
    "}\n",
    "\n",
    "data_dir = '../../dataset'\n",
    "images_dir = os.path.join(data_dir, 'tiles')\n",
    "\n",
    "df_train = pd.read_csv(f\"../data/train_5fold.csv\")"
   ],
   "id": "89c625053bfdc045",
   "outputs": [],
   "execution_count": 31
  },
  {
   "metadata": {
    "ExecuteTime": {
     "end_time": "2025-04-10T00:37:38.570437Z",
     "start_time": "2025-04-10T00:37:38.566079Z"
    }
   },
   "cell_type": "code",
   "source": [
    "seed = 42\n",
    "shuffle = True\n",
    "batch_size = 2\n",
    "num_workers = 4\n",
    "output_classes = 5\n",
    "init_lr = 3e-4\n",
    "warmup_factor = 10\n",
    "warmup_epochs = 1\n",
    "n_epochs = 15\n",
    "device = torch.device(\"cuda\" if torch.cuda.is_available() else \"cpu\")\n",
    "print(\"Using device:\", device)\n",
    "\n",
    "torch.manual_seed(seed)\n",
    "random.seed(seed)\n",
    "np.random.seed(seed)"
   ],
   "id": "2faaaf16ba1cb99d",
   "outputs": [
    {
     "name": "stdout",
     "output_type": "stream",
     "text": [
      "Using device: cuda\n"
     ]
    }
   ],
   "execution_count": 32
  },
  {
   "metadata": {
    "ExecuteTime": {
     "end_time": "2025-04-10T00:37:38.621053Z",
     "start_time": "2025-04-10T00:37:38.615747Z"
    }
   },
   "cell_type": "code",
   "source": [
    "loss_function = nn.BCEWithLogitsLoss()\n",
    "transforms = albumentations.Compose([\n",
    "    RGB2LABTransform(p=1.0),\n",
    "    albumentations.Transpose(p=0.5),\n",
    "    albumentations.VerticalFlip(p=0.5),\n",
    "    albumentations.HorizontalFlip(p=0.5),\n",
    "    # albumentations.Normalize(mean=(50, 0, 0), std=(50, 128, 128))\n",
    "])\n",
    "\n",
    "val_transform = albumentations.Compose([\n",
    "    RGB2LABTransform(p=1.0)\n",
    "])"
   ],
   "id": "8a3c826458d85295",
   "outputs": [],
   "execution_count": 33
  },
  {
   "metadata": {
    "ExecuteTime": {
     "end_time": "2025-04-10T00:37:38.670697Z",
     "start_time": "2025-04-10T00:37:38.664484Z"
    }
   },
   "cell_type": "code",
   "source": [
    "df_train.columns = df_train.columns.str.strip()\n",
    "\n",
    "train_indexes = np.where((df_train['fold'] != 3))[0]\n",
    "valid_indexes = np.where((df_train['fold'] == 3))[0]\n",
    "\n",
    "train = df_train.loc[train_indexes]\n",
    "valid = df_train.loc[valid_indexes]\n",
    "\n",
    "train_dataset = PandasDataset(images_dir, train, transforms=transforms)\n",
    "valid_dataset = PandasDataset(images_dir, valid, transforms=val_transform)"
   ],
   "id": "9747f8ec90aa7c9",
   "outputs": [],
   "execution_count": 34
  },
  {
   "metadata": {
    "ExecuteTime": {
     "end_time": "2025-04-10T00:37:38.716300Z",
     "start_time": "2025-04-10T00:37:38.713341Z"
    }
   },
   "cell_type": "code",
   "source": [
    "train_loader = torch.utils.data.DataLoader(\n",
    "    train_dataset, batch_size=2, num_workers=num_workers, sampler = RandomSampler(train_dataset)\n",
    ")\n",
    "valid_loader = torch.utils.data.DataLoader(\n",
    "    valid_dataset, batch_size=2, num_workers=num_workers, sampler = RandomSampler(valid_dataset)\n",
    ")"
   ],
   "id": "621d2162859a5107",
   "outputs": [],
   "execution_count": 35
  },
  {
   "metadata": {
    "ExecuteTime": {
     "end_time": "2025-04-10T00:37:38.961685Z",
     "start_time": "2025-04-10T00:37:38.762428Z"
    }
   },
   "cell_type": "code",
   "source": [
    "model = EfficientNet(\n",
    "    backbone=backbone_model,\n",
    "    output_dimensions=output_classes,\n",
    "    pre_trained_model=pretrained_model\n",
    ")\n",
    "model = model.to(device)"
   ],
   "id": "333086daad8ece0b",
   "outputs": [
    {
     "name": "stdout",
     "output_type": "stream",
     "text": [
      "Loaded pretrained weights for efficientnet-b0\n"
     ]
    }
   ],
   "execution_count": 36
  },
  {
   "metadata": {
    "ExecuteTime": {
     "end_time": "2025-04-10T00:37:38.981613Z",
     "start_time": "2025-04-10T00:37:38.977980Z"
    }
   },
   "cell_type": "code",
   "source": [
    "optimizer = optim.Adam(model.parameters(), lr = init_lr / warmup_factor)\n",
    "scheduler_cosine = torch.optim.lr_scheduler.CosineAnnealingLR(optimizer, n_epochs - warmup_epochs)\n",
    "scheduler = GradualWarmupScheduler(optimizer, multiplier = warmup_factor, total_epoch = warmup_epochs, after_scheduler=scheduler_cosine)\n",
    "save_path = f'models/with-noise-lab.pth'\n",
    "\n",
    "print(optimizer, scheduler_cosine)"
   ],
   "id": "f36b0e46d35b5195",
   "outputs": [
    {
     "name": "stdout",
     "output_type": "stream",
     "text": [
      "Adam (\n",
      "Parameter Group 0\n",
      "    amsgrad: False\n",
      "    betas: (0.9, 0.999)\n",
      "    capturable: False\n",
      "    differentiable: False\n",
      "    eps: 1e-08\n",
      "    foreach: None\n",
      "    fused: None\n",
      "    initial_lr: 2.9999999999999997e-05\n",
      "    lr: 2.9999999999999997e-05\n",
      "    maximize: False\n",
      "    weight_decay: 0\n",
      ") <torch.optim.lr_scheduler.CosineAnnealingLR object at 0x746f0152d510>\n"
     ]
    }
   ],
   "execution_count": 37
  },
  {
   "metadata": {
    "ExecuteTime": {
     "end_time": "2025-04-10T07:55:06.123538Z",
     "start_time": "2025-04-10T00:37:39.028510Z"
    }
   },
   "cell_type": "code",
   "source": [
    "train_model(\n",
    "    model=model,\n",
    "    epochs=n_epochs,\n",
    "    optimizer=optimizer,\n",
    "    scheduler=scheduler,\n",
    "    train_dataloader=train_loader,\n",
    "    valid_dataloader=valid_loader,\n",
    "    checkpoint=model_checkpoint,\n",
    "    device=device,\n",
    "    loss_function=loss_function,\n",
    "    path_to_save_metrics=\"logs/with-noise-lab.txt\",\n",
    "    path_to_save_model=save_path\n",
    ")"
   ],
   "id": "dc2fb404667a3838",
   "outputs": [
    {
     "name": "stdout",
     "output_type": "stream",
     "text": [
      "Epoch 1/15\n",
      "\n"
     ]
    },
    {
     "name": "stderr",
     "output_type": "stream",
     "text": [
      "loss: 0.85046, smooth loss: 0.40285: 100%|██████████| 3610/3610 [27:34<00:00,  2.18it/s]\n",
      "100%|██████████| 903/903 [04:02<00:00,  3.72it/s]\n"
     ]
    },
    {
     "name": "stdout",
     "output_type": "stream",
     "text": [
      "Salvando o melhor modelo... 0.0 -> 0.6903065525497069\n",
      "Epoch 2/15\n",
      "\n"
     ]
    },
    {
     "name": "stderr",
     "output_type": "stream",
     "text": [
      "loss: 0.11705, smooth loss: 0.35224: 100%|██████████| 3610/3610 [27:26<00:00,  2.19it/s]\n",
      "100%|██████████| 903/903 [03:41<00:00,  4.08it/s]\n"
     ]
    },
    {
     "name": "stdout",
     "output_type": "stream",
     "text": [
      "Epoch 3/15\n",
      "\n"
     ]
    },
    {
     "name": "stderr",
     "output_type": "stream",
     "text": [
      "loss: 0.51670, smooth loss: 0.29323: 100%|██████████| 3610/3610 [25:23<00:00,  2.37it/s]\n",
      "100%|██████████| 903/903 [03:34<00:00,  4.21it/s]\n"
     ]
    },
    {
     "name": "stdout",
     "output_type": "stream",
     "text": [
      "Salvando o melhor modelo... 0.6903065525497069 -> 0.8130217636199313\n",
      "Epoch 4/15\n",
      "\n"
     ]
    },
    {
     "name": "stderr",
     "output_type": "stream",
     "text": [
      "loss: 0.37966, smooth loss: 0.29681: 100%|██████████| 3610/3610 [25:17<00:00,  2.38it/s]\n",
      "100%|██████████| 903/903 [03:28<00:00,  4.32it/s]\n"
     ]
    },
    {
     "name": "stdout",
     "output_type": "stream",
     "text": [
      "Salvando o melhor modelo... 0.8130217636199313 -> 0.8220913127596226\n",
      "Epoch 5/15\n",
      "\n"
     ]
    },
    {
     "name": "stderr",
     "output_type": "stream",
     "text": [
      "loss: 0.16353, smooth loss: 0.31578: 100%|██████████| 3610/3610 [25:21<00:00,  2.37it/s]\n",
      "100%|██████████| 903/903 [03:30<00:00,  4.29it/s]\n"
     ]
    },
    {
     "name": "stdout",
     "output_type": "stream",
     "text": [
      "Epoch 6/15\n",
      "\n"
     ]
    },
    {
     "name": "stderr",
     "output_type": "stream",
     "text": [
      "loss: 0.10669, smooth loss: 0.23782: 100%|██████████| 3610/3610 [25:18<00:00,  2.38it/s]\n",
      "100%|██████████| 903/903 [03:29<00:00,  4.32it/s]\n"
     ]
    },
    {
     "name": "stdout",
     "output_type": "stream",
     "text": [
      "Salvando o melhor modelo... 0.8220913127596226 -> 0.8388317148426815\n",
      "Epoch 7/15\n",
      "\n"
     ]
    },
    {
     "name": "stderr",
     "output_type": "stream",
     "text": [
      "loss: 0.33973, smooth loss: 0.20612: 100%|██████████| 3610/3610 [25:18<00:00,  2.38it/s]\n",
      "100%|██████████| 903/903 [03:29<00:00,  4.31it/s]\n"
     ]
    },
    {
     "name": "stdout",
     "output_type": "stream",
     "text": [
      "Epoch 8/15\n",
      "\n"
     ]
    },
    {
     "name": "stderr",
     "output_type": "stream",
     "text": [
      "loss: 0.23480, smooth loss: 0.25676: 100%|██████████| 3610/3610 [25:18<00:00,  2.38it/s]\n",
      "100%|██████████| 903/903 [03:27<00:00,  4.36it/s]\n"
     ]
    },
    {
     "name": "stdout",
     "output_type": "stream",
     "text": [
      "Epoch 9/15\n",
      "\n"
     ]
    },
    {
     "name": "stderr",
     "output_type": "stream",
     "text": [
      "loss: 0.21513, smooth loss: 0.23015: 100%|██████████| 3610/3610 [25:18<00:00,  2.38it/s]\n",
      "100%|██████████| 903/903 [03:32<00:00,  4.25it/s]\n"
     ]
    },
    {
     "name": "stdout",
     "output_type": "stream",
     "text": [
      "Salvando o melhor modelo... 0.8388317148426815 -> 0.843869130226241\n",
      "Epoch 10/15\n",
      "\n"
     ]
    },
    {
     "name": "stderr",
     "output_type": "stream",
     "text": [
      "loss: 0.01377, smooth loss: 0.17392: 100%|██████████| 3610/3610 [25:18<00:00,  2.38it/s]\n",
      "100%|██████████| 903/903 [03:30<00:00,  4.29it/s]\n"
     ]
    },
    {
     "name": "stdout",
     "output_type": "stream",
     "text": [
      "Salvando o melhor modelo... 0.843869130226241 -> 0.8483710943746832\n",
      "Epoch 11/15\n",
      "\n"
     ]
    },
    {
     "name": "stderr",
     "output_type": "stream",
     "text": [
      "loss: 0.19857, smooth loss: 0.25353: 100%|██████████| 3610/3610 [25:18<00:00,  2.38it/s]\n",
      "100%|██████████| 903/903 [03:33<00:00,  4.22it/s]\n"
     ]
    },
    {
     "name": "stdout",
     "output_type": "stream",
     "text": [
      "Epoch 12/15\n",
      "\n"
     ]
    },
    {
     "name": "stderr",
     "output_type": "stream",
     "text": [
      "loss: 0.22676, smooth loss: 0.19616: 100%|██████████| 3610/3610 [25:17<00:00,  2.38it/s]\n",
      "100%|██████████| 903/903 [03:29<00:00,  4.30it/s]\n"
     ]
    },
    {
     "name": "stdout",
     "output_type": "stream",
     "text": [
      "Epoch 13/15\n",
      "\n"
     ]
    },
    {
     "name": "stderr",
     "output_type": "stream",
     "text": [
      "loss: 0.11549, smooth loss: 0.25435: 100%|██████████| 3610/3610 [25:18<00:00,  2.38it/s]\n",
      "100%|██████████| 903/903 [03:31<00:00,  4.27it/s]\n"
     ]
    },
    {
     "name": "stdout",
     "output_type": "stream",
     "text": [
      "Epoch 14/15\n",
      "\n"
     ]
    },
    {
     "name": "stderr",
     "output_type": "stream",
     "text": [
      "loss: 0.05893, smooth loss: 0.18800: 100%|██████████| 3610/3610 [25:17<00:00,  2.38it/s]\n",
      "100%|██████████| 903/903 [03:31<00:00,  4.28it/s]\n"
     ]
    },
    {
     "name": "stdout",
     "output_type": "stream",
     "text": [
      "Epoch 15/15\n",
      "\n"
     ]
    },
    {
     "name": "stderr",
     "output_type": "stream",
     "text": [
      "loss: 0.11971, smooth loss: 0.18646: 100%|██████████| 3610/3610 [25:16<00:00,  2.38it/s]\n",
      "100%|██████████| 903/903 [03:31<00:00,  4.28it/s]"
     ]
    },
    {
     "name": "stdout",
     "output_type": "stream",
     "text": [
      "Salvando o melhor modelo... 0.8483710943746832 -> 0.8499759192540549\n"
     ]
    },
    {
     "name": "stderr",
     "output_type": "stream",
     "text": [
      "\n"
     ]
    }
   ],
   "execution_count": 38
  }
 ],
 "metadata": {
  "kernelspec": {
   "display_name": "Python 3",
   "language": "python",
   "name": "python3"
  },
  "language_info": {
   "codemirror_mode": {
    "name": "ipython",
    "version": 2
   },
   "file_extension": ".py",
   "mimetype": "text/x-python",
   "name": "python",
   "nbconvert_exporter": "python",
   "pygments_lexer": "ipython2",
   "version": "2.7.6"
  }
 },
 "nbformat": 4,
 "nbformat_minor": 5
}
