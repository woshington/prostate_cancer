{
 "cells": [
  {
   "cell_type": "code",
   "metadata": {
    "ExecuteTime": {
     "end_time": "2025-08-04T15:04:18.645630Z",
     "start_time": "2025-08-04T15:04:15.503512Z"
    }
   },
   "source": [
    "import torch\n",
    "from torch.utils.data import DataLoader\n",
    "import os\n",
    "import pandas as pd\n",
    "from work.utils.dataset import PandasDataset, RGB2Fusion\n",
    "from work.utils.models import EfficientNet\n",
    "from work.utils.metrics import evaluation\n",
    "from sklearn.metrics import confusion_matrix\n",
    "import albumentations"
   ],
   "outputs": [],
   "execution_count": 1
  },
  {
   "cell_type": "code",
   "metadata": {
    "ExecuteTime": {
     "end_time": "2025-08-04T15:04:18.700330Z",
     "start_time": "2025-08-04T15:04:18.687934Z"
    }
   },
   "source": [
    "backbone_model = 'efficientnet-b0'\n",
    "pretrained_model = {\n",
    "    backbone_model: '../efficientnet-b0-08094119.pth'\n",
    "}\n",
    "data_dir = '../../dataset'\n",
    "images_dir = os.path.join(data_dir, 'tiles')\n",
    "\n",
    "df_test = pd.read_csv(f\"../data/test.csv\")\n",
    "device = torch.device(\"cuda\" if torch.cuda.is_available() else \"cpu\")\n",
    "output_dimensions = 5"
   ],
   "outputs": [],
   "execution_count": 2
  },
  {
   "cell_type": "code",
   "metadata": {
    "ExecuteTime": {
     "end_time": "2025-08-04T15:04:18.743632Z",
     "start_time": "2025-08-04T15:04:18.740180Z"
    }
   },
   "source": [
    "print(\"Cuda\", device)"
   ],
   "outputs": [
    {
     "name": "stdout",
     "output_type": "stream",
     "text": [
      "Cuda cuda\n"
     ]
    }
   ],
   "execution_count": 3
  },
  {
   "metadata": {
    "ExecuteTime": {
     "end_time": "2025-08-04T15:04:18.797318Z",
     "start_time": "2025-08-04T15:04:18.793979Z"
    }
   },
   "cell_type": "code",
   "source": [
    "transform =albumentations.Compose([\n",
    "    RGB2Fusion(mode=\"max\", space_colors=[\"rgb\", \"xyz\", \"lab\"]),\n",
    "])"
   ],
   "outputs": [],
   "execution_count": 4
  },
  {
   "cell_type": "code",
   "metadata": {
    "ExecuteTime": {
     "end_time": "2025-08-04T15:04:18.851868Z",
     "start_time": "2025-08-04T15:04:18.849628Z"
    }
   },
   "source": [
    "dataloader = DataLoader(\n",
    "    PandasDataset(images_dir, df_test, transforms=transform),\n",
    "    batch_size=2,\n",
    "    shuffle=False,\n",
    ")"
   ],
   "outputs": [],
   "execution_count": 5
  },
  {
   "cell_type": "code",
   "metadata": {
    "ExecuteTime": {
     "end_time": "2025-08-04T15:37:17.307201Z",
     "start_time": "2025-08-04T15:04:18.900238Z"
    }
   },
   "source": [
    "model = EfficientNet(\n",
    "    backbone=backbone_model,\n",
    "    output_dimensions=output_dimensions,\n",
    "    pre_trained_model=pretrained_model\n",
    ")\n",
    "model.to(device)\n",
    "model.load_state_dict(\n",
    "    torch.load(\n",
    "        \"models/with-noise-fusion-max-3-images.pth\",\n",
    "        weights_only=True\n",
    "    )\n",
    ")\n",
    "\n",
    "response_0 = evaluation(model, dataloader, device)\n",
    "print(\"without treatment\", response_0[0])\n",
    "cm_0 = confusion_matrix(response_0[1][1], response_0[1][0])"
   ],
   "outputs": [
    {
     "name": "stdout",
     "output_type": "stream",
     "text": [
      "Loaded pretrained weights for efficientnet-b0\n"
     ]
    },
    {
     "name": "stderr",
     "output_type": "stream",
     "text": [
      "100%|██████████| 796/796 [32:55<00:00,  2.48s/it]\n"
     ]
    },
    {
     "name": "stdout",
     "output_type": "stream",
     "text": [
      "without treatment {'val_acc': {'mean': 61.47292720079422, 'std': 1.2406626209459328, 'ci_5': 59.42211151123047, 'ci_95': 63.44221234321594}, 'val_kappa': {'mean': 0.8498734462910676, 'std': 0.010031731820573283, 'ci_5': 0.8325826474902217, 'ci_95': 0.8659759518665118}, 'val_f1': {'mean': 0.5562127445340157, 'std': 0.013066023371671984, 'ci_5': 0.5356912225484848, 'ci_95': 0.5779006004333496}, 'val_recall': {'mean': 0.5563964654803276, 'std': 0.013326440267590106, 'ci_5': 0.5352728098630906, 'ci_95': 0.578430563211441}, 'val_precision': {'mean': 0.5592746970057487, 'std': 0.01294799330635752, 'ci_5': 0.5378402233123779, 'ci_95': 0.5807172626256942}}\n"
     ]
    }
   ],
   "execution_count": 6
  }
 ],
 "metadata": {
  "kernelspec": {
   "display_name": "venv",
   "language": "python",
   "name": "python3"
  },
  "language_info": {
   "codemirror_mode": {
    "name": "ipython",
    "version": 3
   },
   "file_extension": ".py",
   "mimetype": "text/x-python",
   "name": "python",
   "nbconvert_exporter": "python",
   "pygments_lexer": "ipython3",
   "version": "3.10.0"
  }
 },
 "nbformat": 4,
 "nbformat_minor": 2
}
