{
 "cells": [
  {
   "cell_type": "code",
   "metadata": {
    "ExecuteTime": {
     "end_time": "2025-08-04T12:09:54.610941Z",
     "start_time": "2025-08-04T12:09:54.607805Z"
    }
   },
   "source": [
    "import torch\n",
    "from torch.utils.data import DataLoader\n",
    "import os\n",
    "import pandas as pd\n",
    "from work.utils.dataset import PandasDataset, RGB2Fusion\n",
    "import albumentations\n",
    "from work.utils.models import EfficientNet\n",
    "from work.utils.metrics import evaluation\n",
    "from sklearn.metrics import confusion_matrix"
   ],
   "outputs": [],
   "execution_count": 13
  },
  {
   "cell_type": "code",
   "metadata": {
    "ExecuteTime": {
     "end_time": "2025-08-04T12:09:54.662944Z",
     "start_time": "2025-08-04T12:09:54.658096Z"
    }
   },
   "source": [
    "output_dimensions = 5\n",
    "data_dir = '../../dataset'\n",
    "images_dir = os.path.join(data_dir, 'tiles')\n",
    "device = torch.device(\"cuda\") if torch.cuda.is_available() else torch.device(\"cpu\")\n",
    "df_test = pd.read_csv(f\"../data/test.csv\")\n",
    "backbone_model = 'efficientnet-b0'\n",
    "pretrained_model = {\n",
    "    backbone_model: '/home/woshington/Projects/Doutorado/work/efficientnet-b0-08094119.pth'\n",
    "}"
   ],
   "outputs": [],
   "execution_count": 14
  },
  {
   "cell_type": "code",
   "metadata": {
    "ExecuteTime": {
     "end_time": "2025-08-04T12:09:54.709511Z",
     "start_time": "2025-08-04T12:09:54.707394Z"
    }
   },
   "source": [
    "print(\"Cuda\", device)"
   ],
   "outputs": [
    {
     "name": "stdout",
     "output_type": "stream",
     "text": [
      "Cuda cuda\n"
     ]
    }
   ],
   "execution_count": 15
  },
  {
   "metadata": {
    "ExecuteTime": {
     "end_time": "2025-08-04T12:09:54.763645Z",
     "start_time": "2025-08-04T12:09:54.760632Z"
    }
   },
   "cell_type": "code",
   "source": [
    "val_transform =albumentations.Compose([\n",
    "    RGB2Fusion(mode=\"sum\", space_colors=[\"rgb\", \"xyz\", \"lab\"]),\n",
    "])"
   ],
   "outputs": [],
   "execution_count": 16
  },
  {
   "cell_type": "code",
   "metadata": {
    "ExecuteTime": {
     "end_time": "2025-08-04T12:09:54.813238Z",
     "start_time": "2025-08-04T12:09:54.810841Z"
    }
   },
   "source": [
    "dataloader = DataLoader(\n",
    "    PandasDataset(images_dir, df_test, transforms=val_transform),\n",
    "    batch_size=2,\n",
    "    shuffle=False,\n",
    ")"
   ],
   "outputs": [],
   "execution_count": 17
  },
  {
   "metadata": {
    "ExecuteTime": {
     "end_time": "2025-08-04T12:44:10.045216Z",
     "start_time": "2025-08-04T12:09:54.860951Z"
    }
   },
   "cell_type": "code",
   "source": [
    "model = EfficientNet(\n",
    "    backbone=backbone_model,\n",
    "    output_dimensions=output_dimensions,\n",
    "    pre_trained_model=pretrained_model\n",
    ")\n",
    "model.to(device)\n",
    "model.load_state_dict(\n",
    "    torch.load(\n",
    "        \"models/fusion-sum.pth\",\n",
    "        weights_only=True\n",
    "    )\n",
    ")\n",
    "\n",
    "response_0 = evaluation(model, dataloader, device)\n",
    "print(\"without treatment\", response_0[0])\n"
   ],
   "outputs": [
    {
     "name": "stdout",
     "output_type": "stream",
     "text": [
      "Loaded pretrained weights for efficientnet-b0\n"
     ]
    },
    {
     "name": "stderr",
     "output_type": "stream",
     "text": [
      "100%|██████████| 796/796 [34:12<00:00,  2.58s/it]\n"
     ]
    },
    {
     "name": "stdout",
     "output_type": "stream",
     "text": [
      "without treatment {'val_acc': {'mean': 60.055276489257814, 'std': 1.2090192720321227, 'ci_5': 58.16583037376404, 'ci_95': 62.000626027584076}, 'val_kappa': {'mean': 0.8200664899763548, 'std': 0.012367270783631834, 'ci_5': 0.7992301494415793, 'ci_95': 0.8402981682733633}, 'val_f1': {'mean': 0.5398267081975937, 'std': 0.01271082250939262, 'ci_5': 0.5191817820072174, 'ci_95': 0.5601608514785766}, 'val_recall': {'mean': 0.5390451556444168, 'std': 0.012704715731874408, 'ci_5': 0.5181984335184098, 'ci_95': 0.5593686908483505}, 'val_precision': {'mean': 0.5450801727771759, 'std': 0.012868361050821592, 'ci_5': 0.5238999515771866, 'ci_95': 0.5658688336610794}}\n"
     ]
    }
   ],
   "execution_count": 18
  },
  {
   "metadata": {
    "ExecuteTime": {
     "end_time": "2025-08-04T12:44:10.063973Z",
     "start_time": "2025-08-04T12:44:10.059825Z"
    }
   },
   "cell_type": "code",
   "source": "matriz = confusion_matrix(response_0[1][1], response_0[1][0])",
   "outputs": [],
   "execution_count": 19
  },
  {
   "metadata": {
    "ExecuteTime": {
     "end_time": "2025-08-04T12:44:10.116368Z",
     "start_time": "2025-08-04T12:44:10.113531Z"
    }
   },
   "cell_type": "code",
   "source": "print(matriz)",
   "outputs": [
    {
     "name": "stdout",
     "output_type": "stream",
     "text": [
      "[[382  27  13   2   8   2]\n",
      " [ 73 244  70  11   2   0]\n",
      " [  9  54  82  44  11   1]\n",
      " [  5  11  33  75  47  15]\n",
      " [  9  12  16  27  79  44]\n",
      " [  5   6   6  17  56  94]]\n"
     ]
    }
   ],
   "execution_count": 20
  }
 ],
 "metadata": {
  "kernelspec": {
   "display_name": "venv",
   "language": "python",
   "name": "python3"
  },
  "language_info": {
   "codemirror_mode": {
    "name": "ipython",
    "version": 3
   },
   "file_extension": ".py",
   "mimetype": "text/x-python",
   "name": "python",
   "nbconvert_exporter": "python",
   "pygments_lexer": "ipython3",
   "version": "3.10.0"
  }
 },
 "nbformat": 4,
 "nbformat_minor": 2
}
