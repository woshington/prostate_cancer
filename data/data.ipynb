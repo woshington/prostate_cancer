{
 "cells": [
  {
   "cell_type": "code",
   "id": "initial_id",
   "metadata": {
    "collapsed": true,
    "ExecuteTime": {
     "end_time": "2025-09-09T14:30:05.085018Z",
     "start_time": "2025-09-09T14:30:05.082854Z"
    }
   },
   "source": [
    "import pandas as pd\n",
    "from sklearn.model_selection import train_test_split\n",
    "from sklearn.model_selection import StratifiedKFold"
   ],
   "outputs": [],
   "execution_count": 8
  },
  {
   "cell_type": "code",
   "id": "86605af49b437830",
   "metadata": {
    "ExecuteTime": {
     "end_time": "2025-09-09T14:30:05.148329Z",
     "start_time": "2025-09-09T14:30:05.133954Z"
    }
   },
   "source": [
    "df = pd.read_csv(\"../../dataset/train.csv\")\n",
    "df.head()"
   ],
   "outputs": [
    {
     "data": {
      "text/plain": [
       "                           image_id data_provider  isup_grade gleason_score\n",
       "0  0005f7aaab2800f6170c399693a96917    karolinska           0           0+0\n",
       "1  000920ad0b612851f8e01bcc880d9b3d    karolinska           0           0+0\n",
       "2  0018ae58b01bdadc8e347995b69f99aa       radboud           4           4+4\n",
       "3  001c62abd11fa4b57bf7a6c603a11bb9    karolinska           4           4+4\n",
       "4  001d865e65ef5d2579c190a0e0350d8f    karolinska           0           0+0"
      ],
      "text/html": [
       "<div>\n",
       "<style scoped>\n",
       "    .dataframe tbody tr th:only-of-type {\n",
       "        vertical-align: middle;\n",
       "    }\n",
       "\n",
       "    .dataframe tbody tr th {\n",
       "        vertical-align: top;\n",
       "    }\n",
       "\n",
       "    .dataframe thead th {\n",
       "        text-align: right;\n",
       "    }\n",
       "</style>\n",
       "<table border=\"1\" class=\"dataframe\">\n",
       "  <thead>\n",
       "    <tr style=\"text-align: right;\">\n",
       "      <th></th>\n",
       "      <th>image_id</th>\n",
       "      <th>data_provider</th>\n",
       "      <th>isup_grade</th>\n",
       "      <th>gleason_score</th>\n",
       "    </tr>\n",
       "  </thead>\n",
       "  <tbody>\n",
       "    <tr>\n",
       "      <th>0</th>\n",
       "      <td>0005f7aaab2800f6170c399693a96917</td>\n",
       "      <td>karolinska</td>\n",
       "      <td>0</td>\n",
       "      <td>0+0</td>\n",
       "    </tr>\n",
       "    <tr>\n",
       "      <th>1</th>\n",
       "      <td>000920ad0b612851f8e01bcc880d9b3d</td>\n",
       "      <td>karolinska</td>\n",
       "      <td>0</td>\n",
       "      <td>0+0</td>\n",
       "    </tr>\n",
       "    <tr>\n",
       "      <th>2</th>\n",
       "      <td>0018ae58b01bdadc8e347995b69f99aa</td>\n",
       "      <td>radboud</td>\n",
       "      <td>4</td>\n",
       "      <td>4+4</td>\n",
       "    </tr>\n",
       "    <tr>\n",
       "      <th>3</th>\n",
       "      <td>001c62abd11fa4b57bf7a6c603a11bb9</td>\n",
       "      <td>karolinska</td>\n",
       "      <td>4</td>\n",
       "      <td>4+4</td>\n",
       "    </tr>\n",
       "    <tr>\n",
       "      <th>4</th>\n",
       "      <td>001d865e65ef5d2579c190a0e0350d8f</td>\n",
       "      <td>karolinska</td>\n",
       "      <td>0</td>\n",
       "      <td>0+0</td>\n",
       "    </tr>\n",
       "  </tbody>\n",
       "</table>\n",
       "</div>"
      ]
     },
     "execution_count": 9,
     "metadata": {},
     "output_type": "execute_result"
    }
   ],
   "execution_count": 9
  },
  {
   "metadata": {
    "ExecuteTime": {
     "end_time": "2025-09-09T14:30:05.248316Z",
     "start_time": "2025-09-09T14:30:05.246483Z"
    }
   },
   "cell_type": "code",
   "source": [
    "SEED=42\n",
    "n_folds = 5\n",
    "shuffle = True"
   ],
   "id": "4b0b5b7d4cf44af7",
   "outputs": [],
   "execution_count": 10
  },
  {
   "cell_type": "code",
   "id": "1b3d795615e41dfe",
   "metadata": {
    "ExecuteTime": {
     "end_time": "2025-09-09T14:30:05.357056Z",
     "start_time": "2025-09-09T14:30:05.348167Z"
    }
   },
   "source": [
    "train_df, val_test_df = train_test_split(df, test_size=0.3, random_state=SEED, shuffle=True, stratify=df[\"isup_grade\"])\n",
    "test_df, val_df = train_test_split(val_test_df, test_size=0.5, random_state=SEED, shuffle=True, stratify=val_test_df[\"isup_grade\"])"
   ],
   "outputs": [],
   "execution_count": 11
  },
  {
   "cell_type": "code",
   "id": "a7e4a1ad0b0812a3",
   "metadata": {
    "ExecuteTime": {
     "end_time": "2025-09-09T14:30:05.418616Z",
     "start_time": "2025-09-09T14:30:05.415819Z"
    }
   },
   "source": "(train_df.shape, val_df.shape, test_df.shape)",
   "outputs": [
    {
     "data": {
      "text/plain": [
       "((7431, 4), (1593, 4), (1592, 4))"
      ]
     },
     "execution_count": 12,
     "metadata": {},
     "output_type": "execute_result"
    }
   ],
   "execution_count": 12
  },
  {
   "cell_type": "code",
   "id": "bc78feb47716e07b",
   "metadata": {
    "ExecuteTime": {
     "end_time": "2025-09-09T14:30:05.481866Z",
     "start_time": "2025-09-09T14:30:05.465016Z"
    }
   },
   "source": [
    "train_df.to_csv(\"train.csv\", index=False)\n",
    "val_df.to_csv(\"val.csv\", index=False)\n",
    "test_df.to_csv(\"test.csv\", index=False)"
   ],
   "outputs": [],
   "execution_count": 13
  },
  {
   "cell_type": "code",
   "id": "2e0a688514899240",
   "metadata": {
    "ExecuteTime": {
     "end_time": "2025-09-09T14:30:05.524818Z",
     "start_time": "2025-09-09T14:30:05.511728Z"
    }
   },
   "source": [
    "train_val_df = pd.concat([train_df, val_df], axis=0)\n",
    "train_val_df.to_csv(\"train_val.csv\", index=False)"
   ],
   "outputs": [],
   "execution_count": 14
  },
  {
   "cell_type": "code",
   "id": "9ffe2a2847a33f06",
   "metadata": {
    "ExecuteTime": {
     "end_time": "2025-09-09T14:31:26.575361Z",
     "start_time": "2025-09-09T14:31:26.555093Z"
    }
   },
   "source": [
    "train_val_df.columns = train_val_df.columns.str.strip()\n",
    "train_val_df = train_val_df.reset_index(drop=True)\n",
    "stratified_k_fold = StratifiedKFold(n_folds, shuffle = shuffle, random_state=SEED)\n",
    "train_val_df['fold'] = -1\n",
    "\n",
    "train_val_df.head()\n",
    "for i, (train_indexes, valid_indexes) in enumerate(stratified_k_fold.split(train_val_df, train_val_df['isup_grade'])):\n",
    "    train_val_df.loc[valid_indexes, 'fold'] = i\n",
    "train_val_df.to_csv(f'train_{n_folds}_fold.csv', index=False)"
   ],
   "outputs": [],
   "execution_count": 16
  },
  {
   "metadata": {},
   "cell_type": "markdown",
   "source": "## Sample",
   "id": "516e43b4d6d88d97"
  },
  {
   "metadata": {
    "ExecuteTime": {
     "end_time": "2025-09-09T14:36:15.345720Z",
     "start_time": "2025-09-09T14:36:14.943370Z"
    }
   },
   "cell_type": "code",
   "source": [
    "N = 1000\n",
    "\n",
    "df_sampled = (\n",
    "    df.groupby(\"isup_grade\", group_keys=False)\n",
    "      .apply(\n",
    "          lambda x: x.sample(frac=N/len(df), random_state=SEED),\n",
    "          include_groups=False\n",
    "      )\n",
    "      .reset_index(drop=True)\n",
    ")\n",
    "\n",
    "train_df, val_test_df = train_test_split(\n",
    "    df_sampled,\n",
    "    test_size=0.3,          # 70% treino, 30% (val+test)\n",
    "    random_state=SEED,\n",
    "    shuffle=True,\n",
    "    stratify=df_sampled[\"isup_grade\"]\n",
    ")\n",
    "\n",
    "val_df, test_df = train_test_split(\n",
    "    val_test_df,\n",
    "    test_size=0.5,          # 15% val, 15% test\n",
    "    random_state=SEED,\n",
    "    shuffle=True,\n",
    "    stratify=val_test_df[\"isup_grade\"]\n",
    ")\n",
    "\n",
    "train_df.to_csv(\"sample/train.csv\", index=False)\n",
    "val_df.to_csv(\"sample/val.csv\", index=False)\n",
    "test_df.to_csv(\"sample/test.csv\", index=False)\n",
    "\n",
    "print(f\"Tamanho final -> train: {len(train_df)}, val: {len(val_df)}, test: {len(test_df)}\")\n",
    "print(train_df[\"isup_grade\"].value_counts(normalize=True))\n",
    "print(val_df[\"isup_grade\"].value_counts(normalize=True))\n",
    "print(test_df[\"isup_grade\"].value_counts(normalize=True))"
   ],
   "id": "5bfe7caa7f340773",
   "outputs": [
    {
     "ename": "KeyError",
     "evalue": "'isup_grade'",
     "output_type": "error",
     "traceback": [
      "\u001B[31m---------------------------------------------------------------------------\u001B[39m",
      "\u001B[31mKeyError\u001B[39m                                  Traceback (most recent call last)",
      "\u001B[36mFile \u001B[39m\u001B[32m~/Projects/Doutorado/repo/.venv/lib/python3.12/site-packages/pandas/core/indexes/base.py:3812\u001B[39m, in \u001B[36mIndex.get_loc\u001B[39m\u001B[34m(self, key)\u001B[39m\n\u001B[32m   3811\u001B[39m \u001B[38;5;28;01mtry\u001B[39;00m:\n\u001B[32m-> \u001B[39m\u001B[32m3812\u001B[39m     \u001B[38;5;28;01mreturn\u001B[39;00m \u001B[38;5;28;43mself\u001B[39;49m\u001B[43m.\u001B[49m\u001B[43m_engine\u001B[49m\u001B[43m.\u001B[49m\u001B[43mget_loc\u001B[49m\u001B[43m(\u001B[49m\u001B[43mcasted_key\u001B[49m\u001B[43m)\u001B[49m\n\u001B[32m   3813\u001B[39m \u001B[38;5;28;01mexcept\u001B[39;00m \u001B[38;5;167;01mKeyError\u001B[39;00m \u001B[38;5;28;01mas\u001B[39;00m err:\n",
      "\u001B[36mFile \u001B[39m\u001B[32mpandas/_libs/index.pyx:167\u001B[39m, in \u001B[36mpandas._libs.index.IndexEngine.get_loc\u001B[39m\u001B[34m()\u001B[39m\n",
      "\u001B[36mFile \u001B[39m\u001B[32mpandas/_libs/index.pyx:196\u001B[39m, in \u001B[36mpandas._libs.index.IndexEngine.get_loc\u001B[39m\u001B[34m()\u001B[39m\n",
      "\u001B[36mFile \u001B[39m\u001B[32mpandas/_libs/hashtable_class_helper.pxi:7088\u001B[39m, in \u001B[36mpandas._libs.hashtable.PyObjectHashTable.get_item\u001B[39m\u001B[34m()\u001B[39m\n",
      "\u001B[36mFile \u001B[39m\u001B[32mpandas/_libs/hashtable_class_helper.pxi:7096\u001B[39m, in \u001B[36mpandas._libs.hashtable.PyObjectHashTable.get_item\u001B[39m\u001B[34m()\u001B[39m\n",
      "\u001B[31mKeyError\u001B[39m: 'isup_grade'",
      "\nThe above exception was the direct cause of the following exception:\n",
      "\u001B[31mKeyError\u001B[39m                                  Traceback (most recent call last)",
      "\u001B[36mCell\u001B[39m\u001B[36m \u001B[39m\u001B[32mIn[19]\u001B[39m\u001B[32m, line 17\u001B[39m\n\u001B[32m      1\u001B[39m N = \u001B[32m1000\u001B[39m\n\u001B[32m      3\u001B[39m df_sampled = (\n\u001B[32m      4\u001B[39m     df.groupby(\u001B[33m\"\u001B[39m\u001B[33misup_grade\u001B[39m\u001B[33m\"\u001B[39m, group_keys=\u001B[38;5;28;01mFalse\u001B[39;00m)\n\u001B[32m      5\u001B[39m       .apply(\n\u001B[32m   (...)\u001B[39m\u001B[32m      9\u001B[39m       .reset_index(drop=\u001B[38;5;28;01mTrue\u001B[39;00m)\n\u001B[32m     10\u001B[39m )\n\u001B[32m     12\u001B[39m train_df, val_test_df = train_test_split(\n\u001B[32m     13\u001B[39m     df_sampled,\n\u001B[32m     14\u001B[39m     test_size=\u001B[32m0.3\u001B[39m,          \u001B[38;5;66;03m# 70% treino, 30% (val+test)\u001B[39;00m\n\u001B[32m     15\u001B[39m     random_state=SEED,\n\u001B[32m     16\u001B[39m     shuffle=\u001B[38;5;28;01mTrue\u001B[39;00m,\n\u001B[32m---> \u001B[39m\u001B[32m17\u001B[39m     stratify=\u001B[43mdf_sampled\u001B[49m\u001B[43m[\u001B[49m\u001B[33;43m\"\u001B[39;49m\u001B[33;43misup_grade\u001B[39;49m\u001B[33;43m\"\u001B[39;49m\u001B[43m]\u001B[49m\n\u001B[32m     18\u001B[39m )\n\u001B[32m     20\u001B[39m val_df, test_df = train_test_split(\n\u001B[32m     21\u001B[39m     val_test_df,\n\u001B[32m     22\u001B[39m     test_size=\u001B[32m0.5\u001B[39m,          \u001B[38;5;66;03m# 15% val, 15% test\u001B[39;00m\n\u001B[32m   (...)\u001B[39m\u001B[32m     25\u001B[39m     stratify=val_test_df[\u001B[33m\"\u001B[39m\u001B[33misup_grade\u001B[39m\u001B[33m\"\u001B[39m]\n\u001B[32m     26\u001B[39m )\n\u001B[32m     28\u001B[39m train_df.to_csv(\u001B[33m\"\u001B[39m\u001B[33msample/train.csv\u001B[39m\u001B[33m\"\u001B[39m, index=\u001B[38;5;28;01mFalse\u001B[39;00m)\n",
      "\u001B[36mFile \u001B[39m\u001B[32m~/Projects/Doutorado/repo/.venv/lib/python3.12/site-packages/pandas/core/frame.py:4107\u001B[39m, in \u001B[36mDataFrame.__getitem__\u001B[39m\u001B[34m(self, key)\u001B[39m\n\u001B[32m   4105\u001B[39m \u001B[38;5;28;01mif\u001B[39;00m \u001B[38;5;28mself\u001B[39m.columns.nlevels > \u001B[32m1\u001B[39m:\n\u001B[32m   4106\u001B[39m     \u001B[38;5;28;01mreturn\u001B[39;00m \u001B[38;5;28mself\u001B[39m._getitem_multilevel(key)\n\u001B[32m-> \u001B[39m\u001B[32m4107\u001B[39m indexer = \u001B[38;5;28;43mself\u001B[39;49m\u001B[43m.\u001B[49m\u001B[43mcolumns\u001B[49m\u001B[43m.\u001B[49m\u001B[43mget_loc\u001B[49m\u001B[43m(\u001B[49m\u001B[43mkey\u001B[49m\u001B[43m)\u001B[49m\n\u001B[32m   4108\u001B[39m \u001B[38;5;28;01mif\u001B[39;00m is_integer(indexer):\n\u001B[32m   4109\u001B[39m     indexer = [indexer]\n",
      "\u001B[36mFile \u001B[39m\u001B[32m~/Projects/Doutorado/repo/.venv/lib/python3.12/site-packages/pandas/core/indexes/base.py:3819\u001B[39m, in \u001B[36mIndex.get_loc\u001B[39m\u001B[34m(self, key)\u001B[39m\n\u001B[32m   3814\u001B[39m     \u001B[38;5;28;01mif\u001B[39;00m \u001B[38;5;28misinstance\u001B[39m(casted_key, \u001B[38;5;28mslice\u001B[39m) \u001B[38;5;129;01mor\u001B[39;00m (\n\u001B[32m   3815\u001B[39m         \u001B[38;5;28misinstance\u001B[39m(casted_key, abc.Iterable)\n\u001B[32m   3816\u001B[39m         \u001B[38;5;129;01mand\u001B[39;00m \u001B[38;5;28many\u001B[39m(\u001B[38;5;28misinstance\u001B[39m(x, \u001B[38;5;28mslice\u001B[39m) \u001B[38;5;28;01mfor\u001B[39;00m x \u001B[38;5;129;01min\u001B[39;00m casted_key)\n\u001B[32m   3817\u001B[39m     ):\n\u001B[32m   3818\u001B[39m         \u001B[38;5;28;01mraise\u001B[39;00m InvalidIndexError(key)\n\u001B[32m-> \u001B[39m\u001B[32m3819\u001B[39m     \u001B[38;5;28;01mraise\u001B[39;00m \u001B[38;5;167;01mKeyError\u001B[39;00m(key) \u001B[38;5;28;01mfrom\u001B[39;00m\u001B[38;5;250m \u001B[39m\u001B[34;01merr\u001B[39;00m\n\u001B[32m   3820\u001B[39m \u001B[38;5;28;01mexcept\u001B[39;00m \u001B[38;5;167;01mTypeError\u001B[39;00m:\n\u001B[32m   3821\u001B[39m     \u001B[38;5;66;03m# If we have a listlike key, _check_indexing_error will raise\u001B[39;00m\n\u001B[32m   3822\u001B[39m     \u001B[38;5;66;03m#  InvalidIndexError. Otherwise we fall through and re-raise\u001B[39;00m\n\u001B[32m   3823\u001B[39m     \u001B[38;5;66;03m#  the TypeError.\u001B[39;00m\n\u001B[32m   3824\u001B[39m     \u001B[38;5;28mself\u001B[39m._check_indexing_error(key)\n",
      "\u001B[31mKeyError\u001B[39m: 'isup_grade'"
     ]
    }
   ],
   "execution_count": 19
  }
 ],
 "metadata": {
  "kernelspec": {
   "display_name": "Python 3",
   "language": "python",
   "name": "python3"
  },
  "language_info": {
   "codemirror_mode": {
    "name": "ipython",
    "version": 2
   },
   "file_extension": ".py",
   "mimetype": "text/x-python",
   "name": "python",
   "nbconvert_exporter": "python",
   "pygments_lexer": "ipython2",
   "version": "2.7.6"
  }
 },
 "nbformat": 4,
 "nbformat_minor": 5
}
