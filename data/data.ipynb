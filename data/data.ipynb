{
 "cells": [
  {
   "cell_type": "code",
   "id": "initial_id",
   "metadata": {
    "collapsed": true,
    "ExecuteTime": {
     "end_time": "2025-08-05T00:05:42.643317Z",
     "start_time": "2025-08-05T00:05:42.302314Z"
    }
   },
   "source": [
    "import pandas as pd\n",
    "from sklearn.model_selection import train_test_split\n",
    "from sklearn.model_selection import StratifiedKFold"
   ],
   "outputs": [],
   "execution_count": 1
  },
  {
   "cell_type": "code",
   "execution_count": 3,
   "id": "86605af49b437830",
   "metadata": {
    "ExecuteTime": {
     "end_time": "2025-02-28T18:01:04.121863Z",
     "start_time": "2025-02-28T18:01:04.119259Z"
    }
   },
   "outputs": [],
   "source": [
    "# df = pd.read_csv(\"../../dataset/train.csv\")\n",
    "# df.head()"
   ]
  },
  {
   "cell_type": "code",
   "execution_count": 4,
   "id": "1b3d795615e41dfe",
   "metadata": {
    "ExecuteTime": {
     "end_time": "2025-02-28T18:01:04.168511Z",
     "start_time": "2025-02-28T18:01:04.165913Z"
    }
   },
   "outputs": [],
   "source": [
    "# train_df, val_test_df = train_test_split(df, test_size=0.3, random_state=42, shuffle=True, stratify=df[\"isup_grade\"])\n",
    "# test_df, val_df = train_test_split(val_test_df, test_size=0.5, random_state=42, shuffle=True, stratify=val_test_df[\"isup_grade\"])"
   ]
  },
  {
   "cell_type": "code",
   "execution_count": 5,
   "id": "a7e4a1ad0b0812a3",
   "metadata": {
    "ExecuteTime": {
     "end_time": "2025-02-28T18:01:04.216403Z",
     "start_time": "2025-02-28T18:01:04.213695Z"
    }
   },
   "outputs": [],
   "source": [
    "# (train_df.shape, val_df.shape, test_df.shape)"
   ]
  },
  {
   "cell_type": "code",
   "execution_count": 6,
   "id": "bc78feb47716e07b",
   "metadata": {
    "ExecuteTime": {
     "end_time": "2025-02-28T18:01:04.267415Z",
     "start_time": "2025-02-28T18:01:04.265087Z"
    }
   },
   "outputs": [],
   "source": [
    "# train_df.to_csv(\"train.csv\", index=False)\n",
    "# val_df.to_csv(\"val.csv\", index=False)\n",
    "# test_df.to_csv(\"test.csv\", index=False)"
   ]
  },
  {
   "cell_type": "code",
   "execution_count": 7,
   "id": "2e0a688514899240",
   "metadata": {
    "ExecuteTime": {
     "end_time": "2025-02-28T18:01:04.309415Z",
     "start_time": "2025-02-28T18:01:04.307102Z"
    }
   },
   "outputs": [],
   "source": [
    "# train_val_df = pd.concat([train_df, val_df], axis=0)"
   ]
  },
  {
   "cell_type": "code",
   "execution_count": 8,
   "id": "c677e41fa23c8d84",
   "metadata": {
    "ExecuteTime": {
     "end_time": "2025-02-28T18:01:04.355422Z",
     "start_time": "2025-02-28T18:01:04.353022Z"
    }
   },
   "outputs": [],
   "source": [
    "# train_val_df.to_csv(\"train_val.csv\", index=False)"
   ]
  },
  {
   "cell_type": "code",
   "execution_count": 9,
   "id": "9ffe2a2847a33f06",
   "metadata": {
    "ExecuteTime": {
     "end_time": "2025-02-28T18:01:04.401368Z",
     "start_time": "2025-02-28T18:01:04.398932Z"
    }
   },
   "outputs": [],
   "source": [
    "n_folds = 5\n",
    "seed = 42\n",
    "shuffle = True\n",
    "train_val_df.columns = train_val_df.columns.str.strip()\n",
    "\n",
    "train_val_df = train_val_df.reset_index(drop=True)\n",
    "stratified_k_fold = StratifiedKFold(n_folds, shuffle = shuffle, random_state=seed)\n",
    "train_val_df['fold'] = -1\n",
    "\n",
    "train_val_df.head()\n",
    "for i, (train_indexes, valid_indexes) in enumerate(stratified_k_fold.split(train_val_df, train_val_df['isup_grade'])):\n",
    "    train_val_df.loc[valid_indexes, 'fold'] = i\n",
    "train_val_df.to_csv(f'train_{n_folds}fold.csv', index=False)"
   ]
  },
  {
   "cell_type": "code",
   "execution_count": 10,
   "id": "260b5661053b740e",
   "metadata": {
    "ExecuteTime": {
     "end_time": "2025-02-28T18:01:04.447437Z",
     "start_time": "2025-02-28T18:01:04.444841Z"
    }
   },
   "outputs": [],
   "source": [
    "# df = pd.read_csv(f\"train_{n_folds}fold.csv\")"
   ]
  },
  {
   "cell_type": "code",
   "execution_count": 11,
   "id": "b6cd2b3ed2340422",
   "metadata": {
    "ExecuteTime": {
     "end_time": "2025-02-28T18:01:04.495851Z",
     "start_time": "2025-02-28T18:01:04.493505Z"
    }
   },
   "outputs": [],
   "source": [
    "# print(df.head())\n",
    "# print(df.shape)"
   ]
  },
  {
   "cell_type": "code",
   "id": "cf4d26237ac96c3f",
   "metadata": {
    "ExecuteTime": {
     "end_time": "2025-08-05T00:05:47.746350Z",
     "start_time": "2025-08-05T00:05:47.727272Z"
    }
   },
   "source": [
    "df = pd.read_csv(\"train_5fold.csv\")\n",
    "df_test = pd.read_csv(\"test.csv\")\n",
    "marks = pd.read_csv(\"without_pen_mask.csv\")"
   ],
   "outputs": [],
   "execution_count": 2
  },
  {
   "metadata": {
    "ExecuteTime": {
     "end_time": "2025-08-05T00:08:29.067351Z",
     "start_time": "2025-08-05T00:08:29.061605Z"
    }
   },
   "cell_type": "code",
   "source": [
    "\n",
    "print(\"train\", df.shape)\n",
    "print(df.value_counts(\"isup_grade\"))\n",
    "print(\"test\", df_test.shape)\n",
    "print(df_test.value_counts(\"isup_grade\"))"
   ],
   "id": "d73751b8c3cb090a",
   "outputs": [
    {
     "name": "stdout",
     "output_type": "stream",
     "text": [
      "train (9024, 5)\n",
      "isup_grade\n",
      "0    2458\n",
      "1    2266\n",
      "2    1142\n",
      "4    1062\n",
      "3    1056\n",
      "5    1040\n",
      "Name: count, dtype: int64\n",
      "test (1592, 4)\n",
      "isup_grade\n",
      "0    434\n",
      "1    400\n",
      "2    201\n",
      "4    187\n",
      "3    186\n",
      "5    184\n",
      "Name: count, dtype: int64\n"
     ]
    }
   ],
   "execution_count": 6
  },
  {
   "cell_type": "code",
   "id": "25fb41d4beea4eac",
   "metadata": {
    "ExecuteTime": {
     "end_time": "2025-03-02T23:26:59.885796Z",
     "start_time": "2025-03-02T23:26:59.878777Z"
    }
   },
   "source": [
    "train = df[df['fold'] != 3]\n",
    "val = df[df['fold'] == 3]\n",
    "\n",
    "print(train.value_counts(\"isup_grade\"))\n",
    "print(val.value_counts(\"isup_grade\"))"
   ],
   "outputs": [
    {
     "name": "stdout",
     "output_type": "stream",
     "text": [
      "isup_grade\n",
      "0    1966\n",
      "1    1813\n",
      "2     913\n",
      "4     850\n",
      "3     845\n",
      "5     832\n",
      "Name: count, dtype: int64\n",
      "isup_grade\n",
      "0    492\n",
      "1    453\n",
      "2    229\n",
      "4    212\n",
      "3    211\n",
      "5    208\n",
      "Name: count, dtype: int64\n"
     ]
    }
   ],
   "execution_count": 11
  },
  {
   "cell_type": "code",
   "execution_count": 19,
   "id": "90733a2aab796a6e",
   "metadata": {
    "ExecuteTime": {
     "end_time": "2025-02-28T18:03:03.647845Z",
     "start_time": "2025-02-28T18:03:03.643278Z"
    }
   },
   "outputs": [
    {
     "data": {
      "text/plain": [
       "(675, 2)"
      ]
     },
     "execution_count": 19,
     "metadata": {},
     "output_type": "execute_result"
    }
   ],
   "source": [
    "df_filtered = df[~df['image_id'].isin(marks['image_id'])]\n",
    "marks.shape"
   ]
  },
  {
   "cell_type": "code",
   "execution_count": 18,
   "id": "86243dfa09256dfe",
   "metadata": {
    "ExecuteTime": {
     "end_time": "2025-02-28T18:02:51.038192Z",
     "start_time": "2025-02-28T18:02:51.034619Z"
    }
   },
   "outputs": [
    {
     "data": {
      "text/plain": [
       "(8464, 5)"
      ]
     },
     "execution_count": 18,
     "metadata": {},
     "output_type": "execute_result"
    }
   ],
   "source": [
    "df_filtered.shape"
   ]
  }
 ],
 "metadata": {
  "kernelspec": {
   "display_name": "Python 3",
   "language": "python",
   "name": "python3"
  },
  "language_info": {
   "codemirror_mode": {
    "name": "ipython",
    "version": 2
   },
   "file_extension": ".py",
   "mimetype": "text/x-python",
   "name": "python",
   "nbconvert_exporter": "python",
   "pygments_lexer": "ipython2",
   "version": "2.7.6"
  }
 },
 "nbformat": 4,
 "nbformat_minor": 5
}
